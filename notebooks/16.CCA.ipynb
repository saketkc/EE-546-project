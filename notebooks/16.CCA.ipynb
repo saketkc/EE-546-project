{
 "cells": [
  {
   "cell_type": "code",
   "execution_count": 1,
   "metadata": {},
   "outputs": [
    {
     "name": "stdout",
     "output_type": "stream",
     "text": [
      "Populating the interactive namespace from numpy and matplotlib\n"
     ]
    }
   ],
   "source": [
    "%pylab inline\n",
    "import pandas as pd"
   ]
  },
  {
   "cell_type": "code",
   "execution_count": 2,
   "metadata": {},
   "outputs": [],
   "source": [
    "df_yeast = pd.read_table('../PNAS_2000_datasets/Yeast.txt', header=1)\n",
    "df_yeast= df_yeast.loc[:, '0_min':]\n",
    "df_yeast = df_yeast.replace('Null', np.nan)\n",
    "df_yeast = df_yeast.astype(float)\n",
    "df_human = pd.read_table('../PNAS_2000_datasets/Human.txt', header=1)\n",
    "df_human = df_human.loc[:, '2_hr':]\n",
    "df_human = df_human.replace('Null', np.nan)\n",
    "df_human = df_human.astype(float)"
   ]
  },
  {
   "cell_type": "code",
   "execution_count": 3,
   "metadata": {},
   "outputs": [],
   "source": [
    "def SVD_impute(df):\n",
    "    \"\"\"Perform SVD imputing.\n",
    "    \n",
    "    \n",
    "    Parameters\n",
    "    ----------\n",
    "    matrix: array_like\n",
    "            Array with rows as genes and columns as tissues/samples\n",
    "            with nans for missing values\n",
    "    \n",
    "    Returns\n",
    "    -------\n",
    "    filled_matrix: array_like\n",
    "                   Imputed matrix with entries filled by relying on eigengenes    \n",
    "    \"\"\"\n",
    "    \n",
    "    null_idx = pd.isnull(df).any(1).nonzero()[0]\n",
    "\n",
    "    full_matrix = df.values\n",
    "    non_null_matrix  = df.dropna().values\n",
    "    U, S, V_T = np.linalg.svd(non_null_matrix)\n",
    "    V =  V_T.T\n",
    "    \n",
    "    for index in null_idx:\n",
    "        x = full_matrix[index,:]\n",
    "\n",
    "        # index of entries where the row is nan\n",
    "        row_na_idx = np.where(np.isnan(x))\n",
    "        \n",
    "        # index of entries where the row is not nan        \n",
    "        row_not_na_idx = np.where(~np.isnan(x))\n",
    "        \n",
    "        \n",
    "        # entries from row which are not nan        \n",
    "        x_star_not_na = x[row_not_na_idx]\n",
    "        \n",
    "         # entries from row which are not nan        \n",
    "        x_star_na = x[row_na_idx]\n",
    "\n",
    "        # Eigen genes corresponding to index \n",
    "        # of locations (columns) in row x which are nan\n",
    "        V_star_na = np.delete(V, row_not_na_idx, 0)\n",
    "        \n",
    "        \n",
    "        # Delete rows from V, corresponding to index \n",
    "        # of locations (columns) in row x which are nan\n",
    "        # We will use these to project the row with complete\n",
    "        V_star_not_na = np.delete(V, row_na_idx, 0)\n",
    "\n",
    "\n",
    "        gram = np.dot(V_star_not_na.T, V_star_not_na)\n",
    "        coeff = np.dot(np.linalg.pinv(gram), V_star_not_na.T)\n",
    "\n",
    "        beta = np.dot(coeff, x_star_not_na)\n",
    "        \n",
    "        # xhat = V_J \\beta\n",
    "        x_missing = np.dot(V_star_na, beta)\n",
    "        \n",
    "        # Fill in the missing entries\n",
    "        full_matrix[index, row_na_idx] = x_missing\n",
    "    return full_matrix\n",
    "\n",
    "def plot_SVD_utils(U, S, VT):\n",
    "    V = VT.T\n",
    "    fig, axes = plt.subplots(nrows=2, ncols=3, figsize=(30, 20))\n",
    "    ax = axes[0, 0]\n",
    "    sns.heatmap(V, square=True, cmap='RdBu', ax=ax, cbar=False)\n",
    "    \n",
    "    ax = axes[0, 1]\n",
    "    sns.barplot(x=np.arange(1, len(S)+1), y=S**2/np.sum(S**2), ax=ax, color=sns.color_palette('Set2')[1])\n",
    "    \n",
    "    ax = axes[0, 2]\n",
    "    ax.plot(V[:, 0], marker='o')\n",
    "    \n",
    "    ax = axes[1, 0]\n",
    "    ax.plot(V[:, 1], marker='o')\n",
    "    \n",
    "    ax = axes[1, 1]\n",
    "    ax.plot(V[:, 2], marker='o')\n",
    "    \n",
    "    ax = axes[1, 2]\n",
    "    ax.plot(V[:, 3], marker='o')\n",
    "    \n",
    "    \n",
    "    \n",
    "    \n",
    "    "
   ]
  },
  {
   "cell_type": "code",
   "execution_count": 4,
   "metadata": {},
   "outputs": [],
   "source": [
    "full_matrix_human = SVD_impute(df_human)\n",
    "full_matrix_yeast = SVD_impute(df_yeast)"
   ]
  },
  {
   "cell_type": "code",
   "execution_count": 5,
   "metadata": {},
   "outputs": [],
   "source": [
    "from sklearn.cross_decomposition import PLSCanonical, PLSRegression, CCA\n"
   ]
  },
  {
   "cell_type": "code",
   "execution_count": null,
   "metadata": {},
   "outputs": [],
   "source": [
    "cca = CCA(n_components=2)\n",
    "cca.fit(X_train, Y_train)\n",
    "X_train_r, Y_train_r = cca.transform(X_train, Y_train)\n",
    "X_test_r, Y_test_r = cca.transform(X_test, Y_test)"
   ]
  }
 ],
 "metadata": {
  "kernelspec": {
   "display_name": "Python [conda env:scanpy]",
   "language": "python",
   "name": "conda-env-scanpy-py"
  },
  "language_info": {
   "codemirror_mode": {
    "name": "ipython",
    "version": 3
   },
   "file_extension": ".py",
   "mimetype": "text/x-python",
   "name": "python",
   "nbconvert_exporter": "python",
   "pygments_lexer": "ipython3",
   "version": "3.6.6"
  }
 },
 "nbformat": 4,
 "nbformat_minor": 2
}
