{
 "cells": [
  {
   "cell_type": "code",
   "execution_count": 2,
   "metadata": {},
   "outputs": [
    {
     "name": "stdout",
     "output_type": "stream",
     "text": [
      "Populating the interactive namespace from numpy and matplotlib\n"
     ]
    }
   ],
   "source": [
    "%pylab inline\n",
    "from collections import Counter\n",
    "import pandas as pd\n",
    "import glob\n",
    "import os\n"
   ]
  },
  {
   "cell_type": "code",
   "execution_count": 19,
   "metadata": {},
   "outputs": [],
   "source": [
    "columns = Counter()\n",
    "for f in glob.glob('../cross-species-data/SRP007412-*'):\n",
    "    if 'kallisto' in f:\n",
    "        continue\n",
    "    columns += Counter(pd.read_table(f).columns.tolist())\n",
    "    "
   ]
  },
  {
   "cell_type": "code",
   "execution_count": 20,
   "metadata": {},
   "outputs": [
    {
     "data": {
      "text/plain": [
       "cb_M_2        1\n",
       "br_F_2        1\n",
       "kd_M_2        2\n",
       "ht_M_2        2\n",
       "br_M_5        2\n",
       "br_M_4        2\n",
       "br_M_3        2\n",
       "lv_M_2        2\n",
       "br_M_2        4\n",
       "ts_M_2        6\n",
       "cb_M_1        9\n",
       "lv_F_1        9\n",
       "ts_M_1        9\n",
       "target_id    10\n",
       "kd_F_1       10\n",
       "ht_M_1       10\n",
       "ht_F_1       10\n",
       "cb_F_1       10\n",
       "br_M_1       10\n",
       "br_F_1       10\n",
       "kd_M_1       10\n",
       "lv_M_1       10\n",
       "dtype: int64"
      ]
     },
     "execution_count": 20,
     "metadata": {},
     "output_type": "execute_result"
    }
   ],
   "source": [
    "pd.Series(columns).sort_values()"
   ]
  },
  {
   "cell_type": "code",
   "execution_count": 21,
   "metadata": {},
   "outputs": [],
   "source": [
    "SRP007412_cols_to_use = ['cb_M_1', 'lv_F_1', 'ts_M_1',\n",
    "                         'target_id', 'kd_F_1', 'ht_M_1',\n",
    "                         'ht_F_1', 'cb_F_1', 'br_M_1',\n",
    "                         'br_F_1', 'kd_M_1', 'lv_M_1']\n"
   ]
  },
  {
   "cell_type": "code",
   "execution_count": 14,
   "metadata": {},
   "outputs": [],
   "source": [
    "columns = Counter()\n",
    "for f in glob.glob('../cross-species-data/SRP016501-*'):\n",
    "    if 'kallisto' in f:\n",
    "        continue\n",
    "    columns += Counter(pd.read_table(f).columns.tolist())\n",
    "    "
   ]
  },
  {
   "cell_type": "code",
   "execution_count": 15,
   "metadata": {},
   "outputs": [
    {
     "data": {
      "text/plain": [
       "b_heart      4\n",
       "target_id    5\n",
       "c_skm        5\n",
       "c_lung       5\n",
       "c_liver      5\n",
       "c_kidney     5\n",
       "c_heart      5\n",
       "c_colon      5\n",
       "c_brain      5\n",
       "b_testes     5\n",
       "b_spleen     5\n",
       "b_skm        5\n",
       "b_lung       5\n",
       "b_liver      5\n",
       "b_kidney     5\n",
       "b_colon      5\n",
       "b_brain      5\n",
       "a_testes     5\n",
       "a_spleen     5\n",
       "a_skm        5\n",
       "a_lung       5\n",
       "a_liver      5\n",
       "a_kidney     5\n",
       "a_heart      5\n",
       "a_colon      5\n",
       "a_brain      5\n",
       "c_spleen     5\n",
       "c_testes     5\n",
       "dtype: int64"
      ]
     },
     "execution_count": 15,
     "metadata": {},
     "output_type": "execute_result"
    }
   ],
   "source": [
    "pd.Series(columns).sort_values()"
   ]
  },
  {
   "cell_type": "code",
   "execution_count": null,
   "metadata": {},
   "outputs": [],
   "source": []
  }
 ],
 "metadata": {
  "kernelspec": {
   "display_name": "Python [conda env:scanpy]",
   "language": "python",
   "name": "conda-env-scanpy-py"
  },
  "language_info": {
   "codemirror_mode": {
    "name": "ipython",
    "version": 3
   },
   "file_extension": ".py",
   "mimetype": "text/x-python",
   "name": "python",
   "nbconvert_exporter": "python",
   "pygments_lexer": "ipython3",
   "version": "3.6.6"
  }
 },
 "nbformat": 4,
 "nbformat_minor": 2
}
