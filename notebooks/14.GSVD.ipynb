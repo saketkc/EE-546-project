{
 "cells": [
  {
   "cell_type": "code",
   "execution_count": null,
   "metadata": {},
   "outputs": [],
   "source": [
    "function [U,V,C,S,X]=gsvdR(A,B,R,full)\n",
    "%GSVDR GSVD algorithm with possible least squares approach to [A' B']'\n",
    "%The algorithm is the one proposed by Paige and Saunders (1981) if\n",
    "%full='yes'; else, it gives the least squares approximation to the\n",
    "%concatenated data [A' B'] (see Friedland, 2004)\n",
    "%INPUT: A: first data block\n",
    "%       B: second data block with same number of columns as A\n",
    "%       R: the desired rank of the approximation\n",
    "%       full: 'yes' or 'no' to indicate whether the ordinary GSVD is wanted\n",
    "%              ('yes') or the adapted GSVD with rank R approximation ('no')\n",
    "\n",
    "%Author: Katrijn Van Deun\n",
    " \n",
    "[m,n1]=size(A);\n",
    "[p,n2]=size(B);\n",
    "if n1==n2\n",
    "    n=n1;\n",
    "else\n",
    "    fprintf('The data should have the same number of columns \\n');\n",
    "    U=[];\n",
    "    V=[];\n",
    "    C=[];\n",
    "    S=[];\n",
    "    X=[];\n",
    "    return;\n",
    "end;\n",
    "%Step 1\n",
    "[P,R0,Q]=svd([A;B]);\n",
    "nonzerosigma=find(diag(R0)>1e-12);\n",
    "switch full\n",
    "    case 'yes'\n",
    "        k=size(nonzerosigma,1); \n",
    "        fprintf('Rank of concatenated data is %3.0f \\n',k)\n",
    "    case 'no'\n",
    "        k=R;\n",
    "end;\n",
    "%Step 2a\n",
    "P11=P(1:m,1:k);\n",
    "[U SA W1]=svd(P11);\n",
    "C=SA;\n",
    "%Step 2b\n",
    "P21=P(m+1:m+p,1:k);\n",
    "[VB SB W]=svd(P21);\n",
    "kr=min([p k]);\n",
    "S=zeros(p,k);\n",
    "S(p:-1:p-kr+1,k:-1:k-kr+1)=SB(1:1:kr,1:1:kr);\n",
    "V=P21*W1*pinv(S);\n",
    " \n",
    "Z=zeros(k,n-k);\n",
    "X=[W1'*R0(1:k,1:k) Z]*Q';\n"
   ]
  },
  {
   "cell_type": "code",
   "execution_count": 2,
   "metadata": {},
   "outputs": [
    {
     "name": "stdout",
     "output_type": "stream",
     "text": [
      "Populating the interactive namespace from numpy and matplotlib\n"
     ]
    }
   ],
   "source": [
    "%pylab inline\n",
    "import pandas as pd\n",
    "from numpy.linalg import matrix_rank\n",
    "from numpy.linalg import pinv as moore_penrose_inverse\n",
    "from numpy.linalg import svd"
   ]
  },
  {
   "cell_type": "code",
   "execution_count": 212,
   "metadata": {},
   "outputs": [],
   "source": [
    "def GSVD(A, B):\n",
    "    \"\"\" Implements GSVD from Paige and Saunders (1981)\n",
    "    \n",
    "    Parameters\n",
    "    ----------\n",
    "    A, B: array_like\n",
    "          Input Matrix\n",
    "          \n",
    "    Returns\n",
    "    -------\n",
    "    \n",
    "    U: array_like\n",
    "       \n",
    "    V: array_like\n",
    "    \n",
    "\n",
    "       \n",
    "    \"\"\"\n",
    "    assert A.shape[1] == B.shape[1], 'A, B need same number of columns'\n",
    "    m, n = A.shape\n",
    "    p, n = B.shape\n",
    "    \n",
    "    # C.T = (A.T, B.T)\n",
    "    C = np.vstack([A, B])\n",
    "    \n",
    "    # Step 1\n",
    "    # P.T C Q = (R 0; 0 0)\n",
    "    P, R, QT = svd(C)\n",
    "    \n",
    "    nonzero_sigma = R[R>1e-12]\n",
    "    # r = matrix_rank(C)\n",
    "    r = len(nonzero_sigma)\n",
    "    l = matrix_rank(B)\n",
    "\n",
    "    P11 = P[:m, :r]\n",
    "    P21 = P[m:m+p, :r]\n",
    "\n",
    "    U, Sigma_A, W1 = svd(P11, full_matrices=True)    \n",
    "    V, Sigma_B, W2 = svd(P21, full_matrices=True)    \n",
    "\n",
    "    kr = min([p, r])\n",
    "    k = r - l\n",
    "    S_B = np.zeros((p, r))\n",
    "    \n",
    "    indices1 = np.arange(p-1,  p-kr-1, -1)\n",
    "    indices2 = np.arange(r-1, r-kr-1, -1)\n",
    "    values = Sigma_B[np.arange(0, kr)]\n",
    "    S_B[indices1, indices2] = list(values)\n",
    "    \n",
    "    V = np.dot(np.dot(P21, W1), moore_penrose_inverse(S_B))\n",
    "    Sigma_A = np.diag(Sigma_A)\n",
    "    alpha = np.sqrt(np.diag(np.dot(Sigma_A.T, Sigma_A)))\n",
    "    beta = np.sqrt(np.diag(np.dot(Sigma_B.T, Sigma_B)))\n",
    "    return U, V, alpha, beta\n"
   ]
  },
  {
   "cell_type": "code",
   "execution_count": 213,
   "metadata": {},
   "outputs": [],
   "source": [
    "A = np.array([[1, 2, 3, 1, 5],\n",
    "              [0, 3, 2, 0, 2],\n",
    "              [1, 0, 2, 1, 0],\n",
    "              [0, 2, 3, 0, -1],\n",
    "              [1, 0, 2, 1, 1],\n",
    "              [0, 2, 1, 0, 1]])\n",
    "\n",
    "\n",
    "B = np.array([[1, -2, 2, 1, 1],\n",
    "              [0, 3, 0, 0, 0],\n",
    "              [1, -2, 2, 1, 1],\n",
    "              [0, 2, 0, 0, 0],\n",
    "              [2, -4, 4, 2, 2],\n",
    "              [1, 3, 2, 1, 1]])"
   ]
  },
  {
   "cell_type": "code",
   "execution_count": 214,
   "metadata": {},
   "outputs": [
    {
     "data": {
      "text/plain": [
       "(6, 5)"
      ]
     },
     "execution_count": 214,
     "metadata": {},
     "output_type": "execute_result"
    }
   ],
   "source": [
    "A.shape"
   ]
  },
  {
   "cell_type": "code",
   "execution_count": 215,
   "metadata": {},
   "outputs": [
    {
     "data": {
      "text/plain": [
       "(6, 5)"
      ]
     },
     "execution_count": 215,
     "metadata": {},
     "output_type": "execute_result"
    }
   ],
   "source": [
    "B.shape"
   ]
  },
  {
   "cell_type": "code",
   "execution_count": 216,
   "metadata": {},
   "outputs": [
    {
     "ename": "ValueError",
     "evalue": "Input must be 1- or 2-d.",
     "output_type": "error",
     "traceback": [
      "\u001b[0;31m---------------------------------------------------------------------------\u001b[0m",
      "\u001b[0;31mValueError\u001b[0m                                Traceback (most recent call last)",
      "\u001b[0;32m<ipython-input-216-0fb4bc3ca0aa>\u001b[0m in \u001b[0;36m<module>\u001b[0;34m()\u001b[0m\n\u001b[0;32m----> 1\u001b[0;31m \u001b[0mU\u001b[0m\u001b[0;34m,\u001b[0m \u001b[0mV\u001b[0m\u001b[0;34m,\u001b[0m \u001b[0malpha\u001b[0m\u001b[0;34m,\u001b[0m \u001b[0mbeta\u001b[0m \u001b[0;34m=\u001b[0m \u001b[0mGSVD\u001b[0m\u001b[0;34m(\u001b[0m\u001b[0mA\u001b[0m\u001b[0;34m,\u001b[0m \u001b[0mB\u001b[0m\u001b[0;34m)\u001b[0m\u001b[0;34m\u001b[0m\u001b[0m\n\u001b[0m",
      "\u001b[0;32m<ipython-input-212-b7a7fca1d634>\u001b[0m in \u001b[0;36mGSVD\u001b[0;34m(A, B)\u001b[0m\n\u001b[1;32m     51\u001b[0m     \u001b[0mSigma_A\u001b[0m \u001b[0;34m=\u001b[0m \u001b[0mnp\u001b[0m\u001b[0;34m.\u001b[0m\u001b[0mdiag\u001b[0m\u001b[0;34m(\u001b[0m\u001b[0mSigma_A\u001b[0m\u001b[0;34m)\u001b[0m\u001b[0;34m\u001b[0m\u001b[0m\n\u001b[1;32m     52\u001b[0m     \u001b[0malpha\u001b[0m \u001b[0;34m=\u001b[0m \u001b[0mnp\u001b[0m\u001b[0;34m.\u001b[0m\u001b[0msqrt\u001b[0m\u001b[0;34m(\u001b[0m\u001b[0mnp\u001b[0m\u001b[0;34m.\u001b[0m\u001b[0mdiag\u001b[0m\u001b[0;34m(\u001b[0m\u001b[0mnp\u001b[0m\u001b[0;34m.\u001b[0m\u001b[0mdot\u001b[0m\u001b[0;34m(\u001b[0m\u001b[0mSigma_A\u001b[0m\u001b[0;34m.\u001b[0m\u001b[0mT\u001b[0m\u001b[0;34m,\u001b[0m \u001b[0mSigma_A\u001b[0m\u001b[0;34m)\u001b[0m\u001b[0;34m)\u001b[0m\u001b[0;34m)\u001b[0m\u001b[0;34m\u001b[0m\u001b[0m\n\u001b[0;32m---> 53\u001b[0;31m     \u001b[0mbeta\u001b[0m \u001b[0;34m=\u001b[0m \u001b[0mnp\u001b[0m\u001b[0;34m.\u001b[0m\u001b[0msqrt\u001b[0m\u001b[0;34m(\u001b[0m\u001b[0mnp\u001b[0m\u001b[0;34m.\u001b[0m\u001b[0mdiag\u001b[0m\u001b[0;34m(\u001b[0m\u001b[0mnp\u001b[0m\u001b[0;34m.\u001b[0m\u001b[0mdot\u001b[0m\u001b[0;34m(\u001b[0m\u001b[0mSigma_B\u001b[0m\u001b[0;34m.\u001b[0m\u001b[0mT\u001b[0m\u001b[0;34m,\u001b[0m \u001b[0mSigma_B\u001b[0m\u001b[0;34m)\u001b[0m\u001b[0;34m)\u001b[0m\u001b[0;34m)\u001b[0m\u001b[0;34m\u001b[0m\u001b[0m\n\u001b[0m\u001b[1;32m     54\u001b[0m     \u001b[0;32mreturn\u001b[0m \u001b[0mU\u001b[0m\u001b[0;34m,\u001b[0m \u001b[0mV\u001b[0m\u001b[0;34m,\u001b[0m \u001b[0malpha\u001b[0m\u001b[0;34m,\u001b[0m \u001b[0mbeta\u001b[0m\u001b[0;34m\u001b[0m\u001b[0m\n",
      "\u001b[0;32m/home/cmb-panasas2/skchoudh/software_frozen/anaconda27/envs/riboraptor/lib/python3.6/site-packages/numpy/lib/twodim_base.py\u001b[0m in \u001b[0;36mdiag\u001b[0;34m(v, k)\u001b[0m\n\u001b[1;32m    263\u001b[0m         \u001b[0;32mreturn\u001b[0m \u001b[0mdiagonal\u001b[0m\u001b[0;34m(\u001b[0m\u001b[0mv\u001b[0m\u001b[0;34m,\u001b[0m \u001b[0mk\u001b[0m\u001b[0;34m)\u001b[0m\u001b[0;34m\u001b[0m\u001b[0m\n\u001b[1;32m    264\u001b[0m     \u001b[0;32melse\u001b[0m\u001b[0;34m:\u001b[0m\u001b[0;34m\u001b[0m\u001b[0m\n\u001b[0;32m--> 265\u001b[0;31m         \u001b[0;32mraise\u001b[0m \u001b[0mValueError\u001b[0m\u001b[0;34m(\u001b[0m\u001b[0;34m\"Input must be 1- or 2-d.\"\u001b[0m\u001b[0;34m)\u001b[0m\u001b[0;34m\u001b[0m\u001b[0m\n\u001b[0m\u001b[1;32m    266\u001b[0m \u001b[0;34m\u001b[0m\u001b[0m\n\u001b[1;32m    267\u001b[0m \u001b[0;34m\u001b[0m\u001b[0m\n",
      "\u001b[0;31mValueError\u001b[0m: Input must be 1- or 2-d."
     ]
    }
   ],
   "source": [
    "U, V, alpha, beta = GSVD(A, B)"
   ]
  },
  {
   "cell_type": "code",
   "execution_count": 211,
   "metadata": {},
   "outputs": [
    {
     "data": {
      "text/plain": [
       "array([[1.        , 0.        , 0.        , 0.        ],\n",
       "       [0.        , 1.        , 0.        , 0.        ],\n",
       "       [0.        , 0.        , 0.57884631, 0.        ],\n",
       "       [0.        , 0.        , 0.        , 0.15378845]])"
      ]
     },
     "execution_count": 211,
     "metadata": {},
     "output_type": "execute_result"
    }
   ],
   "source": [
    "alpha"
   ]
  },
  {
   "cell_type": "code",
   "execution_count": 180,
   "metadata": {},
   "outputs": [
    {
     "data": {
      "text/plain": [
       "array([1.12168955e-16, 8.28008025e-01, 9.88149658e-01, 2.41098029e-17,\n",
       "       7.33392243e-17])"
      ]
     },
     "execution_count": 180,
     "metadata": {},
     "output_type": "execute_result"
    }
   ],
   "source": [
    "np.sqrt(np.diag(Sigma_B))"
   ]
  },
  {
   "cell_type": "code",
   "execution_count": 195,
   "metadata": {},
   "outputs": [
    {
     "data": {
      "text/plain": [
       "array([1.        , 1.        , 1.        , 0.56071625, 0.1534935 ])"
      ]
     },
     "execution_count": 195,
     "metadata": {},
     "output_type": "execute_result"
    }
   ],
   "source": [
    "np.sqrt(np.diag(Sigma_A))"
   ]
  },
  {
   "cell_type": "code",
   "execution_count": 196,
   "metadata": {},
   "outputs": [
    {
     "data": {
      "text/plain": [
       "array([2.41098029e-17, 7.33392243e-17, 1.12168955e-16, 8.28008025e-01,\n",
       "       9.88149658e-01])"
      ]
     },
     "execution_count": 196,
     "metadata": {},
     "output_type": "execute_result"
    }
   ],
   "source": [
    "np.sqrt(np.diag(Sigma_B))"
   ]
  },
  {
   "cell_type": "code",
   "execution_count": 198,
   "metadata": {},
   "outputs": [
    {
     "data": {
      "text/plain": [
       "(6, 6)"
      ]
     },
     "execution_count": 198,
     "metadata": {},
     "output_type": "execute_result"
    }
   ],
   "source": [
    "U.shape"
   ]
  },
  {
   "cell_type": "code",
   "execution_count": 199,
   "metadata": {},
   "outputs": [
    {
     "data": {
      "text/plain": [
       "(6, 6)"
      ]
     },
     "execution_count": 199,
     "metadata": {},
     "output_type": "execute_result"
    }
   ],
   "source": [
    "V.shape"
   ]
  },
  {
   "cell_type": "code",
   "execution_count": null,
   "metadata": {},
   "outputs": [],
   "source": []
  }
 ],
 "metadata": {
  "kernelspec": {
   "display_name": "Python [conda env:riboraptor]",
   "language": "python",
   "name": "conda-env-riboraptor-py"
  },
  "language_info": {
   "codemirror_mode": {
    "name": "ipython",
    "version": 3
   },
   "file_extension": ".py",
   "mimetype": "text/x-python",
   "name": "python",
   "nbconvert_exporter": "python",
   "pygments_lexer": "ipython3",
   "version": "3.6.5"
  }
 },
 "nbformat": 4,
 "nbformat_minor": 2
}
