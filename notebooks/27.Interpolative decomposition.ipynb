{
 "cells": [
  {
   "cell_type": "code",
   "execution_count": 25,
   "metadata": {},
   "outputs": [
    {
     "name": "stdout",
     "output_type": "stream",
     "text": [
      "Populating the interactive namespace from numpy and matplotlib\n"
     ]
    }
   ],
   "source": [
    "%pylab inline\n",
    "import pandas as pd\n",
    "import seaborn as sns\n",
    "from collections import Counter, defaultdict\n",
    "import pandas as pd\n",
    "import glob\n",
    "import os\n",
    "import itertools\n",
    "from matplotlib.legend import Legend\n",
    "from matplotlib.lines import Line2D\n",
    "from gcca import GCCA\n",
    "\n",
    "import seaborn as sns\n",
    "sns.set_context('poster')\n",
    "sns.set_style('white')\n",
    "from sklearn.decomposition import PCA\n",
    "from sklearn.cross_decomposition import CCA\n",
    "from ee546_utils import *\n",
    "sns.set_style('white')\n",
    "sns.set_context('paper', font_scale=2)\n",
    "\n",
    "TISSUES_SHORT_FORM_MAP = {'lv': 'liver',\n",
    "                          'skm': 'muscle',\n",
    "                          'br': 'brain',\n",
    "                          'ht': 'heart',\n",
    "                          'kd': 'kidney',\n",
    "                          'cb': 'cerebellum',\n",
    "                          'lv': 'liver',\n",
    "                          'ts': 'testes'\n",
    "                         }\n",
    "\n",
    "SPECIES_COMMON_NAME_MAP = {\"bos_taurus\": \"Cow\",\n",
    "                           \"rattus_norvegicus\": \"Rat\",\n",
    "                           \"pongo_abelii\": \"Orangutan\",\n",
    "                           \"monodelphis_domestica\": \"Opossum\",\n",
    "                           \"macaca_mulatta\": \"Rhesus\",\n",
    "                           \"pan_troglodytes\": \"Chimp\",\n",
    "                           \"mus_musculus\": \"Mouse\",\n",
    "                           \"homo_sapiens\": \"Human\",\n",
    "                           \"gallus_gallus\": \"Chicken\",\n",
    "                           \"ornithorhynchus_anatinus\":  \"Platypus\",\n",
    "                           \"gorilla_gorilla\": \"Gorilla\",\n",
    "                           \"pan_paniscus\": \"Bonobo\"}\n",
    "\n",
    "SPECIES_COMMON_NAME_MAP_SHORT = {\"btaurus\": \"Cow\",\n",
    "                                 \"rnorvegicus\": \"Rat\",\n",
    "                                 \"pabelii\": \"Orangutan\",\n",
    "                                 \"mdomestica\": \"Opposum\",\n",
    "                                 \"mmulatta\": \"Rhesus\",\n",
    "                                 \"ptroglodytes\": \"Chimp\",\n",
    "                                 \"mmusculus\": \"Mouse\",\n",
    "                                 \"hsapiens\": \"Human\",\n",
    "                                 \"ggallus\": \"Chicken\",\n",
    "                                 \"oanatinus\":  \"Platypus\",\n",
    "                                 \"ggorilla\": \"Gorrila\",\n",
    "                                 \"ppaniscus\": \"Bonobo\"}\n",
    "def species_short(name):\n",
    "    return name[0] + name.split('_')[1]"
   ]
  },
  {
   "cell_type": "code",
   "execution_count": 3,
   "metadata": {},
   "outputs": [],
   "source": [
    "import scipy.linalg.interpolative as sli"
   ]
  },
  {
   "cell_type": "code",
   "execution_count": 4,
   "metadata": {},
   "outputs": [],
   "source": [
    "A = np.random.normal(size=(200,10))\n"
   ]
  },
  {
   "cell_type": "code",
   "execution_count": 5,
   "metadata": {},
   "outputs": [],
   "source": [
    "k = 3\n",
    "idx, proj = sli.interp_decomp(A, k)"
   ]
  },
  {
   "cell_type": "code",
   "execution_count": 9,
   "metadata": {},
   "outputs": [],
   "source": [
    "B = sli.reconstruct_skel_matrix(A, k, idx)"
   ]
  },
  {
   "cell_type": "code",
   "execution_count": 10,
   "metadata": {},
   "outputs": [],
   "source": [
    "P = sli.reconstruct_interp_matrix(idx, proj)"
   ]
  },
  {
   "cell_type": "code",
   "execution_count": 12,
   "metadata": {},
   "outputs": [
    {
     "data": {
      "text/plain": [
       "(200, 3)"
      ]
     },
     "execution_count": 12,
     "metadata": {},
     "output_type": "execute_result"
    }
   ],
   "source": [
    "B.shape"
   ]
  },
  {
   "cell_type": "code",
   "execution_count": 13,
   "metadata": {},
   "outputs": [
    {
     "data": {
      "text/plain": [
       "(3, 10)"
      ]
     },
     "execution_count": 13,
     "metadata": {},
     "output_type": "execute_result"
    }
   ],
   "source": [
    "P.shape"
   ]
  },
  {
   "cell_type": "code",
   "execution_count": 14,
   "metadata": {},
   "outputs": [
    {
     "data": {
      "text/plain": [
       "array([[-0.23980771, -0.34633486, -0.19992984,  0.10473385, -0.11166316,\n",
       "        -0.19330649,  0.08716   ,  1.        ,  0.        ,  0.        ],\n",
       "       [-0.24446797,  0.34890309, -0.64153301, -0.07518289,  0.34135002,\n",
       "         0.20184917,  0.22100707,  0.        ,  0.        ,  1.        ],\n",
       "       [ 0.16500034,  0.13770571, -0.23160157, -0.11277886,  0.03112609,\n",
       "         0.15257504,  0.25551029,  0.        ,  1.        ,  0.        ]])"
      ]
     },
     "execution_count": 14,
     "metadata": {},
     "output_type": "execute_result"
    }
   ],
   "source": [
    "P"
   ]
  },
  {
   "cell_type": "code",
   "execution_count": 16,
   "metadata": {},
   "outputs": [
    {
     "name": "stdout",
     "output_type": "stream",
     "text": [
      "../ortholog_tsv/mmusculus_btaurus.tsv\n",
      "../ortholog_tsv/mmusculus_ggallus.tsv\n",
      "../ortholog_tsv/mmusculus_ggorilla.tsv\n",
      "../ortholog_tsv/mmusculus_hsapiens.tsv\n",
      "../ortholog_tsv/mmusculus_mdomestica.tsv\n",
      "../ortholog_tsv/mmusculus_mmulatta.tsv\n",
      "../ortholog_tsv/mmusculus_oanatinus.tsv\n",
      "../ortholog_tsv/mmusculus_pabelii.tsv\n",
      "../ortholog_tsv/mmusculus_ppaniscus.tsv\n",
      "../ortholog_tsv/mmusculus_ptroglodytes.tsv\n",
      "../ortholog_tsv/mmusculus_rnorvegicus.tsv\n"
     ]
    }
   ],
   "source": [
    "ortho_pairwise = {}\n",
    "for f in glob.glob('../ortholog_tsv/*.tsv'):\n",
    "    if 'ortholog_one2one' in f:\n",
    "        continue\n",
    "    second_species = f.split('/')[-1].replace('.tsv', '').split('_')[-1]\n",
    "    print(f)\n",
    "    ortho_pairwise[f.split('/')[-1].replace('.tsv', '')] = pd.read_table(f)[['ensembl_gene_id', '{}_homolog_ensembl_gene'.format(second_species), '{}_homolog_orthology_type'.format(second_species)]].set_index('ensembl_gene_id')"
   ]
  },
  {
   "cell_type": "code",
   "execution_count": 18,
   "metadata": {},
   "outputs": [],
   "source": [
    "kallisto_counts = {}\n",
    "srp_species =  defaultdict(list)\n",
    "for f in glob.glob('../cross-species-data-tpm/SRP016501-*_kallisto_gene_tables.tsv'):\n",
    "    sample_name = f.split('/')[-1].replace('_kallisto_gene_tables.tsv', '')\n",
    "    srp, species = sample_name.split('-')\n",
    "    species = species[0] + species.split('_')[-1]\n",
    "    kallisto_counts['{}_{}'.format(srp, species)] = pd.read_table(f)\n",
    "    srp_species[srp].append(species)               "
   ]
  },
  {
   "cell_type": "code",
   "execution_count": null,
   "metadata": {},
   "outputs": [],
   "source": []
  },
  {
   "cell_type": "code",
   "execution_count": 33,
   "metadata": {},
   "outputs": [],
   "source": [
    "A = kallisto_counts['SRP016501_ggallus']\n",
    "k = 3\n",
    "idx, proj = sli.interp_decomp(A.values, k) "
   ]
  },
  {
   "cell_type": "code",
   "execution_count": 35,
   "metadata": {},
   "outputs": [],
   "source": [
    "B = sli.reconstruct_skel_matrix(A.values, k, idx)\n",
    "P = sli.reconstruct_interp_matrix(idx, proj)"
   ]
  },
  {
   "cell_type": "code",
   "execution_count": 36,
   "metadata": {},
   "outputs": [
    {
     "data": {
      "text/plain": [
       "(18389, 3)"
      ]
     },
     "execution_count": 36,
     "metadata": {},
     "output_type": "execute_result"
    }
   ],
   "source": [
    "B.shape"
   ]
  },
  {
   "cell_type": "code",
   "execution_count": 37,
   "metadata": {},
   "outputs": [
    {
     "data": {
      "text/plain": [
       "(18389, 27)"
      ]
     },
     "execution_count": 37,
     "metadata": {},
     "output_type": "execute_result"
    }
   ],
   "source": [
    "A.shape"
   ]
  },
  {
   "cell_type": "code",
   "execution_count": 45,
   "metadata": {},
   "outputs": [
    {
     "data": {
      "text/plain": [
       "27"
      ]
     },
     "execution_count": 45,
     "metadata": {},
     "output_type": "execute_result"
    }
   ],
   "source": [
    "numpy.linalg.matrix_rank(A.values)"
   ]
  },
  {
   "cell_type": "code",
   "execution_count": 38,
   "metadata": {},
   "outputs": [
    {
     "data": {
      "text/plain": [
       "(3, 27)"
      ]
     },
     "execution_count": 38,
     "metadata": {},
     "output_type": "execute_result"
    }
   ],
   "source": [
    "P.shape"
   ]
  },
  {
   "cell_type": "code",
   "execution_count": 39,
   "metadata": {},
   "outputs": [
    {
     "data": {
      "text/plain": [
       "array([[ 0.04437096,  0.05776197,  0.25842608,  0.0806814 ,  0.00962803,\n",
       "         0.0645376 , -0.11429262,  0.07554113,  0.12208608, -0.00552352,\n",
       "        -0.01752855,  0.        ,  0.02542493, -0.04263414,  0.00757315,\n",
       "        -0.19198097,  0.0261222 ,  0.16572877,  1.        , -0.00550958,\n",
       "         0.08106287, -0.01128705,  0.        ,  0.07155796,  0.79131802,\n",
       "         0.02125183,  0.08637423],\n",
       "       [-0.09249109, -0.04414374,  0.11448751,  0.01797894,  0.40080295,\n",
       "        -0.07268751,  0.12856069, -0.03611857, -0.02499104, -0.11900156,\n",
       "        -0.08086286,  0.        ,  0.10552852,  0.39708728, -0.12934958,\n",
       "         0.05184289, -0.1570135 , -0.02834744,  0.        , -0.03863533,\n",
       "        -0.02022127, -0.00822038,  1.        , -0.03449927,  0.12657201,\n",
       "        -0.05963721, -0.12552649],\n",
       "       [ 0.30675194,  0.08353566,  0.42978387,  0.54307979,  0.12013083,\n",
       "         0.07227845,  0.60132272,  0.02629173, -0.04157488,  0.23010551,\n",
       "         0.22299028,  1.        ,  0.43941104,  0.20441617,  0.08112314,\n",
       "         0.7118134 ,  0.0900324 , -0.01448589,  0.        ,  0.22695129,\n",
       "         0.76030972,  0.51488698,  0.        ,  0.07187857,  0.09109981,\n",
       "         0.13999637,  0.02413171]])"
      ]
     },
     "execution_count": 39,
     "metadata": {},
     "output_type": "execute_result"
    }
   ],
   "source": [
    "P"
   ]
  },
  {
   "cell_type": "code",
   "execution_count": 44,
   "metadata": {},
   "outputs": [
    {
     "data": {
      "text/plain": [
       "(3, 24)"
      ]
     },
     "execution_count": 44,
     "metadata": {},
     "output_type": "execute_result"
    }
   ],
   "source": [
    "proj.shape"
   ]
  },
  {
   "cell_type": "code",
   "execution_count": null,
   "metadata": {},
   "outputs": [],
   "source": []
  },
  {
   "cell_type": "code",
   "execution_count": 23,
   "metadata": {},
   "outputs": [
    {
     "ename": "NameError",
     "evalue": "name 'species_short' is not defined",
     "output_type": "error",
     "traceback": [
      "\u001b[0;31m---------------------------------------------------------------------------\u001b[0m",
      "\u001b[0;31mNameError\u001b[0m                                 Traceback (most recent call last)",
      "\u001b[0;32m<ipython-input-23-01749db18287>\u001b[0m in \u001b[0;36m<module>\u001b[0;34m\u001b[0m\n\u001b[1;32m     17\u001b[0m \u001b[0mortho_pairwise\u001b[0m \u001b[0;34m=\u001b[0m \u001b[0;34m{\u001b[0m\u001b[0;34m}\u001b[0m\u001b[0;34m\u001b[0m\u001b[0m\n\u001b[1;32m     18\u001b[0m \u001b[0mall_orthologs\u001b[0m \u001b[0;34m=\u001b[0m \u001b[0mpd\u001b[0m\u001b[0;34m.\u001b[0m\u001b[0mDataFrame\u001b[0m\u001b[0;34m(\u001b[0m\u001b[0;34m)\u001b[0m\u001b[0;34m\u001b[0m\u001b[0m\n\u001b[0;32m---> 19\u001b[0;31m \u001b[0;32mfor\u001b[0m \u001b[0mf\u001b[0m \u001b[0;32min\u001b[0m \u001b[0;34m[\u001b[0m\u001b[0;34m'../ortholog_tsv/mmusculus_{}.tsv'\u001b[0m\u001b[0;34m.\u001b[0m\u001b[0mformat\u001b[0m\u001b[0;34m(\u001b[0m\u001b[0mx\u001b[0m\u001b[0;34m)\u001b[0m \u001b[0;32mfor\u001b[0m \u001b[0mx\u001b[0m \u001b[0;32min\u001b[0m \u001b[0mmap\u001b[0m\u001b[0;34m(\u001b[0m\u001b[0;32mlambda\u001b[0m \u001b[0ms\u001b[0m\u001b[0;34m:\u001b[0m \u001b[0mspecies_short\u001b[0m\u001b[0;34m(\u001b[0m\u001b[0ms\u001b[0m\u001b[0;34m)\u001b[0m\u001b[0;34m,\u001b[0m \u001b[0mspecies_wise_tissues\u001b[0m\u001b[0;34m.\u001b[0m\u001b[0mkeys\u001b[0m\u001b[0;34m(\u001b[0m\u001b[0;34m)\u001b[0m\u001b[0;34m)\u001b[0m\u001b[0;34m]\u001b[0m\u001b[0;34m:\u001b[0m\u001b[0;34m\u001b[0m\u001b[0m\n\u001b[0m\u001b[1;32m     20\u001b[0m     \u001b[0;32mif\u001b[0m \u001b[0;34m'mmusculus_mmusculus'\u001b[0m \u001b[0;32min\u001b[0m \u001b[0mf\u001b[0m\u001b[0;34m:\u001b[0m\u001b[0;34m\u001b[0m\u001b[0m\n\u001b[1;32m     21\u001b[0m         \u001b[0;32mcontinue\u001b[0m\u001b[0;34m\u001b[0m\u001b[0m\n",
      "\u001b[0;32m<ipython-input-23-01749db18287>\u001b[0m in \u001b[0;36m<listcomp>\u001b[0;34m(.0)\u001b[0m\n\u001b[1;32m     17\u001b[0m \u001b[0mortho_pairwise\u001b[0m \u001b[0;34m=\u001b[0m \u001b[0;34m{\u001b[0m\u001b[0;34m}\u001b[0m\u001b[0;34m\u001b[0m\u001b[0m\n\u001b[1;32m     18\u001b[0m \u001b[0mall_orthologs\u001b[0m \u001b[0;34m=\u001b[0m \u001b[0mpd\u001b[0m\u001b[0;34m.\u001b[0m\u001b[0mDataFrame\u001b[0m\u001b[0;34m(\u001b[0m\u001b[0;34m)\u001b[0m\u001b[0;34m\u001b[0m\u001b[0m\n\u001b[0;32m---> 19\u001b[0;31m \u001b[0;32mfor\u001b[0m \u001b[0mf\u001b[0m \u001b[0;32min\u001b[0m \u001b[0;34m[\u001b[0m\u001b[0;34m'../ortholog_tsv/mmusculus_{}.tsv'\u001b[0m\u001b[0;34m.\u001b[0m\u001b[0mformat\u001b[0m\u001b[0;34m(\u001b[0m\u001b[0mx\u001b[0m\u001b[0;34m)\u001b[0m \u001b[0;32mfor\u001b[0m \u001b[0mx\u001b[0m \u001b[0;32min\u001b[0m \u001b[0mmap\u001b[0m\u001b[0;34m(\u001b[0m\u001b[0;32mlambda\u001b[0m \u001b[0ms\u001b[0m\u001b[0;34m:\u001b[0m \u001b[0mspecies_short\u001b[0m\u001b[0;34m(\u001b[0m\u001b[0ms\u001b[0m\u001b[0;34m)\u001b[0m\u001b[0;34m,\u001b[0m \u001b[0mspecies_wise_tissues\u001b[0m\u001b[0;34m.\u001b[0m\u001b[0mkeys\u001b[0m\u001b[0;34m(\u001b[0m\u001b[0;34m)\u001b[0m\u001b[0;34m)\u001b[0m\u001b[0;34m]\u001b[0m\u001b[0;34m:\u001b[0m\u001b[0;34m\u001b[0m\u001b[0m\n\u001b[0m\u001b[1;32m     20\u001b[0m     \u001b[0;32mif\u001b[0m \u001b[0;34m'mmusculus_mmusculus'\u001b[0m \u001b[0;32min\u001b[0m \u001b[0mf\u001b[0m\u001b[0;34m:\u001b[0m\u001b[0;34m\u001b[0m\u001b[0m\n\u001b[1;32m     21\u001b[0m         \u001b[0;32mcontinue\u001b[0m\u001b[0;34m\u001b[0m\u001b[0m\n",
      "\u001b[0;32m<ipython-input-23-01749db18287>\u001b[0m in \u001b[0;36m<lambda>\u001b[0;34m(s)\u001b[0m\n\u001b[1;32m     17\u001b[0m \u001b[0mortho_pairwise\u001b[0m \u001b[0;34m=\u001b[0m \u001b[0;34m{\u001b[0m\u001b[0;34m}\u001b[0m\u001b[0;34m\u001b[0m\u001b[0m\n\u001b[1;32m     18\u001b[0m \u001b[0mall_orthologs\u001b[0m \u001b[0;34m=\u001b[0m \u001b[0mpd\u001b[0m\u001b[0;34m.\u001b[0m\u001b[0mDataFrame\u001b[0m\u001b[0;34m(\u001b[0m\u001b[0;34m)\u001b[0m\u001b[0;34m\u001b[0m\u001b[0m\n\u001b[0;32m---> 19\u001b[0;31m \u001b[0;32mfor\u001b[0m \u001b[0mf\u001b[0m \u001b[0;32min\u001b[0m \u001b[0;34m[\u001b[0m\u001b[0;34m'../ortholog_tsv/mmusculus_{}.tsv'\u001b[0m\u001b[0;34m.\u001b[0m\u001b[0mformat\u001b[0m\u001b[0;34m(\u001b[0m\u001b[0mx\u001b[0m\u001b[0;34m)\u001b[0m \u001b[0;32mfor\u001b[0m \u001b[0mx\u001b[0m \u001b[0;32min\u001b[0m \u001b[0mmap\u001b[0m\u001b[0;34m(\u001b[0m\u001b[0;32mlambda\u001b[0m \u001b[0ms\u001b[0m\u001b[0;34m:\u001b[0m \u001b[0mspecies_short\u001b[0m\u001b[0;34m(\u001b[0m\u001b[0ms\u001b[0m\u001b[0;34m)\u001b[0m\u001b[0;34m,\u001b[0m \u001b[0mspecies_wise_tissues\u001b[0m\u001b[0;34m.\u001b[0m\u001b[0mkeys\u001b[0m\u001b[0;34m(\u001b[0m\u001b[0;34m)\u001b[0m\u001b[0;34m)\u001b[0m\u001b[0;34m]\u001b[0m\u001b[0;34m:\u001b[0m\u001b[0;34m\u001b[0m\u001b[0m\n\u001b[0m\u001b[1;32m     20\u001b[0m     \u001b[0;32mif\u001b[0m \u001b[0;34m'mmusculus_mmusculus'\u001b[0m \u001b[0;32min\u001b[0m \u001b[0mf\u001b[0m\u001b[0;34m:\u001b[0m\u001b[0;34m\u001b[0m\u001b[0m\n\u001b[1;32m     21\u001b[0m         \u001b[0;32mcontinue\u001b[0m\u001b[0;34m\u001b[0m\u001b[0m\n",
      "\u001b[0;31mNameError\u001b[0m: name 'species_short' is not defined"
     ]
    }
   ],
   "source": [
    "species_wise_tissues = defaultdict(list)\n",
    "\n",
    "for f in glob.glob('../cross-species-data-tpm//SRP016501-*_kallisto_gene_tables.tsv'):\n",
    "    sample_name = f.split('/')[-1].replace('_kallisto_gene_tables.tsv', '')\n",
    "    srp, species = sample_name.split('-')\n",
    "    \n",
    "    #species = species[0] + species.split('_')[-1]\n",
    "    df = pd.read_table(f)\n",
    "    tissues = sorted(set([x.split('_')[1] for x in df.columns]))\n",
    "    for index, tissue in enumerate(tissues):\n",
    "        if tissue in TISSUES_SHORT_FORM_MAP.keys():\n",
    "            tissues[index] = TISSUES_SHORT_FORM_MAP[tissue]\n",
    "            \n",
    "    species_wise_tissues[species]+=list(tissues)\n",
    "    \n",
    "srp = 'SRP016501'\n",
    "ortho_pairwise = {}\n",
    "all_orthologs = pd.DataFrame()\n",
    "for f in ['../ortholog_tsv/mmusculus_{}.tsv'.format(x) for x in map(lambda s: species_short(s), species_wise_tissues.keys())]:\n",
    "    if 'mmusculus_mmusculus' in f:\n",
    "        continue\n",
    "    second_species = f.split('/')[-1].replace('.tsv', '').split('_')[-1]\n",
    "    df = pd.read_table(f)[['ensembl_gene_id', '{}_homolog_ensembl_gene'.format(second_species), '{}_homolog_orthology_type'.format(second_species)]].set_index('ensembl_gene_id')\n",
    "    df = df[df['{}_homolog_orthology_type'.format(second_species)]=='ortholog_one2one'].drop(columns=['{}_homolog_orthology_type'.format(second_species)])\n",
    "    all_orthologs = all_orthologs.join(df, how='outer')"
   ]
  },
  {
   "cell_type": "code",
   "execution_count": null,
   "metadata": {},
   "outputs": [],
   "source": []
  }
 ],
 "metadata": {
  "kernelspec": {
   "display_name": "Python [conda env:scanpy]",
   "language": "python",
   "name": "conda-env-scanpy-py"
  },
  "language_info": {
   "codemirror_mode": {
    "name": "ipython",
    "version": 3
   },
   "file_extension": ".py",
   "mimetype": "text/x-python",
   "name": "python",
   "nbconvert_exporter": "python",
   "pygments_lexer": "ipython3",
   "version": "3.6.6"
  }
 },
 "nbformat": 4,
 "nbformat_minor": 2
}
