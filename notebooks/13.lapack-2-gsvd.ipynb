{
 "cells": [
  {
   "cell_type": "code",
   "execution_count": 1,
   "metadata": {},
   "outputs": [
    {
     "name": "stdout",
     "output_type": "stream",
     "text": [
      "Populating the interactive namespace from numpy and matplotlib\n"
     ]
    }
   ],
   "source": [
    "%pylab inline\n",
    "import shgsvd\n",
    "import pandas as pd\n",
    "import seaborn as sns\n",
    "sns.set_context('paper', font_scale=2)\n",
    "sns.set_style('white')"
   ]
  },
  {
   "cell_type": "code",
   "execution_count": 2,
   "metadata": {},
   "outputs": [],
   "source": [
    "df_yeast = pd.read_table('../PNAS_2000_datasets/Yeast.txt', header=1)\n",
    "df_yeast= df_yeast.loc[:, '0_min':]\n",
    "df_yeast = df_yeast.replace('Null', np.nan)\n",
    "df_yeast = df_yeast.astype(float)"
   ]
  },
  {
   "cell_type": "code",
   "execution_count": 3,
   "metadata": {},
   "outputs": [],
   "source": [
    "df_human = pd.read_table('../PNAS_2000_datasets/Human.txt', header=1)\n",
    "df_human = df_human.loc[:, '2_hr':]\n",
    "df_human = df_human.replace('Null', np.nan)\n",
    "df_human = df_human.astype(float)"
   ]
  },
  {
   "cell_type": "code",
   "execution_count": null,
   "metadata": {},
   "outputs": [],
   "source": [
    "def SVD_impute(df):\n",
    "    \"\"\"Perform SVD imputing.\n",
    "    \n",
    "    \n",
    "    Parameters\n",
    "    ----------\n",
    "    matrix: array_like\n",
    "            Array with rows as genes and columns as tissues/samples\n",
    "            with nans for missing values\n",
    "    \n",
    "    Returns\n",
    "    -------\n",
    "    filled_matrix: array_like\n",
    "                   Imputed matrix with entries filled by relying on eigengenes    \n",
    "    \"\"\"\n",
    "    \n",
    "    null_idx = pd.isnull(df).any(1).nonzero()[0]\n",
    "\n",
    "    full_matrix = df.values\n",
    "    non_null_matrix  = df.dropna().values\n",
    "    U, S, V_T = np.linalg.svd(non_null_matrix)\n",
    "    V =  V_T.T\n",
    "    \n",
    "    for index in null_idx:\n",
    "        x = full_matrix[index,:]\n",
    "\n",
    "        # index of entries where the row is nan\n",
    "        row_na_idx = np.where(np.isnan(x))\n",
    "        \n",
    "        # index of entries where the row is not nan        \n",
    "        row_not_na_idx = np.where(~np.isnan(x))\n",
    "        \n",
    "        \n",
    "        # entries from row which are not nan        \n",
    "        x_star_not_na = x[row_not_na_idx]\n",
    "        \n",
    "         # entries from row which are not nan        \n",
    "        x_star_na = x[row_na_idx]\n",
    "\n",
    "        # Eigen genes corresponding to index \n",
    "        # of locations (columns) in row x which are nan\n",
    "        V_star_na = np.delete(V, row_not_na_idx, 0)\n",
    "        \n",
    "        \n",
    "        # Delete rows from V, corresponding to index \n",
    "        # of locations (columns) in row x which are nan\n",
    "        # We will use these to project the row with complete\n",
    "        V_star_not_na = np.delete(V, row_na_idx, 0)\n",
    "\n",
    "\n",
    "        gram = np.dot(V_star_not_na.T, V_star_not_na)\n",
    "        coeff = np.dot(np.linalg.pinv(gram), V_star_not_na.T)\n",
    "\n",
    "        beta = np.dot(coeff, x_star_not_na)\n",
    "        \n",
    "        # xhat = V_J \\beta\n",
    "        x_missing = np.dot(V_star_na, beta)\n",
    "        \n",
    "        # Fill in the missing entries\n",
    "        full_matrix[index, row_na_idx] = x_missing\n",
    "    return full_matrix"
   ]
  },
  {
   "cell_type": "code",
   "execution_count": 11,
   "metadata": {},
   "outputs": [
    {
     "data": {
      "text/plain": [
       "(2698, 18)"
      ]
     },
     "execution_count": 11,
     "metadata": {},
     "output_type": "execute_result"
    }
   ],
   "source": [
    "df_yeast.dropna().shape"
   ]
  },
  {
   "cell_type": "code",
   "execution_count": 12,
   "metadata": {},
   "outputs": [
    {
     "data": {
      "text/plain": [
       "(4360, 18)"
      ]
     },
     "execution_count": 12,
     "metadata": {},
     "output_type": "execute_result"
    }
   ],
   "source": [
    "df_human.dropna().shape"
   ]
  },
  {
   "cell_type": "code",
   "execution_count": 13,
   "metadata": {},
   "outputs": [
    {
     "data": {
      "text/plain": [
       "(2698, 2698)"
      ]
     },
     "execution_count": 13,
     "metadata": {},
     "output_type": "execute_result"
    }
   ],
   "source": [
    "u.shape"
   ]
  },
  {
   "cell_type": "code",
   "execution_count": 14,
   "metadata": {},
   "outputs": [
    {
     "data": {
      "text/plain": [
       "(18, 18)"
      ]
     },
     "execution_count": 14,
     "metadata": {},
     "output_type": "execute_result"
    }
   ],
   "source": [
    "q.shape"
   ]
  },
  {
   "cell_type": "code",
   "execution_count": 15,
   "metadata": {},
   "outputs": [
    {
     "data": {
      "text/plain": [
       "(2698, 18)"
      ]
     },
     "execution_count": 15,
     "metadata": {},
     "output_type": "execute_result"
    }
   ],
   "source": [
    "a.shape"
   ]
  },
  {
   "cell_type": "code",
   "execution_count": 4,
   "metadata": {},
   "outputs": [],
   "source": [
    "a, b, alpha, beta, u, v, q = shgsvd.gsvd(df_yeast.dropna().values, df_human.dropna().values)\n",
    "#a, b, alpha, beta, u, v, q = shgsvd.gsvd(SVD_impute(df_yeast), SVD_impute(df_human))"
   ]
  },
  {
   "cell_type": "code",
   "execution_count": 10,
   "metadata": {},
   "outputs": [
    {
     "data": {
      "text/plain": [
       "(2698, 2698)"
      ]
     },
     "execution_count": 10,
     "metadata": {},
     "output_type": "execute_result"
    }
   ],
   "source": [
    "u.shape"
   ]
  },
  {
   "cell_type": "code",
   "execution_count": 16,
   "metadata": {},
   "outputs": [
    {
     "data": {
      "text/plain": [
       "[<matplotlib.lines.Line2D at 0x2ae61bd56e80>]"
      ]
     },
     "execution_count": 16,
     "metadata": {},
     "output_type": "execute_result"
    },
    {
     "data": {
      "image/png": "[encoded data removed]",
      "text/plain": [
       "<Figure size 432x288 with 1 Axes>"
      ]
     },
     "metadata": {
      "needs_background": "light"
     },
     "output_type": "display_data"
    }
   ],
   "source": [
    "plt.plot(a[0, :])"
   ]
  },
  {
   "cell_type": "code",
   "execution_count": 5,
   "metadata": {},
   "outputs": [
    {
     "data": {
      "text/plain": [
       "array([0.96635544, 0.7896719 , 0.97944003, 0.88035464, 0.65733516,\n",
       "       0.8134823 , 0.44418156, 0.31634256, 0.5035491 , 0.12115929,\n",
       "       0.6339678 , 0.555556  , 0.35075137, 0.83218586, 0.47422588,\n",
       "       0.7357883 , 0.59820527, 0.7032445 ], dtype=float32)"
      ]
     },
     "execution_count": 5,
     "metadata": {},
     "output_type": "execute_result"
    }
   ],
   "source": [
    "alpha"
   ]
  },
  {
   "cell_type": "code",
   "execution_count": 6,
   "metadata": {},
   "outputs": [
    {
     "data": {
      "text/plain": [
       "array([0.25721014, 0.6135294 , 0.20173584, 0.47431597, 0.7535984 ,\n",
       "       0.5815898 , 0.8959368 , 0.948645  , 0.8639666 , 0.9926331 ,\n",
       "       0.7733594 , 0.83147913, 0.93646866, 0.55449677, 0.8804032 ,\n",
       "       0.6772116 , 0.8013429 , 0.710948  ], dtype=float32)"
      ]
     },
     "execution_count": 6,
     "metadata": {},
     "output_type": "execute_result"
    }
   ],
   "source": [
    "beta"
   ]
  },
  {
   "cell_type": "code",
   "execution_count": 49,
   "metadata": {},
   "outputs": [
    {
     "data": {
      "text/plain": [
       "0.39269908169872414"
      ]
     },
     "execution_count": 49,
     "metadata": {},
     "output_type": "execute_result"
    },
    {
     "data": {
      "image/png": "[encoded data removed]",
      "text/plain": [
       "<Figure size 576x576 with 1 Axes>"
      ]
     },
     "metadata": {
      "needs_background": "light"
     },
     "output_type": "display_data"
    }
   ],
   "source": [
    "a, b, alpha, beta, u, v, q = shgsvd.gsvd(df_yeast.dropna().values, df_human.dropna().values)\n",
    "\n",
    "angles = np.arctan2(alpha, beta) - np.pi/4\n",
    "fig, ax = plt.subplots(figsize=(8,8))\n",
    "sns.set_color_codes(\"muted\")\n",
    "\n",
    "sns.barplot(x=np.arange(1, len(angles)+1), y=sorted(angles), ax=ax, color=\"b\")\n",
    "ax.axhline(y=np.pi/8)\n",
    "ax.axhline(y=-np.pi/8)\n",
    "#ax.set_ylim(-np.pi/4, np.pi/4)\n",
    "\n",
    "np.pi/8"
   ]
  },
  {
   "cell_type": "code",
   "execution_count": 44,
   "metadata": {},
   "outputs": [
    {
     "data": {
      "text/plain": [
       "array([-0.7853982 , -0.630997  , -0.16808498,  0.7853982 ,  0.7853982 ],\n",
       "      dtype=float32)"
      ]
     },
     "execution_count": 44,
     "metadata": {},
     "output_type": "execute_result"
    }
   ],
   "source": [
    "angles"
   ]
  },
  {
   "cell_type": "code",
   "execution_count": null,
   "metadata": {},
   "outputs": [],
   "source": [
    "alpha"
   ]
  },
  {
   "cell_type": "code",
   "execution_count": null,
   "metadata": {},
   "outputs": [],
   "source": [
    "beta"
   ]
  },
  {
   "cell_type": "code",
   "execution_count": null,
   "metadata": {},
   "outputs": [],
   "source": [
    "a"
   ]
  },
  {
   "cell_type": "code",
   "execution_count": 24,
   "metadata": {},
   "outputs": [],
   "source": [
    "def einsum_row_norm(a):\n",
    "    return np.sqrt(np.einsum('ij,ij->i', a, a))\n",
    "\n",
    "def einsum_col_norm(a):\n",
    "    return np.sqrt(np.einsum('ij,ij->j', a, a))\n",
    "\n",
    "\n",
    "def ho_SVD(list_of_X):\n",
    "    \"\"\" Perform higher order SVD\n",
    "    \n",
    "    list_of_X: list\n",
    "               [X_1, X_2, X_3, ..., X_n] size (n x m)\n",
    "    \n",
    "    \"\"\"\n",
    "    # Step 1\n",
    "    # A_i = X_i^T X_i\n",
    "    # A_inv = moore_penrose_inv(A_i)\n",
    "    A = []\n",
    "    N = len(list_of_X)\n",
    "    A_inv = []\n",
    "    for X in list_of_X:\n",
    "        A_i = np.dot(X.T, X)\n",
    "        A.append(A_i)\n",
    "        A_inv.append(np.linalg.pinv((A_i)))\n",
    "    # Step 2\n",
    "    # W = 1/N(N-1) * sum_{i=1}^jn sum_{j>i}^N A_i moore_penrose_inv(A_j) + A_j moore_penrose_inv(A_i)\n",
    "    W = 0\n",
    "    \n",
    "    for i in range(N):\n",
    "        for j in range(i+1, N):\n",
    "            W = W + (np.dot(A[i], A_inv[j]) + np.dot(A[j], A_inv[i]))\n",
    "    W =  W/(N*(N-1))\n",
    "    \n",
    "    # Step 3\n",
    "    # Eigen decomposition of W?\n",
    "    # WV = V\\Lambda\n",
    "    # V= (v_1, v_2, ..., v_n)\n",
    "    # ||v||_k =1, but V is not necesarrily orthonormal\n",
    "    # But we don't\n",
    "    \n",
    "    eigen_values, V = eig(W)\n",
    "\n",
    "    idx = eigen_values.argsort()[::-1]   \n",
    "    eigen_values = eigen_values[idx]\n",
    "    V = V[:,idx]\n",
    "    \n",
    "    \n",
    "    # Step 4\n",
    "    # solve for  VB_i = X_i^T\n",
    "     #Calculate the Bi matrices\n",
    "   \n",
    "    B = []\n",
    "    U = []\n",
    "    sigmas = []\n",
    "    for X in list_of_X:\n",
    "        #B_i = spams.omp( np.asfortranarray(X.T), V, lambda1=0, numThreads = 24)]\n",
    "        # VB.T = X.T\n",
    "        B_i = np.dot(np.linalg.inv(V), X.T).T\n",
    "        B.append(B_i)\n",
    "        sigma_i  = np.linalg.norm(B_i, axis=0) #einsum_col_norm(B)\n",
    "        U_i = B_i/sigma_i \n",
    "        sigmas.append(sigma_i)\n",
    "        U.append(U_i)\n",
    "    return U, sigmas, V\n",
    "    "
   ]
  },
  {
   "cell_type": "code",
   "execution_count": 17,
   "metadata": {},
   "outputs": [],
   "source": [
    "A = np.array([[1, 2, 3, 1, 5],\n",
    "              [0, 3, 2, 0, 2],\n",
    "              [1, 0, 2, 1, 0],\n",
    "              [0, 2, 3, 0, -1],\n",
    "              [1, 0, 2, 1, 1],\n",
    "              [0, 2, 1, 0, 1]])\n",
    "\n",
    "\n",
    "B = np.array([[1, -2, 2, 1, 1],\n",
    "              [0, 3, 0, 0, 0],\n",
    "              [1, -2, 2, 1, 1],\n",
    "              [0, 2, 0, 0, 0],\n",
    "              [2, -4, 4, 2, 2],\n",
    "              [1, 3, 2, 1, 1]])\n",
    "\n",
    "\n"
   ]
  },
  {
   "cell_type": "code",
   "execution_count": 39,
   "metadata": {},
   "outputs": [],
   "source": [
    "def calcHOGSVD(matList):\n",
    "    #assert len(matList)==3\n",
    "    #Step 1: calculate Di^T*Di\n",
    "    aMat = list()\n",
    "    sMat = list()\n",
    "    N = len(matList)\n",
    "    for mat in matList:\n",
    "        D = mat\n",
    "        aMatTemp = np.dot(D.T, D)\n",
    "        aMat.append(aMatTemp)\n",
    "\n",
    "    #calculate pairwise Sij sums\n",
    "    for i in range(len(aMat)):\n",
    "        for j in range(i + 1, len(aMat)):\n",
    "            print(i, j)\n",
    "            sMatTemp = 0.5 * (np.dot(aMat[i], np.linalg.pinv(aMat[j])) + np.dot(\n",
    "                aMat[j], np.linalg.pinv(aMat[i])))\n",
    "            sMat.append(sMatTemp)\n",
    "\n",
    "    S = np.zeros(sMat[0].shape)\n",
    "\n",
    "    #sum all Si,j matrices to get S\n",
    "    for s in sMat:\n",
    "        S = S + s\n",
    "\n",
    "    #normalize S\n",
    "    S = (2.0 / (N * (N - 1))) * S\n",
    "\n",
    "    #Do the eigen-decomposition on S\n",
    "    L, V = np.linalg.eig(S)\n",
    "\n",
    "    #Calculate the Bi matrices\n",
    "    bMatList = list()\n",
    "    for mat in matList:\n",
    "        D = mat\n",
    "        BT = np.dot(np.linalg.inv(V), D.T)\n",
    "        bMatList.append(BT.T)\n",
    "\n",
    "    #from Bi matrices calculate U and Sigma matrices\n",
    "    sigList = list()\n",
    "    uMatList = list()\n",
    "\n",
    "    for B in bMatList:\n",
    "        sig = np.sqrt(np.sum(B * B, axis=0))\n",
    "        U = B / sig\n",
    "        SIG = np.diag(sig)\n",
    "        sigList.append(SIG)\n",
    "        uMatList.append(U)\n",
    "\n",
    "    return (uMatList, sigList, V)"
   ]
  },
  {
   "cell_type": "code",
   "execution_count": 40,
   "metadata": {},
   "outputs": [
    {
     "name": "stdout",
     "output_type": "stream",
     "text": [
      "0 1\n"
     ]
    }
   ],
   "source": [
    "#U, sigmas, V =  ho_SVD([A,B])\n",
    "U, sigmas, V =  calcHOGSVD([A,B])"
   ]
  },
  {
   "cell_type": "code",
   "execution_count": 41,
   "metadata": {},
   "outputs": [
    {
     "data": {
      "text/plain": [
       "[array([[1.20350819e+00, 0.00000000e+00, 0.00000000e+00, 0.00000000e+00,\n",
       "         0.00000000e+00],\n",
       "        [0.00000000e+00, 7.33410530e+00, 0.00000000e+00, 0.00000000e+00,\n",
       "         0.00000000e+00],\n",
       "        [0.00000000e+00, 0.00000000e+00, 4.51460016e+00, 0.00000000e+00,\n",
       "         0.00000000e+00],\n",
       "        [0.00000000e+00, 0.00000000e+00, 0.00000000e+00, 1.36606279e-13,\n",
       "         0.00000000e+00],\n",
       "        [0.00000000e+00, 0.00000000e+00, 0.00000000e+00, 0.00000000e+00,\n",
       "         3.79220949e+00]]),\n",
       " array([[7.73261848e+00, 0.00000000e+00, 0.00000000e+00, 0.00000000e+00,\n",
       "         0.00000000e+00],\n",
       "        [0.00000000e+00, 8.25674763e+00, 0.00000000e+00, 0.00000000e+00,\n",
       "         0.00000000e+00],\n",
       "        [0.00000000e+00, 0.00000000e+00, 3.82221336e+00, 0.00000000e+00,\n",
       "         0.00000000e+00],\n",
       "        [0.00000000e+00, 0.00000000e+00, 0.00000000e+00, 3.43213773e-15,\n",
       "         0.00000000e+00],\n",
       "        [0.00000000e+00, 0.00000000e+00, 0.00000000e+00, 0.00000000e+00,\n",
       "         8.86884725e-02]])]"
      ]
     },
     "execution_count": 41,
     "metadata": {},
     "output_type": "execute_result"
    }
   ],
   "source": [
    "sigmas"
   ]
  },
  {
   "cell_type": "code",
   "execution_count": 28,
   "metadata": {},
   "outputs": [
    {
     "data": {
      "text/plain": [
       "array([[-0.6309965 , -0.78539816, -0.78539816, -0.78539816, -0.78539816],\n",
       "       [-0.78539816, -0.0591095 , -0.78539816, -0.78539816, -0.78539816],\n",
       "       [-0.78539816, -0.78539816,  0.08286157, -0.78539816, -0.78539816],\n",
       "       [-0.78539816, -0.78539816, -0.78539816,  0.76201541, -0.78539816],\n",
       "       [-0.78539816, -0.78539816, -0.78539816, -0.78539816,  0.7633225 ]])"
      ]
     },
     "execution_count": 28,
     "metadata": {},
     "output_type": "execute_result"
    }
   ],
   "source": [
    "angles"
   ]
  },
  {
   "cell_type": "code",
   "execution_count": 30,
   "metadata": {},
   "outputs": [
    {
     "data": {
      "text/plain": [
       "(-0.7853981633974483, 0.7853981633974483)"
      ]
     },
     "execution_count": 30,
     "metadata": {},
     "output_type": "execute_result"
    },
    {
     "data": {
      "image/png": "[encoded data removed]",
      "text/plain": [
       "<Figure size 576x576 with 1 Axes>"
      ]
     },
     "metadata": {
      "needs_background": "light"
     },
     "output_type": "display_data"
    }
   ],
   "source": [
    "angles = np.arctan2(sigmas[0], sigmas[1]) - np.pi/4\n",
    "fig, ax = plt.subplots(figsize=(8,8))\n",
    "sns.set_color_codes(\"muted\")\n",
    "\n",
    "sns.barplot(x=np.arange(1, len(angles)+1), y=angles, ax=ax, color=\"b\")\n",
    "ax.axhline(y=np.pi/8)\n",
    "ax.axhline(y=-np.pi/8)\n",
    "ax.set_ylim(-np.pi/4, np.pi/4)"
   ]
  },
  {
   "cell_type": "code",
   "execution_count": 20,
   "metadata": {},
   "outputs": [
    {
     "data": {
      "text/plain": [
       "array([1.        , 1.        , 0.15378843, 0.57884634, 0.        ],\n",
       "      dtype=float32)"
      ]
     },
     "execution_count": 20,
     "metadata": {},
     "output_type": "execute_result"
    }
   ],
   "source": [
    "alpha"
   ]
  },
  {
   "cell_type": "code",
   "execution_count": 21,
   "metadata": {},
   "outputs": [
    {
     "data": {
      "text/plain": [
       "array([0.       , 0.       , 0.9881038, 0.8154366, 0.       ],\n",
       "      dtype=float32)"
      ]
     },
     "execution_count": 21,
     "metadata": {},
     "output_type": "execute_result"
    }
   ],
   "source": [
    "beta"
   ]
  },
  {
   "cell_type": "code",
   "execution_count": 31,
   "metadata": {},
   "outputs": [
    {
     "data": {
      "text/plain": [
       "array([1.20350819e+00, 7.33410530e+00, 4.51460016e+00, 3.79220949e+00,\n",
       "       1.37786175e-13])"
      ]
     },
     "execution_count": 31,
     "metadata": {},
     "output_type": "execute_result"
    }
   ],
   "source": [
    "sigmas[0]"
   ]
  },
  {
   "cell_type": "code",
   "execution_count": 32,
   "metadata": {},
   "outputs": [
    {
     "data": {
      "text/plain": [
       "array([7.73261848e+00, 8.25674763e+00, 3.82221336e+00, 8.86884725e-02,\n",
       "       3.04221513e-15])"
      ]
     },
     "execution_count": 32,
     "metadata": {},
     "output_type": "execute_result"
    }
   ],
   "source": [
    "sigmas[1]"
   ]
  },
  {
   "cell_type": "code",
   "execution_count": 50,
   "metadata": {},
   "outputs": [],
   "source": [
    "A = np.array([[1, 2, 3, 1, 5],\n",
    "              [0, 3, 2, 0, 2],\n",
    "              [1, 0, 2, 1, 0],\n",
    "              [0, 2, 3, 0, -1],\n",
    "              [1, 0, 2, 1, 1],\n",
    "              [0, 2, 1, 0, 1]])\n",
    "\n",
    "\n",
    "B = np.array([[1, -2, 2, 1, 1],\n",
    "              [0, 3, 0, 0, 0],\n",
    "              [1, -2, 2, 1, 1],\n",
    "              [0, 2, 0, 0, 0],\n",
    "              [2, -4, 4, 2, 2],\n",
    "              [1, 3, 2, 1, 1]])"
   ]
  },
  {
   "cell_type": "code",
   "execution_count": 51,
   "metadata": {},
   "outputs": [],
   "source": [
    "a, b, alpha, beta, u, v, q = shgsvd.gsvd(A, B)"
   ]
  },
  {
   "cell_type": "code",
   "execution_count": 52,
   "metadata": {},
   "outputs": [
    {
     "data": {
      "text/plain": [
       "array([1.        , 1.        , 0.15378843, 0.57884634, 0.        ],\n",
       "      dtype=float32)"
      ]
     },
     "execution_count": 52,
     "metadata": {},
     "output_type": "execute_result"
    }
   ],
   "source": [
    "alpha"
   ]
  },
  {
   "cell_type": "code",
   "execution_count": 53,
   "metadata": {},
   "outputs": [
    {
     "data": {
      "text/plain": [
       "array([0.       , 0.       , 0.9881038, 0.8154366, 0.       ],\n",
       "      dtype=float32)"
      ]
     },
     "execution_count": 53,
     "metadata": {},
     "output_type": "execute_result"
    }
   ],
   "source": [
    "beta"
   ]
  },
  {
   "cell_type": "code",
   "execution_count": null,
   "metadata": {},
   "outputs": [],
   "source": []
  }
 ],
 "metadata": {
  "kernelspec": {
   "display_name": "Python [conda env:riboraptor]",
   "language": "python",
   "name": "conda-env-riboraptor-py"
  },
  "language_info": {
   "codemirror_mode": {
    "name": "ipython",
    "version": 3
   },
   "file_extension": ".py",
   "mimetype": "text/x-python",
   "name": "python",
   "nbconvert_exporter": "python",
   "pygments_lexer": "ipython3",
   "version": "3.6.5"
  }
 },
 "nbformat": 4,
 "nbformat_minor": 2
}
