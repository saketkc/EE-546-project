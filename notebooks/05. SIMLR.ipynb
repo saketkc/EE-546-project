{
 "cells": [
  {
   "cell_type": "code",
   "execution_count": 1,
   "metadata": {},
   "outputs": [],
   "source": [
    "library(SIMLR)\n",
    "data(BuettnerFlorian)\n",
    "data(ZeiselAmit)"
   ]
  },
  {
   "cell_type": "code",
   "execution_count": 2,
   "metadata": {},
   "outputs": [
    {
     "data": {
      "text/plain": [
       "R version 3.4.1 (2017-06-30)\n",
       "Platform: x86_64-pc-linux-gnu (64-bit)\n",
       "Running under: CentOS Linux 7 (Core)\n",
       "\n",
       "Matrix products: default\n",
       "BLAS: /panfs/cmb-panasas2/skchoudh/software_frozen/anaconda27/envs/scanpy/lib/R/lib/libRblas.so\n",
       "LAPACK: /panfs/cmb-panasas2/skchoudh/software_frozen/anaconda27/envs/scanpy/lib/R/lib/libRlapack.so\n",
       "\n",
       "locale:\n",
       " [1] LC_CTYPE=en_US.UTF-8       LC_NUMERIC=C              \n",
       " [3] LC_TIME=en_US.UTF-8        LC_COLLATE=en_US.UTF-8    \n",
       " [5] LC_MONETARY=en_US.UTF-8    LC_MESSAGES=en_US.UTF-8   \n",
       " [7] LC_PAPER=en_US.UTF-8       LC_NAME=C                 \n",
       " [9] LC_ADDRESS=C               LC_TELEPHONE=C            \n",
       "[11] LC_MEASUREMENT=en_US.UTF-8 LC_IDENTIFICATION=C       \n",
       "\n",
       "attached base packages:\n",
       "[1] stats     graphics  grDevices utils     datasets  methods   base     \n",
       "\n",
       "other attached packages:\n",
       "[1] SIMLR_1.4.1\n",
       "\n",
       "loaded via a namespace (and not attached):\n",
       " [1] Rcpp_1.0.0       codetools_0.2-15 lattice_0.20-38  digest_0.6.18   \n",
       " [5] crayon_1.3.4     RSpectra_0.12-0  IRdisplay_0.6.2  repr_0.17       \n",
       " [9] grid_3.4.1       jsonlite_1.5     pracma_2.1.8     evaluate_0.12   \n",
       "[13] uuid_0.1-2       Matrix_1.2-15    IRkernel_0.8.14  RcppAnnoy_0.0.11\n",
       "[17] tools_3.4.1      parallel_3.4.1   compiler_3.4.1   base64enc_0.1-3 \n",
       "[21] htmltools_0.3.6  pbdZMQ_0.3-3    "
      ]
     },
     "metadata": {},
     "output_type": "display_data"
    }
   ],
   "source": [
    "sessionInfo()"
   ]
  },
  {
   "cell_type": "code",
   "execution_count": 18,
   "metadata": {},
   "outputs": [
    {
     "data": {
      "text/html": [
       "\n",
       "<table width=\"100%\" summary=\"page for SIMLR {SIMLR}\"><tr><td>SIMLR {SIMLR}</td><td style=\"text-align: right;\">R Documentation</td></tr></table>\n",
       "\n",
       "<h2>SIMLR</h2>\n",
       "\n",
       "<h3>Description</h3>\n",
       "\n",
       "<p>perform the SIMLR clustering algorithm\n",
       "</p>\n",
       "\n",
       "\n",
       "<h3>Usage</h3>\n",
       "\n",
       "<pre>\n",
       "SIMLR(X, c, no.dim = NA, k = 10, if.impute = FALSE, normalize = FALSE,\n",
       "  cores.ratio = 1)\n",
       "</pre>\n",
       "\n",
       "\n",
       "<h3>Arguments</h3>\n",
       "\n",
       "<table summary=\"R argblock\">\n",
       "<tr valign=\"top\"><td><code>X</code></td>\n",
       "<td>\n",
       "<p>an (m x n) data matrix of gene expression measurements of individual cells or\n",
       "and object of class SCESet</p>\n",
       "</td></tr>\n",
       "<tr valign=\"top\"><td><code>c</code></td>\n",
       "<td>\n",
       "<p>number of clusters to be estimated over X</p>\n",
       "</td></tr>\n",
       "<tr valign=\"top\"><td><code>no.dim</code></td>\n",
       "<td>\n",
       "<p>number of dimensions</p>\n",
       "</td></tr>\n",
       "<tr valign=\"top\"><td><code>k</code></td>\n",
       "<td>\n",
       "<p>tuning parameter</p>\n",
       "</td></tr>\n",
       "<tr valign=\"top\"><td><code>if.impute</code></td>\n",
       "<td>\n",
       "<p>should I traspose the input data?</p>\n",
       "</td></tr>\n",
       "<tr valign=\"top\"><td><code>normalize</code></td>\n",
       "<td>\n",
       "<p>should I normalize the input data?</p>\n",
       "</td></tr>\n",
       "<tr valign=\"top\"><td><code>cores.ratio</code></td>\n",
       "<td>\n",
       "<p>ratio of the number of cores to be used when computing the multi-kernel</p>\n",
       "</td></tr>\n",
       "</table>\n",
       "\n",
       "\n",
       "<h3>Value</h3>\n",
       "\n",
       "<p>clusters the cells based on SIMLR and their similarities\n",
       "</p>\n",
       "<p>list of 8 elements describing the clusters obtained by SIMLR, of which y are the resulting clusters: \n",
       "y = results of k-means clusterings,\n",
       "S = similarities computed by SIMLR, \n",
       "F = results from network diffiusion, \n",
       "ydata = data referring the the results by k-means,\n",
       "alphaK = clustering coefficients,\n",
       "execution.time = execution time of the present run,\n",
       "converge = iterative convergence values by T-SNE,\n",
       "LF = parameters of the clustering\n",
       "</p>\n",
       "\n",
       "\n",
       "<h3>Examples</h3>\n",
       "\n",
       "<pre>\n",
       "SIMLR(X = BuettnerFlorian$in_X, c = BuettnerFlorian$n_clust, cores.ratio = 0)\n",
       "\n",
       "</pre>\n",
       "\n",
       "<hr /><div style=\"text-align: center;\">[Package <em>SIMLR</em> version 1.4.1 ]</div>"
      ],
      "text/latex": [
       "\\inputencoding{utf8}\n",
       "\\HeaderA{SIMLR}{SIMLR}{SIMLR}\n",
       "%\n",
       "\\begin{Description}\\relax\n",
       "perform the SIMLR clustering algorithm\n",
       "\\end{Description}\n",
       "%\n",
       "\\begin{Usage}\n",
       "\\begin{verbatim}\n",
       "SIMLR(X, c, no.dim = NA, k = 10, if.impute = FALSE, normalize = FALSE,\n",
       "  cores.ratio = 1)\n",
       "\\end{verbatim}\n",
       "\\end{Usage}\n",
       "%\n",
       "\\begin{Arguments}\n",
       "\\begin{ldescription}\n",
       "\\item[\\code{X}] an (m x n) data matrix of gene expression measurements of individual cells or\n",
       "and object of class SCESet\n",
       "\n",
       "\\item[\\code{c}] number of clusters to be estimated over X\n",
       "\n",
       "\\item[\\code{no.dim}] number of dimensions\n",
       "\n",
       "\\item[\\code{k}] tuning parameter\n",
       "\n",
       "\\item[\\code{if.impute}] should I traspose the input data?\n",
       "\n",
       "\\item[\\code{normalize}] should I normalize the input data?\n",
       "\n",
       "\\item[\\code{cores.ratio}] ratio of the number of cores to be used when computing the multi-kernel\n",
       "\\end{ldescription}\n",
       "\\end{Arguments}\n",
       "%\n",
       "\\begin{Value}\n",
       "clusters the cells based on SIMLR and their similarities\n",
       "\n",
       "list of 8 elements describing the clusters obtained by SIMLR, of which y are the resulting clusters: \n",
       "y = results of k-means clusterings,\n",
       "S = similarities computed by SIMLR, \n",
       "F = results from network diffiusion, \n",
       "ydata = data referring the the results by k-means,\n",
       "alphaK = clustering coefficients,\n",
       "execution.time = execution time of the present run,\n",
       "converge = iterative convergence values by T-SNE,\n",
       "LF = parameters of the clustering\n",
       "\\end{Value}\n",
       "%\n",
       "\\begin{Examples}\n",
       "\\begin{ExampleCode}\n",
       "SIMLR(X = BuettnerFlorian$in_X, c = BuettnerFlorian$n_clust, cores.ratio = 0)\n",
       "\n",
       "\\end{ExampleCode}\n",
       "\\end{Examples}"
      ],
      "text/plain": [
       "SIMLR                  package:SIMLR                   R Documentation\n",
       "\n",
       "_\bS_\bI_\bM_\bL_\bR\n",
       "\n",
       "_\bD_\be_\bs_\bc_\br_\bi_\bp_\bt_\bi_\bo_\bn:\n",
       "\n",
       "     perform the SIMLR clustering algorithm\n",
       "\n",
       "_\bU_\bs_\ba_\bg_\be:\n",
       "\n",
       "     SIMLR(X, c, no.dim = NA, k = 10, if.impute = FALSE, normalize = FALSE,\n",
       "       cores.ratio = 1)\n",
       "     \n",
       "_\bA_\br_\bg_\bu_\bm_\be_\bn_\bt_\bs:\n",
       "\n",
       "       X: an (m x n) data matrix of gene expression measurements of\n",
       "          individual cells or and object of class SCESet\n",
       "\n",
       "       c: number of clusters to be estimated over X\n",
       "\n",
       "  no.dim: number of dimensions\n",
       "\n",
       "       k: tuning parameter\n",
       "\n",
       "if.impute: should I traspose the input data?\n",
       "\n",
       "normalize: should I normalize the input data?\n",
       "\n",
       "cores.ratio: ratio of the number of cores to be used when computing the\n",
       "          multi-kernel\n",
       "\n",
       "_\bV_\ba_\bl_\bu_\be:\n",
       "\n",
       "     clusters the cells based on SIMLR and their similarities\n",
       "\n",
       "     list of 8 elements describing the clusters obtained by SIMLR, of\n",
       "     which y are the resulting clusters: y = results of k-means\n",
       "     clusterings, S = similarities computed by SIMLR, F = results from\n",
       "     network diffiusion, ydata = data referring the the results by\n",
       "     k-means, alphaK = clustering coefficients, execution.time =\n",
       "     execution time of the present run, converge = iterative\n",
       "     convergence values by T-SNE, LF = parameters of the clustering\n",
       "\n",
       "_\bE_\bx_\ba_\bm_\bp_\bl_\be_\bs:\n",
       "\n",
       "     SIMLR(X = BuettnerFlorian$in_X, c = BuettnerFlorian$n_clust, cores.ratio = 0)\n",
       "     "
      ]
     },
     "metadata": {},
     "output_type": "display_data"
    }
   ],
   "source": [
    "?SIMLR"
   ]
  },
  {
   "cell_type": "code",
   "execution_count": 3,
   "metadata": {},
   "outputs": [
    {
     "name": "stdout",
     "output_type": "stream",
     "text": [
      "Computing the multiple Kernels.\n",
      "Performing network diffiusion.\n",
      "Iteration:  1 \n",
      "Iteration:  2 \n",
      "Iteration:  3 \n",
      "Iteration:  4 \n",
      "Iteration:  5 \n",
      "Iteration:  6 \n",
      "Iteration:  7 \n",
      "Iteration:  8 \n",
      "Iteration:  9 \n",
      "Iteration:  10 \n",
      "Iteration:  11 \n"
     ]
    },
    {
     "name": "stderr",
     "output_type": "stream",
     "text": [
      "Warning message in SIMLR(X = BuettnerFlorian$in_X, c = BuettnerFlorian$n_clust, :\n",
      "“Maybe you should set a larger value of c.”"
     ]
    },
    {
     "name": "stdout",
     "output_type": "stream",
     "text": [
      "Performing t-SNE.\n",
      "Epoch: Iteration # 100  error is:  0.1326426 \n",
      "Epoch: Iteration # 200  error is:  0.08721104 \n",
      "Epoch: Iteration # 300  error is:  0.05808032 \n",
      "Epoch: Iteration # 400  error is:  0.05713627 \n",
      "Epoch: Iteration # 500  error is:  0.0570977 \n",
      "Epoch: Iteration # 600  error is:  0.0570602 \n",
      "Epoch: Iteration # 700  error is:  0.05702496 \n",
      "Epoch: Iteration # 800  error is:  0.05699161 \n",
      "Epoch: Iteration # 900  error is:  0.05696026 \n",
      "Epoch: Iteration # 1000  error is:  0.05693017 \n",
      "Performing Kmeans.\n",
      "Performing t-SNE.\n",
      "Epoch: Iteration # 100  error is:  11.21592 \n",
      "Epoch: Iteration # 200  error is:  0.6659411 \n",
      "Epoch: Iteration # 300  error is:  0.5755609 \n",
      "Epoch: Iteration # 400  error is:  0.3986313 \n",
      "Epoch: Iteration # 500  error is:  0.4913843 \n",
      "Epoch: Iteration # 600  error is:  0.3970208 \n",
      "Epoch: Iteration # 700  error is:  0.3979712 \n",
      "Epoch: Iteration # 800  error is:  0.3530334 \n",
      "Epoch: Iteration # 900  error is:  0.3026329 \n",
      "Epoch: Iteration # 1000  error is:  0.2887195 \n"
     ]
    }
   ],
   "source": [
    "set.seed(11111)\n",
    "example = SIMLR(X = BuettnerFlorian$in_X, c = BuettnerFlorian$n_clust, cores.ratio = 0)"
   ]
  },
  {
   "cell_type": "code",
   "execution_count": null,
   "metadata": {},
   "outputs": [],
   "source": [
    "nmi_1 = compare(BuettnerFlorian$true_labs[,1], example$y$cluster, method=\"nmi\")\n",
    "nmi_1"
   ]
  },
  {
   "cell_type": "code",
   "execution_count": null,
   "metadata": {},
   "outputs": [],
   "source": [
    "1527181 2925876 3589278 4979543 5281529 6286203 7564126 8734203 9781015 0086520"
   ]
  },
  {
   "cell_type": "code",
   "execution_count": 4,
   "metadata": {},
   "outputs": [
    {
     "data": {
      "image/png": "[encoded data removed]",
      "text/plain": [
       "Plot with title “SIMILR 2D visualization for BuettnerFlorian”"
      ]
     },
     "metadata": {},
     "output_type": "display_data"
    }
   ],
   "source": [
    "plot(example$ydata,\n",
    "col = c(topo.colors(BuettnerFlorian$n_clust))[BuettnerFlorian$true_labs[,1]],\n",
    "xlab = \"SIMLR component 1\",\n",
    "ylab = \"SIMLR component 2\",\n",
    "pch = 20,\n",
    "main=\"SIMILR 2D visualization for BuettnerFlorian\")"
   ]
  },
  {
   "cell_type": "code",
   "execution_count": 5,
   "metadata": {},
   "outputs": [],
   "source": [
    "df <- load('../../SIMLR/data/Test_1_mECS.RData')\n"
   ]
  },
  {
   "cell_type": "code",
   "execution_count": 21,
   "metadata": {},
   "outputs": [],
   "source": [
    "df <- t(Test_1_mECS$in_X)"
   ]
  },
  {
   "cell_type": "code",
   "execution_count": null,
   "metadata": {},
   "outputs": [],
   "source": [
    "Test_1_mECS$"
   ]
  },
  {
   "cell_type": "code",
   "execution_count": 25,
   "metadata": {},
   "outputs": [
    {
     "data": {
      "text/html": [
       "<table>\n",
       "<thead><tr><th scope=col>V1</th></tr></thead>\n",
       "<tbody>\n",
       "\t<tr><td>1</td></tr>\n",
       "\t<tr><td>1</td></tr>\n",
       "\t<tr><td>1</td></tr>\n",
       "\t<tr><td>1</td></tr>\n",
       "\t<tr><td>1</td></tr>\n",
       "\t<tr><td>1</td></tr>\n",
       "\t<tr><td>1</td></tr>\n",
       "\t<tr><td>1</td></tr>\n",
       "\t<tr><td>1</td></tr>\n",
       "\t<tr><td>1</td></tr>\n",
       "\t<tr><td>1</td></tr>\n",
       "\t<tr><td>1</td></tr>\n",
       "\t<tr><td>1</td></tr>\n",
       "\t<tr><td>1</td></tr>\n",
       "\t<tr><td>1</td></tr>\n",
       "\t<tr><td>1</td></tr>\n",
       "\t<tr><td>1</td></tr>\n",
       "\t<tr><td>1</td></tr>\n",
       "\t<tr><td>1</td></tr>\n",
       "\t<tr><td>1</td></tr>\n",
       "\t<tr><td>1</td></tr>\n",
       "\t<tr><td>1</td></tr>\n",
       "\t<tr><td>1</td></tr>\n",
       "\t<tr><td>1</td></tr>\n",
       "\t<tr><td>1</td></tr>\n",
       "\t<tr><td>1</td></tr>\n",
       "\t<tr><td>1</td></tr>\n",
       "\t<tr><td>1</td></tr>\n",
       "\t<tr><td>1</td></tr>\n",
       "\t<tr><td>1</td></tr>\n",
       "\t<tr><td>⋮</td></tr>\n",
       "\t<tr><td>3</td></tr>\n",
       "\t<tr><td>3</td></tr>\n",
       "\t<tr><td>3</td></tr>\n",
       "\t<tr><td>3</td></tr>\n",
       "\t<tr><td>3</td></tr>\n",
       "\t<tr><td>3</td></tr>\n",
       "\t<tr><td>3</td></tr>\n",
       "\t<tr><td>3</td></tr>\n",
       "\t<tr><td>3</td></tr>\n",
       "\t<tr><td>3</td></tr>\n",
       "\t<tr><td>3</td></tr>\n",
       "\t<tr><td>3</td></tr>\n",
       "\t<tr><td>3</td></tr>\n",
       "\t<tr><td>3</td></tr>\n",
       "\t<tr><td>3</td></tr>\n",
       "\t<tr><td>3</td></tr>\n",
       "\t<tr><td>3</td></tr>\n",
       "\t<tr><td>3</td></tr>\n",
       "\t<tr><td>3</td></tr>\n",
       "\t<tr><td>3</td></tr>\n",
       "\t<tr><td>3</td></tr>\n",
       "\t<tr><td>3</td></tr>\n",
       "\t<tr><td>3</td></tr>\n",
       "\t<tr><td>3</td></tr>\n",
       "\t<tr><td>3</td></tr>\n",
       "\t<tr><td>3</td></tr>\n",
       "\t<tr><td>3</td></tr>\n",
       "\t<tr><td>3</td></tr>\n",
       "\t<tr><td>3</td></tr>\n",
       "\t<tr><td>3</td></tr>\n",
       "</tbody>\n",
       "</table>\n"
      ],
      "text/latex": [
       "\\begin{tabular}{r|l}\n",
       " V1\\\\\n",
       "\\hline\n",
       "\t 1\\\\\n",
       "\t 1\\\\\n",
       "\t 1\\\\\n",
       "\t 1\\\\\n",
       "\t 1\\\\\n",
       "\t 1\\\\\n",
       "\t 1\\\\\n",
       "\t 1\\\\\n",
       "\t 1\\\\\n",
       "\t 1\\\\\n",
       "\t 1\\\\\n",
       "\t 1\\\\\n",
       "\t 1\\\\\n",
       "\t 1\\\\\n",
       "\t 1\\\\\n",
       "\t 1\\\\\n",
       "\t 1\\\\\n",
       "\t 1\\\\\n",
       "\t 1\\\\\n",
       "\t 1\\\\\n",
       "\t 1\\\\\n",
       "\t 1\\\\\n",
       "\t 1\\\\\n",
       "\t 1\\\\\n",
       "\t 1\\\\\n",
       "\t 1\\\\\n",
       "\t 1\\\\\n",
       "\t 1\\\\\n",
       "\t 1\\\\\n",
       "\t 1\\\\\n",
       "\t ⋮\\\\\n",
       "\t 3\\\\\n",
       "\t 3\\\\\n",
       "\t 3\\\\\n",
       "\t 3\\\\\n",
       "\t 3\\\\\n",
       "\t 3\\\\\n",
       "\t 3\\\\\n",
       "\t 3\\\\\n",
       "\t 3\\\\\n",
       "\t 3\\\\\n",
       "\t 3\\\\\n",
       "\t 3\\\\\n",
       "\t 3\\\\\n",
       "\t 3\\\\\n",
       "\t 3\\\\\n",
       "\t 3\\\\\n",
       "\t 3\\\\\n",
       "\t 3\\\\\n",
       "\t 3\\\\\n",
       "\t 3\\\\\n",
       "\t 3\\\\\n",
       "\t 3\\\\\n",
       "\t 3\\\\\n",
       "\t 3\\\\\n",
       "\t 3\\\\\n",
       "\t 3\\\\\n",
       "\t 3\\\\\n",
       "\t 3\\\\\n",
       "\t 3\\\\\n",
       "\t 3\\\\\n",
       "\\end{tabular}\n"
      ],
      "text/markdown": [
       "\n",
       "V1 | \n",
       "|---|---|---|---|---|---|---|---|---|---|---|---|---|---|---|---|---|---|---|---|---|---|---|---|---|---|---|---|---|---|---|---|---|---|---|---|---|---|---|---|---|---|---|---|---|---|---|---|---|---|---|---|---|---|---|---|---|---|---|---|---|\n",
       "| 1 | \n",
       "| 1 | \n",
       "| 1 | \n",
       "| 1 | \n",
       "| 1 | \n",
       "| 1 | \n",
       "| 1 | \n",
       "| 1 | \n",
       "| 1 | \n",
       "| 1 | \n",
       "| 1 | \n",
       "| 1 | \n",
       "| 1 | \n",
       "| 1 | \n",
       "| 1 | \n",
       "| 1 | \n",
       "| 1 | \n",
       "| 1 | \n",
       "| 1 | \n",
       "| 1 | \n",
       "| 1 | \n",
       "| 1 | \n",
       "| 1 | \n",
       "| 1 | \n",
       "| 1 | \n",
       "| 1 | \n",
       "| 1 | \n",
       "| 1 | \n",
       "| 1 | \n",
       "| 1 | \n",
       "| ⋮ | \n",
       "| 3 | \n",
       "| 3 | \n",
       "| 3 | \n",
       "| 3 | \n",
       "| 3 | \n",
       "| 3 | \n",
       "| 3 | \n",
       "| 3 | \n",
       "| 3 | \n",
       "| 3 | \n",
       "| 3 | \n",
       "| 3 | \n",
       "| 3 | \n",
       "| 3 | \n",
       "| 3 | \n",
       "| 3 | \n",
       "| 3 | \n",
       "| 3 | \n",
       "| 3 | \n",
       "| 3 | \n",
       "| 3 | \n",
       "| 3 | \n",
       "| 3 | \n",
       "| 3 | \n",
       "| 3 | \n",
       "| 3 | \n",
       "| 3 | \n",
       "| 3 | \n",
       "| 3 | \n",
       "| 3 | \n",
       "\n",
       "\n"
      ],
      "text/plain": [
       "    V1\n",
       "1   1 \n",
       "2   1 \n",
       "3   1 \n",
       "4   1 \n",
       "5   1 \n",
       "6   1 \n",
       "7   1 \n",
       "8   1 \n",
       "9   1 \n",
       "10  1 \n",
       "11  1 \n",
       "12  1 \n",
       "13  1 \n",
       "14  1 \n",
       "15  1 \n",
       "16  1 \n",
       "17  1 \n",
       "18  1 \n",
       "19  1 \n",
       "20  1 \n",
       "21  1 \n",
       "22  1 \n",
       "23  1 \n",
       "24  1 \n",
       "25  1 \n",
       "26  1 \n",
       "27  1 \n",
       "28  1 \n",
       "29  1 \n",
       "30  1 \n",
       "⋮   ⋮ \n",
       "153 3 \n",
       "154 3 \n",
       "155 3 \n",
       "156 3 \n",
       "157 3 \n",
       "158 3 \n",
       "159 3 \n",
       "160 3 \n",
       "161 3 \n",
       "162 3 \n",
       "163 3 \n",
       "164 3 \n",
       "165 3 \n",
       "166 3 \n",
       "167 3 \n",
       "168 3 \n",
       "169 3 \n",
       "170 3 \n",
       "171 3 \n",
       "172 3 \n",
       "173 3 \n",
       "174 3 \n",
       "175 3 \n",
       "176 3 \n",
       "177 3 \n",
       "178 3 \n",
       "179 3 \n",
       "180 3 \n",
       "181 3 \n",
       "182 3 "
      ]
     },
     "metadata": {},
     "output_type": "display_data"
    }
   ],
   "source": [
    "labels <- Test_1_mECS$true_labs$v1"
   ]
  },
  {
   "cell_type": "code",
   "execution_count": null,
   "metadata": {},
   "outputs": [],
   "source": [
    "labels <- Test_1_mECS$"
   ]
  },
  {
   "cell_type": "code",
   "execution_count": 22,
   "metadata": {},
   "outputs": [
    {
     "name": "stderr",
     "output_type": "stream",
     "text": [
      "ERROR while rich displaying an object: Error in sprintf(wrap, header, body): 'fmt' length exceeds maximal format length 8192\n",
      "\n",
      "Traceback:\n",
      "1. FUN(X[[i]], ...)\n",
      "2. tryCatch(withCallingHandlers({\n",
      " .     if (!mime %in% names(repr::mime2repr)) \n",
      " .         stop(\"No repr_* for mimetype \", mime, \" in repr::mime2repr\")\n",
      " .     rpr <- repr::mime2repr[[mime]](obj)\n",
      " .     if (is.null(rpr)) \n",
      " .         return(NULL)\n",
      " .     prepare_content(is.raw(rpr), rpr)\n",
      " . }, error = error_handler), error = outer_handler)\n",
      "3. tryCatchList(expr, classes, parentenv, handlers)\n",
      "4. tryCatchOne(expr, names, parentenv, handlers[[1L]])\n",
      "5. doTryCatch(return(expr), name, parentenv, handler)\n",
      "6. withCallingHandlers({\n",
      " .     if (!mime %in% names(repr::mime2repr)) \n",
      " .         stop(\"No repr_* for mimetype \", mime, \" in repr::mime2repr\")\n",
      " .     rpr <- repr::mime2repr[[mime]](obj)\n",
      " .     if (is.null(rpr)) \n",
      " .         return(NULL)\n",
      " .     prepare_content(is.raw(rpr), rpr)\n",
      " . }, error = error_handler)\n",
      "7. repr::mime2repr[[mime]](obj)\n",
      "8. repr_latex.matrix(obj)\n",
      "9. repr_matrix_generic(obj, sprintf(\"\\\\begin{tabular}{%s}\\n%%s%%s\\\\end{tabular}\\n\", \n",
      " .     cols), \"%s\\\\\\\\\\n\\\\hline\\n\", \"  &\", \" %s &\", \"%s\", \"\\t%s\\\\\\\\\\n\", \n",
      " .     \"%s &\", \" %s &\", escape_fun = latex_escape_vec, ...)\n",
      "10. sprintf(wrap, header, body)\n"
     ]
    },
    {
     "data": {
      "text/html": [
       "<table>\n",
       "<thead><tr><th></th><th scope=col>1</th><th scope=col>2</th><th scope=col>3</th><th scope=col>4</th><th scope=col>5</th><th scope=col>6</th><th scope=col>7</th><th scope=col>8</th><th scope=col>9</th><th scope=col>10</th><th scope=col>⋯</th><th scope=col>8980</th><th scope=col>8981</th><th scope=col>8982</th><th scope=col>8983</th><th scope=col>8984</th><th scope=col>8985</th><th scope=col>8986</th><th scope=col>8987</th><th scope=col>8988</th><th scope=col>8989</th></tr></thead>\n",
       "<tbody>\n",
       "\t<tr><th scope=row>1</th><td>1.73630</td><td>2.59230</td><td>0      </td><td>0.00000</td><td>1.12690</td><td>2.52670</td><td>0.91252</td><td>2.4383 </td><td>1.86580</td><td>0.21810</td><td>⋯      </td><td>0.0000 </td><td>0      </td><td>0.0000 </td><td>0.36261</td><td>0.62958</td><td>0      </td><td>0.2181 </td><td>0.0000 </td><td>0.0000 </td><td>0.00000</td></tr>\n",
       "\t<tr><th scope=row>2</th><td>0.73528</td><td>0.99441</td><td>0      </td><td>0.00000</td><td>0.00000</td><td>0.27582</td><td>0.00000</td><td>2.5470 </td><td>0.00000</td><td>0.00000</td><td>⋯      </td><td>0.0000 </td><td>0      </td><td>0.0000 </td><td>0.56367</td><td>2.66580</td><td>0      </td><td>0.0000 </td><td>0.0000 </td><td>0.0000 </td><td>0.27582</td></tr>\n",
       "\t<tr><th scope=row>3</th><td>2.13940</td><td>1.76070</td><td>0      </td><td>2.78960</td><td>1.22350</td><td>2.01390</td><td>0.00000</td><td>2.3999 </td><td>0.00000</td><td>0.75735</td><td>⋯      </td><td>0.0000 </td><td>0      </td><td>0.0000 </td><td>1.41780</td><td>0.00000</td><td>0      </td><td>0.0000 </td><td>2.6145 </td><td>2.6946 </td><td>0.00000</td></tr>\n",
       "\t<tr><th scope=row>4</th><td>1.50450</td><td>1.66730</td><td>0      </td><td>0.46165</td><td>0.61892</td><td>2.25470</td><td>0.00000</td><td>2.3378 </td><td>0.21263</td><td>0.00000</td><td>⋯      </td><td>0.0000 </td><td>0      </td><td>1.3869 </td><td>0.68034</td><td>0.00000</td><td>0      </td><td>0.0000 </td><td>0.0000 </td><td>0.7820 </td><td>6.00000</td></tr>\n",
       "\t<tr><th scope=row>5</th><td>2.80570</td><td>0.73876</td><td>0      </td><td>0.00000</td><td>0.60059</td><td>2.37740</td><td>0.00000</td><td>2.3223 </td><td>0.00000</td><td>0.00000</td><td>⋯      </td><td>0.2422 </td><td>0      </td><td>0.0000 </td><td>0.39677</td><td>0.00000</td><td>0      </td><td>0.0000 </td><td>0.0000 </td><td>0.0000 </td><td>0.24220</td></tr>\n",
       "\t<tr><th scope=row>6</th><td>2.53290</td><td>2.96830</td><td>0      </td><td>0.00000</td><td>1.20130</td><td>1.99050</td><td>2.20380</td><td>2.4898 </td><td>0.00000</td><td>1.03870</td><td>⋯      </td><td>0.0000 </td><td>0      </td><td>0.0000 </td><td>2.43000</td><td>0.00000</td><td>0      </td><td>0.0000 </td><td>0.0000 </td><td>0.0000 </td><td>1.91870</td></tr>\n",
       "</tbody>\n",
       "</table>\n"
      ],
      "text/markdown": [
       "\n",
       "| <!--/--> | 1 | 2 | 3 | 4 | 5 | 6 | 7 | 8 | 9 | 10 | ⋯ | 8980 | 8981 | 8982 | 8983 | 8984 | 8985 | 8986 | 8987 | 8988 | 8989 | \n",
       "|---|---|---|---|---|---|\n",
       "| 1 | 1.73630 | 2.59230 | 0       | 0.00000 | 1.12690 | 2.52670 | 0.91252 | 2.4383  | 1.86580 | 0.21810 | ⋯       | 0.0000  | 0       | 0.0000  | 0.36261 | 0.62958 | 0       | 0.2181  | 0.0000  | 0.0000  | 0.00000 | \n",
       "| 2 | 0.73528 | 0.99441 | 0       | 0.00000 | 0.00000 | 0.27582 | 0.00000 | 2.5470  | 0.00000 | 0.00000 | ⋯       | 0.0000  | 0       | 0.0000  | 0.56367 | 2.66580 | 0       | 0.0000  | 0.0000  | 0.0000  | 0.27582 | \n",
       "| 3 | 2.13940 | 1.76070 | 0       | 2.78960 | 1.22350 | 2.01390 | 0.00000 | 2.3999  | 0.00000 | 0.75735 | ⋯       | 0.0000  | 0       | 0.0000  | 1.41780 | 0.00000 | 0       | 0.0000  | 2.6145  | 2.6946  | 0.00000 | \n",
       "| 4 | 1.50450 | 1.66730 | 0       | 0.46165 | 0.61892 | 2.25470 | 0.00000 | 2.3378  | 0.21263 | 0.00000 | ⋯       | 0.0000  | 0       | 1.3869  | 0.68034 | 0.00000 | 0       | 0.0000  | 0.0000  | 0.7820  | 6.00000 | \n",
       "| 5 | 2.80570 | 0.73876 | 0       | 0.00000 | 0.60059 | 2.37740 | 0.00000 | 2.3223  | 0.00000 | 0.00000 | ⋯       | 0.2422  | 0       | 0.0000  | 0.39677 | 0.00000 | 0       | 0.0000  | 0.0000  | 0.0000  | 0.24220 | \n",
       "| 6 | 2.53290 | 2.96830 | 0       | 0.00000 | 1.20130 | 1.99050 | 2.20380 | 2.4898  | 0.00000 | 1.03870 | ⋯       | 0.0000  | 0       | 0.0000  | 2.43000 | 0.00000 | 0       | 0.0000  | 0.0000  | 0.0000  | 1.91870 | \n",
       "\n",
       "\n"
      ],
      "text/plain": [
       "  1       2       3 4       5       6       7       8      9       10      ⋯\n",
       "1 1.73630 2.59230 0 0.00000 1.12690 2.52670 0.91252 2.4383 1.86580 0.21810 ⋯\n",
       "2 0.73528 0.99441 0 0.00000 0.00000 0.27582 0.00000 2.5470 0.00000 0.00000 ⋯\n",
       "3 2.13940 1.76070 0 2.78960 1.22350 2.01390 0.00000 2.3999 0.00000 0.75735 ⋯\n",
       "4 1.50450 1.66730 0 0.46165 0.61892 2.25470 0.00000 2.3378 0.21263 0.00000 ⋯\n",
       "5 2.80570 0.73876 0 0.00000 0.60059 2.37740 0.00000 2.3223 0.00000 0.00000 ⋯\n",
       "6 2.53290 2.96830 0 0.00000 1.20130 1.99050 2.20380 2.4898 0.00000 1.03870 ⋯\n",
       "  8980   8981 8982   8983    8984    8985 8986   8987   8988   8989   \n",
       "1 0.0000 0    0.0000 0.36261 0.62958 0    0.2181 0.0000 0.0000 0.00000\n",
       "2 0.0000 0    0.0000 0.56367 2.66580 0    0.0000 0.0000 0.0000 0.27582\n",
       "3 0.0000 0    0.0000 1.41780 0.00000 0    0.0000 2.6145 2.6946 0.00000\n",
       "4 0.0000 0    1.3869 0.68034 0.00000 0    0.0000 0.0000 0.7820 6.00000\n",
       "5 0.2422 0    0.0000 0.39677 0.00000 0    0.0000 0.0000 0.0000 0.24220\n",
       "6 0.0000 0    0.0000 2.43000 0.00000 0    0.0000 0.0000 0.0000 1.91870"
      ]
     },
     "metadata": {},
     "output_type": "display_data"
    }
   ],
   "source": [
    "df.to_csv('../data/Test_1_mESC.')"
   ]
  },
  {
   "cell_type": "code",
   "execution_count": 6,
   "metadata": {},
   "outputs": [
    {
     "data": {
      "text/html": [
       "'Test_1_mECS'"
      ],
      "text/latex": [
       "'Test\\_1\\_mECS'"
      ],
      "text/markdown": [
       "'Test_1_mECS'"
      ],
      "text/plain": [
       "[1] \"Test_1_mECS\""
      ]
     },
     "metadata": {},
     "output_type": "display_data"
    }
   ],
   "source": [
    "df[]"
   ]
  },
  {
   "cell_type": "code",
   "execution_count": 9,
   "metadata": {},
   "outputs": [
    {
     "ename": "ERROR",
     "evalue": "Error in col(Test_1_mECS): a matrix-like object is required as argument to 'col'\n",
     "output_type": "error",
     "traceback": [
      "Error in col(Test_1_mECS): a matrix-like object is required as argument to 'col'\nTraceback:\n",
      "1. col(Test_1_mECS)"
     ]
    }
   ],
   "source": [
    "col(Test_1_mECS)"
   ]
  },
  {
   "cell_type": "code",
   "execution_count": 12,
   "metadata": {},
   "outputs": [
    {
     "data": {
      "text/html": [
       "182"
      ],
      "text/latex": [
       "182"
      ],
      "text/markdown": [
       "182"
      ],
      "text/plain": [
       "[1] 182"
      ]
     },
     "metadata": {},
     "output_type": "display_data"
    }
   ],
   "source": [
    "length(Test_1_mECS$true_labs$V1)\n",
    "# 182 cells only!"
   ]
  },
  {
   "cell_type": "code",
   "execution_count": 16,
   "metadata": {},
   "outputs": [
    {
     "data": {
      "text/html": [
       "387.23647"
      ],
      "text/latex": [
       "387.23647"
      ],
      "text/markdown": [
       "387.23647"
      ],
      "text/plain": [
       "[1] 387.2365"
      ]
     },
     "metadata": {},
     "output_type": "display_data"
    }
   ],
   "source": [
    "sum(Test_1_mECS$in_X[1,])"
   ]
  },
  {
   "cell_type": "code",
   "execution_count": 17,
   "metadata": {},
   "outputs": [
    {
     "data": {
      "text/html": [
       "6796.06874"
      ],
      "text/latex": [
       "6796.06874"
      ],
      "text/markdown": [
       "6796.06874"
      ],
      "text/plain": [
       "[1] 6796.069"
      ]
     },
     "metadata": {},
     "output_type": "display_data"
    }
   ],
   "source": [
    "sum(Test_1_mECS$in_X[,1])"
   ]
  },
  {
   "cell_type": "code",
   "execution_count": null,
   "metadata": {},
   "outputs": [],
   "source": [
    "length(Test_1_mECS$true_labs$V1) "
   ]
  }
 ],
 "metadata": {
  "kernelspec": {
   "display_name": "R [conda env:scanpy]",
   "language": "R",
   "name": "conda-env-scanpy-r"
  },
  "language_info": {
   "codemirror_mode": "r",
   "file_extension": ".r",
   "mimetype": "text/x-r-source",
   "name": "R",
   "pygments_lexer": "r",
   "version": "3.4.1"
  }
 },
 "nbformat": 4,
 "nbformat_minor": 2
}
