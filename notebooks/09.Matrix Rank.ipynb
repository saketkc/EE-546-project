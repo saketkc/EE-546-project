{
 "cells": [
  {
   "cell_type": "code",
   "execution_count": 10,
   "metadata": {},
   "outputs": [
    {
     "name": "stdout",
     "output_type": "stream",
     "text": [
      "Populating the interactive namespace from numpy and matplotlib\n"
     ]
    },
    {
     "name": "stderr",
     "output_type": "stream",
     "text": [
      "/home/cmb-panasas2/skchoudh/software_frozen/anaconda27/envs/scanpy/lib/python3.6/site-packages/IPython/core/magics/pylab.py:160: UserWarning: pylab import has clobbered these variables: ['f', 'rank', 'matrix']\n",
      "`%matplotlib` prevents importing * from pylab and numpy\n",
      "  \"\\n`%matplotlib` prevents importing * from pylab and numpy\"\n"
     ]
    }
   ],
   "source": [
    "%pylab inline\n",
    "import glob\n",
    "import pandas as pd\n",
    "from numpy.linalg import matrix_rank\n",
    "import os\n",
    "\n",
    "prefix = '/home/cmb-panasas2/skchoudh/github_projects/EE-546-project/cross-species-data/'"
   ]
  },
  {
   "cell_type": "code",
   "execution_count": 11,
   "metadata": {},
   "outputs": [
    {
     "name": "stdout",
     "output_type": "stream",
     "text": [
      "SRP007412-gallus_gallus.tsv : Array colsize: 12 | rank: 12\n",
      "SRP007412-gorilla_gorilla.tsv : Array colsize: 11 | rank: 11\n",
      "SRP007412-homo_sapiens.tsv : Array colsize: 18 | rank: 18\n",
      "SRP007412-macaca_mulatta.tsv : Array colsize: 13 | rank: 13\n",
      "SRP007412-monodelphis_domestica.tsv : Array colsize: 12 | rank: 12\n",
      "SRP007412-mus_musculus.tsv : Array colsize: 17 | rank: 17\n",
      "SRP007412-ornithorhynchus_anatinus.tsv : Array colsize: 12 | rank: 12\n",
      "SRP007412-pan_paniscus.tsv : Array colsize: 12 | rank: 12\n",
      "SRP007412-pan_troglodytes.tsv : Array colsize: 15 | rank: 15\n",
      "SRP007412-pongo_abelii.tsv : Array colsize: 9 | rank: 9\n",
      "SRP016501-bos_taurus.tsv : Array colsize: 27 | rank: 27\n",
      "SRP016501-gallus_gallus.tsv : Array colsize: 27 | rank: 27\n",
      "SRP016501-macaca_mulatta.tsv : Array colsize: 27 | rank: 27\n",
      "SRP016501-mus_musculus.tsv : Array colsize: 26 | rank: 26\n",
      "SRP016501-rattus_norvegicus.tsv : Array colsize: 27 | rank: 27\n"
     ]
    }
   ],
   "source": [
    "for f in sorted(glob.glob('{}/*.tsv'.format(prefix))):\n",
    "    df = pd.read_table(f)\n",
    "    df = df.drop(columns=['target_id'])\n",
    "    matrix = df.values\n",
    "    colsize = matrix.shape[1]\n",
    "    rank = matrix_rank(matrix)\n",
    "    print('{} : Array colsize: {} | rank: {}'.format(f.split('/')[-1], colsize, rank))"
   ]
  },
  {
   "cell_type": "markdown",
   "metadata": {},
   "source": [
    "# NOTE\n",
    "\n",
    "Mouse is missing one replicate (b_heart)"
   ]
  },
  {
   "cell_type": "code",
   "execution_count": null,
   "metadata": {},
   "outputs": [],
   "source": [
    "a_brain a_colon a_heart a_kidney        a_liver a_lung  a_skm   a_spleen       \n",
    "a_testes        b_brain b_colon b_kidney        b_liver b_lung  b_skm   b_spleen        b_testes        c_brain c_colon c_heart c_kidney        c_liver c_lung  c_skm   c_spleen        c_\n",
    "testes\n"
   ]
  },
  {
   "cell_type": "code",
   "execution_count": null,
   "metadata": {},
   "outputs": [],
   "source": [
    "target_id       a_brain a_colon a_heart a_kidney        a_liver a_lung  a_skm   a_spleen        a_testes        b_brain b_colon b_heart b_kidney        b_liver b_lung  b_skm   b_spleen        b_testes        c_brain c_colon c_heart c_kidney        c_liver c_lung  c_skm   c_spleen c_testes\n"
   ]
  }
 ],
 "metadata": {
  "kernelspec": {
   "display_name": "Python [conda env:scanpy]",
   "language": "python",
   "name": "conda-env-scanpy-py"
  },
  "language_info": {
   "codemirror_mode": {
    "name": "ipython",
    "version": 3
   },
   "file_extension": ".py",
   "mimetype": "text/x-python",
   "name": "python",
   "nbconvert_exporter": "python",
   "pygments_lexer": "ipython3",
   "version": "3.6.6"
  }
 },
 "nbformat": 4,
 "nbformat_minor": 2
}
