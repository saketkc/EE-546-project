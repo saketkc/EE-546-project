{
 "cells": [
  {
   "cell_type": "code",
   "execution_count": 4,
   "metadata": {},
   "outputs": [
    {
     "name": "stdout",
     "output_type": "stream",
     "text": [
      "Populating the interactive namespace from numpy and matplotlib\n"
     ]
    }
   ],
   "source": [
    "%pylab inline\n",
    "import pandas as pd\n",
    "from numpy.linalg import pinv as moore_penrose_inv\n"
   ]
  },
  {
   "cell_type": "code",
   "execution_count": null,
   "metadata": {},
   "outputs": [],
   "source": [
    "def ho_SVD(list_of_X):\n",
    "    \"\"\" Perform higher order SVD\n",
    "    \n",
    "    list_of_X: list\n",
    "               [X_1, X_2, X_3, ..., X_n] size (n x m)\n",
    "    \n",
    "    \"\"\"\n",
    "    # Step 1\n",
    "    # A_i = X_i^T X_i\n",
    "    # A_inv = moore_penrose_inv(A_i)\n",
    "    A = []\n",
    "    N = len(list_of_X)\n",
    "    A_inv = []\n",
    "    for X in list_of_X:\n",
    "        A_i = np.dot(X.T, X)\n",
    "        A.append(A_i)\n",
    "        A_inv.append(moore_penrose_inv(A_i))\n",
    "    # Step 2\n",
    "    # W = 1/N(N-1) * sum_{i=1}^jn sum_{j>i}^N A_i moore_penrose_inv(A_j) + A_j moore_penrose_inv(A_i)\n",
    "    W = 0\n",
    "    \n",
    "    for i in range(N):\n",
    "        for j in range(i+1, N):\n",
    "            W = W + (np.dot(A[i], A_inv[j]) + np.dot(A[j], A_inv[i]))\n",
    "    W =  W/(N*(N-1))\n",
    "    \n",
    "    # Step 3\n",
    "    # Eigen decomposition of W?\n",
    "    # WV = V\\Lambda\n",
    "    # V= (v_1, v_2, ..., v_n)\n",
    "    # ||v||_k =1, but V is not necesarrily orthonormal\n",
    "    # But we don't\n",
    "    \n",
    "    \n",
    "            \n",
    "        \n",
    "        \n",
    "    "
   ]
  }
 ],
 "metadata": {
  "kernelspec": {
   "display_name": "Python [conda env:scanpy]",
   "language": "python",
   "name": "conda-env-scanpy-py"
  },
  "language_info": {
   "codemirror_mode": {
    "name": "ipython",
    "version": 3
   },
   "file_extension": ".py",
   "mimetype": "text/x-python",
   "name": "python",
   "nbconvert_exporter": "python",
   "pygments_lexer": "ipython3",
   "version": "3.6.6"
  }
 },
 "nbformat": 4,
 "nbformat_minor": 2
}
