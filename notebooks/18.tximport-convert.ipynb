{
 "cells": [
  {
   "cell_type": "code",
   "execution_count": 1,
   "metadata": {},
   "outputs": [],
   "source": [
    "library(readr)\n",
    "library(tximport)"
   ]
  },
  {
   "cell_type": "code",
   "execution_count": 18,
   "metadata": {},
   "outputs": [
    {
     "data": {
      "text/html": [
       "<ol class=list-inline>\n",
       "\t<li>gallus_gallus</li>\n",
       "\t<li>ornithorhynchus_anatinus</li>\n",
       "\t<li>macaca_mulatta</li>\n",
       "\t<li>gorilla_gorilla</li>\n",
       "\t<li>pan_paniscus</li>\n",
       "\t<li>pan_troglodytes</li>\n",
       "\t<li>pongo_abelii</li>\n",
       "\t<li>homo_sapiens</li>\n",
       "\t<li>mus_musculus</li>\n",
       "\t<li>monodelphis_domestica</li>\n",
       "</ol>\n",
       "\n",
       "<details>\n",
       "\t<summary style=display:list-item;cursor:pointer>\n",
       "\t\t<strong>Levels</strong>:\n",
       "\t</summary>\n",
       "\t<ol class=list-inline>\n",
       "\t\t<li>'gallus_gallus'</li>\n",
       "\t\t<li>'gorilla_gorilla'</li>\n",
       "\t\t<li>'homo_sapiens'</li>\n",
       "\t\t<li>'macaca_mulatta'</li>\n",
       "\t\t<li>'monodelphis_domestica'</li>\n",
       "\t\t<li>'mus_musculus'</li>\n",
       "\t\t<li>'ornithorhynchus_anatinus'</li>\n",
       "\t\t<li>'pan_paniscus'</li>\n",
       "\t\t<li>'pan_troglodytes'</li>\n",
       "\t\t<li>'pongo_abelii'</li>\n",
       "\t</ol>\n",
       "</details>"
      ],
      "text/latex": [
       "\\begin{enumerate*}\n",
       "\\item gallus\\_gallus\n",
       "\\item ornithorhynchus\\_anatinus\n",
       "\\item macaca\\_mulatta\n",
       "\\item gorilla\\_gorilla\n",
       "\\item pan\\_paniscus\n",
       "\\item pan\\_troglodytes\n",
       "\\item pongo\\_abelii\n",
       "\\item homo\\_sapiens\n",
       "\\item mus\\_musculus\n",
       "\\item monodelphis\\_domestica\n",
       "\\end{enumerate*}\n",
       "\n",
       "\\emph{Levels}: \\begin{enumerate*}\n",
       "\\item 'gallus\\_gallus'\n",
       "\\item 'gorilla\\_gorilla'\n",
       "\\item 'homo\\_sapiens'\n",
       "\\item 'macaca\\_mulatta'\n",
       "\\item 'monodelphis\\_domestica'\n",
       "\\item 'mus\\_musculus'\n",
       "\\item 'ornithorhynchus\\_anatinus'\n",
       "\\item 'pan\\_paniscus'\n",
       "\\item 'pan\\_troglodytes'\n",
       "\\item 'pongo\\_abelii'\n",
       "\\end{enumerate*}\n"
      ],
      "text/markdown": [
       "1. gallus_gallus\n",
       "2. ornithorhynchus_anatinus\n",
       "3. macaca_mulatta\n",
       "4. gorilla_gorilla\n",
       "5. pan_paniscus\n",
       "6. pan_troglodytes\n",
       "7. pongo_abelii\n",
       "8. homo_sapiens\n",
       "9. mus_musculus\n",
       "10. monodelphis_domestica\n",
       "\n",
       "\n",
       "\n",
       "**Levels**: 1. 'gallus_gallus'\n",
       "2. 'gorilla_gorilla'\n",
       "3. 'homo_sapiens'\n",
       "4. 'macaca_mulatta'\n",
       "5. 'monodelphis_domestica'\n",
       "6. 'mus_musculus'\n",
       "7. 'ornithorhynchus_anatinus'\n",
       "8. 'pan_paniscus'\n",
       "9. 'pan_troglodytes'\n",
       "10. 'pongo_abelii'\n",
       "\n",
       "\n"
      ],
      "text/plain": [
       " [1] gallus_gallus            ornithorhynchus_anatinus macaca_mulatta          \n",
       " [4] gorilla_gorilla          pan_paniscus             pan_troglodytes         \n",
       " [7] pongo_abelii             homo_sapiens             mus_musculus            \n",
       "[10] monodelphis_domestica   \n",
       "10 Levels: gallus_gallus gorilla_gorilla homo_sapiens ... pongo_abelii"
      ]
     },
     "metadata": {},
     "output_type": "display_data"
    }
   ],
   "source": [
    "samples <- read.table('../cross-species-data/SRP007412_sample_info.tsv', header = TRUE)\n",
    "unique(samples$species)"
   ]
  },
  {
   "cell_type": "code",
   "execution_count": 31,
   "metadata": {},
   "outputs": [
    {
     "data": {
      "text/html": [
       "<ol class=list-inline>\n",
       "\t<li>gallus_gallus</li>\n",
       "\t<li>macaca_mulatta</li>\n",
       "\t<li>bos_taurus</li>\n",
       "\t<li>mus_musculus</li>\n",
       "\t<li>rattus_norvegicus</li>\n",
       "</ol>\n",
       "\n",
       "<details>\n",
       "\t<summary style=display:list-item;cursor:pointer>\n",
       "\t\t<strong>Levels</strong>:\n",
       "\t</summary>\n",
       "\t<ol class=list-inline>\n",
       "\t\t<li>'bos_taurus'</li>\n",
       "\t\t<li>'gallus_gallus'</li>\n",
       "\t\t<li>'macaca_mulatta'</li>\n",
       "\t\t<li>'mus_musculus'</li>\n",
       "\t\t<li>'rattus_norvegicus'</li>\n",
       "\t</ol>\n",
       "</details>"
      ],
      "text/latex": [
       "\\begin{enumerate*}\n",
       "\\item gallus\\_gallus\n",
       "\\item macaca\\_mulatta\n",
       "\\item bos\\_taurus\n",
       "\\item mus\\_musculus\n",
       "\\item rattus\\_norvegicus\n",
       "\\end{enumerate*}\n",
       "\n",
       "\\emph{Levels}: \\begin{enumerate*}\n",
       "\\item 'bos\\_taurus'\n",
       "\\item 'gallus\\_gallus'\n",
       "\\item 'macaca\\_mulatta'\n",
       "\\item 'mus\\_musculus'\n",
       "\\item 'rattus\\_norvegicus'\n",
       "\\end{enumerate*}\n"
      ],
      "text/markdown": [
       "1. gallus_gallus\n",
       "2. macaca_mulatta\n",
       "3. bos_taurus\n",
       "4. mus_musculus\n",
       "5. rattus_norvegicus\n",
       "\n",
       "\n",
       "\n",
       "**Levels**: 1. 'bos_taurus'\n",
       "2. 'gallus_gallus'\n",
       "3. 'macaca_mulatta'\n",
       "4. 'mus_musculus'\n",
       "5. 'rattus_norvegicus'\n",
       "\n",
       "\n"
      ],
      "text/plain": [
       "[1] gallus_gallus     macaca_mulatta    bos_taurus        mus_musculus     \n",
       "[5] rattus_norvegicus\n",
       "5 Levels: bos_taurus gallus_gallus macaca_mulatta ... rattus_norvegicus"
      ]
     },
     "metadata": {},
     "output_type": "display_data"
    }
   ],
   "source": [
    "unique(samples$species)"
   ]
  },
  {
   "cell_type": "code",
   "execution_count": 32,
   "metadata": {},
   "outputs": [],
   "source": [
    "samples <- samples[samples$species==\"gallus_gallus\",]"
   ]
  },
  {
   "cell_type": "code",
   "execution_count": 57,
   "metadata": {},
   "outputs": [],
   "source": [
    "species_tx2gene_map = list(\"bos_taurus\"= \"/home//cmb-panasas2/skchoudh/genomes/bos_taurus/annotation/Bos_taurus.UMD3.1.94.tx2gene.tsv\",\n",
    "                       \"rattus_norvegicus\"=\"/home/cmb-panasas2/skchoudh/genomes/rattus_norvegicus/annotation/Rattus_norvegicus.Rnor_6.0.94.tx2gene.tsv\",\n",
    "                       \"pongo_abelii\"=\"/home/cmb-panasas2/skchoudh/genomes/pongo_abelii/annotation/Pongo_abelii.PPYG2.94.tx2gene.tsv\",\n",
    "                       \"monodelphis_domestica\"=\"/home/cmb-panasas2/skchoudh/genomes/monodelphis_domestica/annotation/Monodelphis_domestica.monDom5.94.tx2gene.tsv\",\n",
    "                       \"macaca_mulatta\"=\"/home/cmb-panasas2/skchoudh/genomes/macaca_mulatta/annotation/Macaca_mulatta.Mmul_8.0.1.94.tx2gene.tsv\",\n",
    "                       \"pan_troglodytes\" =\"/home/cmb-panasas2/skchoudh/genomes/pan_troglodytes/annotation/Pan_troglodytes.Pan_tro_3.0.94.tx2gene.tsv\",\n",
    "                       \"mus_musculus\"=\"/home/cmb-panasas2/skchoudh/genomes/mus_musculus/annotation/Mus_musculus.GRCm38.94.tx2gene.tsv\",\n",
    "                       \"homo_sapiens\" = \"/home/cmb-panasas2/skchoudh/genomes/homo_sapiens/annotation/Homo_sapiens.GRCh38.94.tx2gene.tsv\",\n",
    "                       \"gallus_gallus\" = \"/home/cmb-panasas2/skchoudh/genomes/gallus_gallus//annotation//Gallus_gallus.Gallus_gallus-5.0.94.tx2gene.tsv\",\n",
    "                       \"ornithorhynchus_anatinus\" = \"/home/cmb-panasas2/skchoudh/genomes/ornithorhynchus_anatinus/annotation/Ornithorhynchus_anatinus.OANA5.94.tx2gene.tsv\",\n",
    "                       \"gorilla_gorilla\" = \"/home/cmb-panasas2/skchoudh/genomes/gorilla_gorilla/annotation/Gorilla_gorilla.gorGor4.94.tx2gene.tsv\",\n",
    "                       \"pan_paniscus\" = \"/home/cmb-panasas2/skchoudh/genomes/pan_paniscus/annotation//Pan_paniscus.panpan1.1.94.tx2gene.tsv\"\n",
    "                      )"
   ]
  },
  {
   "cell_type": "code",
   "execution_count": 60,
   "metadata": {},
   "outputs": [
    {
     "data": {
      "text/html": [
       "<ol class=list-inline>\n",
       "\t<li>'bos_taurus'</li>\n",
       "\t<li>'rattus_norvegicus'</li>\n",
       "\t<li>'pongo_abelii'</li>\n",
       "\t<li>'monodelphis_domestica'</li>\n",
       "\t<li>'macaca_mulatta'</li>\n",
       "\t<li>'pan_troglodytes'</li>\n",
       "\t<li>'mus_musculus'</li>\n",
       "\t<li>'homo_sapiens'</li>\n",
       "\t<li>'gallus_gallus'</li>\n",
       "\t<li>'ornithorhynchus_anatinus'</li>\n",
       "\t<li>'gorilla_gorilla'</li>\n",
       "\t<li>'pan_paniscus'</li>\n",
       "</ol>\n"
      ],
      "text/latex": [
       "\\begin{enumerate*}\n",
       "\\item 'bos\\_taurus'\n",
       "\\item 'rattus\\_norvegicus'\n",
       "\\item 'pongo\\_abelii'\n",
       "\\item 'monodelphis\\_domestica'\n",
       "\\item 'macaca\\_mulatta'\n",
       "\\item 'pan\\_troglodytes'\n",
       "\\item 'mus\\_musculus'\n",
       "\\item 'homo\\_sapiens'\n",
       "\\item 'gallus\\_gallus'\n",
       "\\item 'ornithorhynchus\\_anatinus'\n",
       "\\item 'gorilla\\_gorilla'\n",
       "\\item 'pan\\_paniscus'\n",
       "\\end{enumerate*}\n"
      ],
      "text/markdown": [
       "1. 'bos_taurus'\n",
       "2. 'rattus_norvegicus'\n",
       "3. 'pongo_abelii'\n",
       "4. 'monodelphis_domestica'\n",
       "5. 'macaca_mulatta'\n",
       "6. 'pan_troglodytes'\n",
       "7. 'mus_musculus'\n",
       "8. 'homo_sapiens'\n",
       "9. 'gallus_gallus'\n",
       "10. 'ornithorhynchus_anatinus'\n",
       "11. 'gorilla_gorilla'\n",
       "12. 'pan_paniscus'\n",
       "\n",
       "\n"
      ],
      "text/plain": [
       " [1] \"bos_taurus\"               \"rattus_norvegicus\"       \n",
       " [3] \"pongo_abelii\"             \"monodelphis_domestica\"   \n",
       " [5] \"macaca_mulatta\"           \"pan_troglodytes\"         \n",
       " [7] \"mus_musculus\"             \"homo_sapiens\"            \n",
       " [9] \"gallus_gallus\"            \"ornithorhynchus_anatinus\"\n",
       "[11] \"gorilla_gorilla\"          \"pan_paniscus\"            "
      ]
     },
     "metadata": {},
     "output_type": "display_data"
    }
   ],
   "source": [
    "names(species_tx2gene_map)"
   ]
  },
  {
   "cell_type": "code",
   "execution_count": 51,
   "metadata": {},
   "outputs": [],
   "source": [
    "collapse_to_gene <- function (species, srp, sampleInfo){\n",
    "    files <- file.path('/staging/as/skchoudh/rna-seq-output/', species, srp, '/counts/', sampleInfo$sample, \"abundance.tsv\")\n",
    "    names(files) <- sampleInfo$tissue\n",
    "    print(species_tx2gene_map[[species]])\n",
    "    tx2gene <- read.table(species_tx2gene_map[[species]], header=FALSE)\n",
    "    txi.kallisto <- tximport(files, type = \"kallisto\", ignoreTxVersion = TRUE, tx2gene = tx2gene)\n",
    "    df <- as.data.frame(txi.kallisto$counts)\n",
    "    #df$genes <- rownames(df)\n",
    "    write.table(df, file=file.path('/home//cmb-panasas2/skchoudh/github_projects/EE-546-project/cross-species-data/', paste0(srp, '-', species, '_kallisto_gene_tables.tsv')),  quote=F, sep='\\t', row.names=T, col.names=T)\n",
    "}\n"
   ]
  },
  {
   "cell_type": "code",
   "execution_count": 52,
   "metadata": {},
   "outputs": [
    {
     "data": {
      "text/html": [
       "<table>\n",
       "<thead><tr><th scope=col>sample</th><th scope=col>species</th><th scope=col>tissue</th></tr></thead>\n",
       "<tbody>\n",
       "\t<tr><td>SRX196371    </td><td>gallus_gallus</td><td>a_brain      </td></tr>\n",
       "\t<tr><td>SRX196372    </td><td>gallus_gallus</td><td>a_colon      </td></tr>\n",
       "\t<tr><td>SRX196373    </td><td>gallus_gallus</td><td>a_heart      </td></tr>\n",
       "\t<tr><td>SRX196374    </td><td>gallus_gallus</td><td>a_kidney     </td></tr>\n",
       "\t<tr><td>SRX196375    </td><td>gallus_gallus</td><td>a_liver      </td></tr>\n",
       "\t<tr><td>SRX196376    </td><td>gallus_gallus</td><td>a_lung       </td></tr>\n",
       "\t<tr><td>SRX196377    </td><td>gallus_gallus</td><td>a_skm        </td></tr>\n",
       "\t<tr><td>SRX196378    </td><td>gallus_gallus</td><td>a_spleen     </td></tr>\n",
       "\t<tr><td>SRX196379    </td><td>gallus_gallus</td><td>a_testes     </td></tr>\n",
       "\t<tr><td>SRX196380    </td><td>gallus_gallus</td><td>b_brain      </td></tr>\n",
       "\t<tr><td>SRX196381    </td><td>gallus_gallus</td><td>b_colon      </td></tr>\n",
       "\t<tr><td>SRX196382    </td><td>gallus_gallus</td><td>b_heart      </td></tr>\n",
       "\t<tr><td>SRX196383    </td><td>gallus_gallus</td><td>b_kidney     </td></tr>\n",
       "\t<tr><td>SRX196384    </td><td>gallus_gallus</td><td>b_liver      </td></tr>\n",
       "\t<tr><td>SRX196385    </td><td>gallus_gallus</td><td>b_lung       </td></tr>\n",
       "\t<tr><td>SRX196386    </td><td>gallus_gallus</td><td>b_skm        </td></tr>\n",
       "\t<tr><td>SRX196387    </td><td>gallus_gallus</td><td>b_spleen     </td></tr>\n",
       "\t<tr><td>SRX196388    </td><td>gallus_gallus</td><td>b_testes     </td></tr>\n",
       "\t<tr><td>SRX196389    </td><td>gallus_gallus</td><td>c_brain      </td></tr>\n",
       "\t<tr><td>SRX196390    </td><td>gallus_gallus</td><td>c_colon      </td></tr>\n",
       "\t<tr><td>SRX196391    </td><td>gallus_gallus</td><td>c_heart      </td></tr>\n",
       "\t<tr><td>SRX196392    </td><td>gallus_gallus</td><td>c_kidney     </td></tr>\n",
       "\t<tr><td>SRX196393    </td><td>gallus_gallus</td><td>c_liver      </td></tr>\n",
       "\t<tr><td>SRX196394    </td><td>gallus_gallus</td><td>c_lung       </td></tr>\n",
       "\t<tr><td>SRX196395    </td><td>gallus_gallus</td><td>c_skm        </td></tr>\n",
       "\t<tr><td>SRX196396    </td><td>gallus_gallus</td><td>c_spleen     </td></tr>\n",
       "\t<tr><td>SRX196397    </td><td>gallus_gallus</td><td>c_testes     </td></tr>\n",
       "</tbody>\n",
       "</table>\n"
      ],
      "text/latex": [
       "\\begin{tabular}{r|lll}\n",
       " sample & species & tissue\\\\\n",
       "\\hline\n",
       "\t SRX196371       & gallus\\_gallus & a\\_brain      \\\\\n",
       "\t SRX196372       & gallus\\_gallus & a\\_colon      \\\\\n",
       "\t SRX196373       & gallus\\_gallus & a\\_heart      \\\\\n",
       "\t SRX196374       & gallus\\_gallus & a\\_kidney     \\\\\n",
       "\t SRX196375       & gallus\\_gallus & a\\_liver      \\\\\n",
       "\t SRX196376       & gallus\\_gallus & a\\_lung       \\\\\n",
       "\t SRX196377       & gallus\\_gallus & a\\_skm        \\\\\n",
       "\t SRX196378       & gallus\\_gallus & a\\_spleen     \\\\\n",
       "\t SRX196379       & gallus\\_gallus & a\\_testes     \\\\\n",
       "\t SRX196380       & gallus\\_gallus & b\\_brain      \\\\\n",
       "\t SRX196381       & gallus\\_gallus & b\\_colon      \\\\\n",
       "\t SRX196382       & gallus\\_gallus & b\\_heart      \\\\\n",
       "\t SRX196383       & gallus\\_gallus & b\\_kidney     \\\\\n",
       "\t SRX196384       & gallus\\_gallus & b\\_liver      \\\\\n",
       "\t SRX196385       & gallus\\_gallus & b\\_lung       \\\\\n",
       "\t SRX196386       & gallus\\_gallus & b\\_skm        \\\\\n",
       "\t SRX196387       & gallus\\_gallus & b\\_spleen     \\\\\n",
       "\t SRX196388       & gallus\\_gallus & b\\_testes     \\\\\n",
       "\t SRX196389       & gallus\\_gallus & c\\_brain      \\\\\n",
       "\t SRX196390       & gallus\\_gallus & c\\_colon      \\\\\n",
       "\t SRX196391       & gallus\\_gallus & c\\_heart      \\\\\n",
       "\t SRX196392       & gallus\\_gallus & c\\_kidney     \\\\\n",
       "\t SRX196393       & gallus\\_gallus & c\\_liver      \\\\\n",
       "\t SRX196394       & gallus\\_gallus & c\\_lung       \\\\\n",
       "\t SRX196395       & gallus\\_gallus & c\\_skm        \\\\\n",
       "\t SRX196396       & gallus\\_gallus & c\\_spleen     \\\\\n",
       "\t SRX196397       & gallus\\_gallus & c\\_testes     \\\\\n",
       "\\end{tabular}\n"
      ],
      "text/markdown": [
       "\n",
       "sample | species | tissue | \n",
       "|---|---|---|---|---|---|---|---|---|---|---|---|---|---|---|---|---|---|---|---|---|---|---|---|---|---|---|\n",
       "| SRX196371     | gallus_gallus | a_brain       | \n",
       "| SRX196372     | gallus_gallus | a_colon       | \n",
       "| SRX196373     | gallus_gallus | a_heart       | \n",
       "| SRX196374     | gallus_gallus | a_kidney      | \n",
       "| SRX196375     | gallus_gallus | a_liver       | \n",
       "| SRX196376     | gallus_gallus | a_lung        | \n",
       "| SRX196377     | gallus_gallus | a_skm         | \n",
       "| SRX196378     | gallus_gallus | a_spleen      | \n",
       "| SRX196379     | gallus_gallus | a_testes      | \n",
       "| SRX196380     | gallus_gallus | b_brain       | \n",
       "| SRX196381     | gallus_gallus | b_colon       | \n",
       "| SRX196382     | gallus_gallus | b_heart       | \n",
       "| SRX196383     | gallus_gallus | b_kidney      | \n",
       "| SRX196384     | gallus_gallus | b_liver       | \n",
       "| SRX196385     | gallus_gallus | b_lung        | \n",
       "| SRX196386     | gallus_gallus | b_skm         | \n",
       "| SRX196387     | gallus_gallus | b_spleen      | \n",
       "| SRX196388     | gallus_gallus | b_testes      | \n",
       "| SRX196389     | gallus_gallus | c_brain       | \n",
       "| SRX196390     | gallus_gallus | c_colon       | \n",
       "| SRX196391     | gallus_gallus | c_heart       | \n",
       "| SRX196392     | gallus_gallus | c_kidney      | \n",
       "| SRX196393     | gallus_gallus | c_liver       | \n",
       "| SRX196394     | gallus_gallus | c_lung        | \n",
       "| SRX196395     | gallus_gallus | c_skm         | \n",
       "| SRX196396     | gallus_gallus | c_spleen      | \n",
       "| SRX196397     | gallus_gallus | c_testes      | \n",
       "\n",
       "\n"
      ],
      "text/plain": [
       "   sample    species       tissue  \n",
       "1  SRX196371 gallus_gallus a_brain \n",
       "2  SRX196372 gallus_gallus a_colon \n",
       "3  SRX196373 gallus_gallus a_heart \n",
       "4  SRX196374 gallus_gallus a_kidney\n",
       "5  SRX196375 gallus_gallus a_liver \n",
       "6  SRX196376 gallus_gallus a_lung  \n",
       "7  SRX196377 gallus_gallus a_skm   \n",
       "8  SRX196378 gallus_gallus a_spleen\n",
       "9  SRX196379 gallus_gallus a_testes\n",
       "10 SRX196380 gallus_gallus b_brain \n",
       "11 SRX196381 gallus_gallus b_colon \n",
       "12 SRX196382 gallus_gallus b_heart \n",
       "13 SRX196383 gallus_gallus b_kidney\n",
       "14 SRX196384 gallus_gallus b_liver \n",
       "15 SRX196385 gallus_gallus b_lung  \n",
       "16 SRX196386 gallus_gallus b_skm   \n",
       "17 SRX196387 gallus_gallus b_spleen\n",
       "18 SRX196388 gallus_gallus b_testes\n",
       "19 SRX196389 gallus_gallus c_brain \n",
       "20 SRX196390 gallus_gallus c_colon \n",
       "21 SRX196391 gallus_gallus c_heart \n",
       "22 SRX196392 gallus_gallus c_kidney\n",
       "23 SRX196393 gallus_gallus c_liver \n",
       "24 SRX196394 gallus_gallus c_lung  \n",
       "25 SRX196395 gallus_gallus c_skm   \n",
       "26 SRX196396 gallus_gallus c_spleen\n",
       "27 SRX196397 gallus_gallus c_testes"
      ]
     },
     "metadata": {},
     "output_type": "display_data"
    }
   ],
   "source": [
    "samples"
   ]
  },
  {
   "cell_type": "code",
   "execution_count": 53,
   "metadata": {},
   "outputs": [
    {
     "name": "stdout",
     "output_type": "stream",
     "text": [
      "[1] \"/home/cmb-panasas2/skchoudh/genomes/gallus_gallus//annotation//Gallus_gallus.Gallus_gallus-5.0.94.tx2gene.tsv\"\n"
     ]
    },
    {
     "name": "stderr",
     "output_type": "stream",
     "text": [
      "Note: importing `abundance.h5` is typically faster than `abundance.tsv`\n",
      "reading in files with read_tsv\n",
      "1 2 3 4 5 6 7 8 9 10 11 12 13 14 15 16 17 18 19 20 21 22 23 24 25 26 27 \n",
      "summarizing abundance\n",
      "summarizing counts\n",
      "summarizing length\n"
     ]
    }
   ],
   "source": [
    "collapse_to_gene('gallus_gallus', 'SRP016501', samples)"
   ]
  },
  {
   "cell_type": "code",
   "execution_count": 58,
   "metadata": {},
   "outputs": [
    {
     "name": "stdout",
     "output_type": "stream",
     "text": [
      "[1] \"/home/cmb-panasas2/skchoudh/genomes/gallus_gallus//annotation//Gallus_gallus.Gallus_gallus-5.0.94.tx2gene.tsv\"\n"
     ]
    },
    {
     "name": "stderr",
     "output_type": "stream",
     "text": [
      "Note: importing `abundance.h5` is typically faster than `abundance.tsv`\n",
      "reading in files with read_tsv\n",
      "1 2 3 4 5 6 7 8 9 10 11 12 13 14 15 16 17 18 19 20 21 22 23 24 25 26 27 \n",
      "summarizing abundance\n",
      "summarizing counts\n",
      "summarizing length\n"
     ]
    },
    {
     "name": "stdout",
     "output_type": "stream",
     "text": [
      "[1] \"/home/cmb-panasas2/skchoudh/genomes/macaca_mulatta/annotation/Macaca_mulatta.Mmul_8.0.1.94.tx2gene.tsv\"\n"
     ]
    },
    {
     "name": "stderr",
     "output_type": "stream",
     "text": [
      "Note: importing `abundance.h5` is typically faster than `abundance.tsv`\n",
      "reading in files with read_tsv\n",
      "1 2 3 4 5 6 7 8 9 10 11 12 13 14 15 16 17 18 19 20 21 22 23 24 25 26 27 \n",
      "summarizing abundance\n",
      "summarizing counts\n",
      "summarizing length\n"
     ]
    },
    {
     "name": "stdout",
     "output_type": "stream",
     "text": [
      "[1] \"/home//cmb-panasas2/skchoudh/genomes/bos_taurus/annotation/Bos_taurus.UMD3.1.94.tx2gene.tsv\"\n"
     ]
    },
    {
     "name": "stderr",
     "output_type": "stream",
     "text": [
      "Note: importing `abundance.h5` is typically faster than `abundance.tsv`\n",
      "reading in files with read_tsv\n",
      "1 2 3 4 5 6 7 8 9 10 11 12 13 14 15 16 17 18 19 20 21 22 23 24 25 26 27 \n",
      "summarizing abundance\n",
      "summarizing counts\n",
      "summarizing length\n"
     ]
    },
    {
     "name": "stdout",
     "output_type": "stream",
     "text": [
      "[1] \"/home/cmb-panasas2/skchoudh/genomes/mus_musculus/annotation/Mus_musculus.GRCm38.94.tx2gene.tsv\"\n"
     ]
    },
    {
     "name": "stderr",
     "output_type": "stream",
     "text": [
      "Note: importing `abundance.h5` is typically faster than `abundance.tsv`\n",
      "reading in files with read_tsv\n",
      "1 2 3 4 5 6 7 8 9 10 11 12 13 14 15 16 17 18 19 20 21 22 23 24 25 26 \n",
      "transcripts missing from tx2gene: 1589\n",
      "summarizing abundance\n",
      "summarizing counts\n",
      "summarizing length\n"
     ]
    },
    {
     "name": "stdout",
     "output_type": "stream",
     "text": [
      "[1] \"/home/cmb-panasas2/skchoudh/genomes/rattus_norvegicus/annotation/Rattus_norvegicus.Rnor_6.0.94.tx2gene.tsv\"\n"
     ]
    },
    {
     "name": "stderr",
     "output_type": "stream",
     "text": [
      "Note: importing `abundance.h5` is typically faster than `abundance.tsv`\n",
      "reading in files with read_tsv\n",
      "1 2 3 4 5 6 7 8 9 10 11 12 13 14 15 16 17 18 19 20 21 22 23 24 25 26 27 \n",
      "summarizing abundance\n",
      "summarizing counts\n",
      "summarizing length\n"
     ]
    }
   ],
   "source": [
    "samples <- read.table('../cross-species-data/SRP016501_sample_info.tsv', header = TRUE)\n",
    "\n",
    "for (species in unique(samples$species)){\n",
    "    collapse_to_gene(species, 'SRP016501', samples[samples$species==species,])\n",
    "}"
   ]
  },
  {
   "cell_type": "code",
   "execution_count": 59,
   "metadata": {},
   "outputs": [
    {
     "name": "stdout",
     "output_type": "stream",
     "text": [
      "[1] \"/home/cmb-panasas2/skchoudh/genomes/gallus_gallus//annotation//Gallus_gallus.Gallus_gallus-5.0.94.tx2gene.tsv\"\n"
     ]
    },
    {
     "name": "stderr",
     "output_type": "stream",
     "text": [
      "Note: importing `abundance.h5` is typically faster than `abundance.tsv`\n",
      "reading in files with read_tsv\n",
      "1 2 3 4 5 6 7 8 9 10 11 12 \n",
      "summarizing abundance\n",
      "summarizing counts\n",
      "summarizing length\n"
     ]
    },
    {
     "name": "stdout",
     "output_type": "stream",
     "text": [
      "[1] \"/home/cmb-panasas2/skchoudh/genomes/ornithorhynchus_anatinus/annotation/Ornithorhynchus_anatinus.OANA5.94.tx2gene.tsv\"\n"
     ]
    },
    {
     "name": "stderr",
     "output_type": "stream",
     "text": [
      "Note: importing `abundance.h5` is typically faster than `abundance.tsv`\n",
      "reading in files with read_tsv\n",
      "1 2 3 4 5 6 7 8 9 10 11 12 \n",
      "summarizing abundance\n",
      "summarizing counts\n",
      "summarizing length\n"
     ]
    },
    {
     "name": "stdout",
     "output_type": "stream",
     "text": [
      "[1] \"/home/cmb-panasas2/skchoudh/genomes/macaca_mulatta/annotation/Macaca_mulatta.Mmul_8.0.1.94.tx2gene.tsv\"\n"
     ]
    },
    {
     "name": "stderr",
     "output_type": "stream",
     "text": [
      "Note: importing `abundance.h5` is typically faster than `abundance.tsv`\n",
      "reading in files with read_tsv\n",
      "1 2 3 4 5 6 7 8 9 10 11 12 13 \n",
      "summarizing abundance\n",
      "summarizing counts\n",
      "summarizing length\n"
     ]
    },
    {
     "name": "stdout",
     "output_type": "stream",
     "text": [
      "[1] \"/home/cmb-panasas2/skchoudh/genomes/gorilla_gorilla/annotation/Gorilla_gorilla.gorGor4.94.tx2gene.tsv\"\n"
     ]
    },
    {
     "name": "stderr",
     "output_type": "stream",
     "text": [
      "Note: importing `abundance.h5` is typically faster than `abundance.tsv`\n",
      "reading in files with read_tsv\n",
      "1 2 3 4 5 6 7 8 9 10 11 \n",
      "summarizing abundance\n",
      "summarizing counts\n",
      "summarizing length\n"
     ]
    },
    {
     "name": "stdout",
     "output_type": "stream",
     "text": [
      "[1] \"/home/cmb-panasas2/skchoudh/genomes/pan_paniscus/annotation//Pan_paniscus.panpan1.1.94.tx2gene.tsv\"\n"
     ]
    },
    {
     "name": "stderr",
     "output_type": "stream",
     "text": [
      "Note: importing `abundance.h5` is typically faster than `abundance.tsv`\n",
      "reading in files with read_tsv\n",
      "1 2 3 4 5 6 7 8 9 10 11 12 \n",
      "summarizing abundance\n",
      "summarizing counts\n",
      "summarizing length\n"
     ]
    },
    {
     "name": "stdout",
     "output_type": "stream",
     "text": [
      "[1] \"/home/cmb-panasas2/skchoudh/genomes/pan_troglodytes/annotation/Pan_troglodytes.Pan_tro_3.0.94.tx2gene.tsv\"\n"
     ]
    },
    {
     "name": "stderr",
     "output_type": "stream",
     "text": [
      "Note: importing `abundance.h5` is typically faster than `abundance.tsv`\n",
      "reading in files with read_tsv\n",
      "1 2 3 4 5 6 7 8 9 10 11 12 13 14 15 \n",
      "summarizing abundance\n",
      "summarizing counts\n",
      "summarizing length\n"
     ]
    },
    {
     "name": "stdout",
     "output_type": "stream",
     "text": [
      "[1] \"/home/cmb-panasas2/skchoudh/genomes/pongo_abelii/annotation/Pongo_abelii.PPYG2.94.tx2gene.tsv\"\n"
     ]
    },
    {
     "name": "stderr",
     "output_type": "stream",
     "text": [
      "Note: importing `abundance.h5` is typically faster than `abundance.tsv`\n",
      "reading in files with read_tsv\n",
      "1 2 3 4 5 6 7 8 9 \n",
      "summarizing abundance\n",
      "summarizing counts\n",
      "summarizing length\n"
     ]
    },
    {
     "name": "stdout",
     "output_type": "stream",
     "text": [
      "[1] \"/home/cmb-panasas2/skchoudh/genomes/homo_sapiens/annotation/Homo_sapiens.GRCh38.94.tx2gene.tsv\"\n"
     ]
    },
    {
     "name": "stderr",
     "output_type": "stream",
     "text": [
      "Note: importing `abundance.h5` is typically faster than `abundance.tsv`\n",
      "reading in files with read_tsv\n",
      "1 2 3 4 5 6 7 8 9 10 11 12 13 14 15 16 17 18 \n",
      "transcripts missing from tx2gene: 17683\n",
      "summarizing abundance\n",
      "summarizing counts\n",
      "summarizing length\n"
     ]
    },
    {
     "name": "stdout",
     "output_type": "stream",
     "text": [
      "[1] \"/home/cmb-panasas2/skchoudh/genomes/mus_musculus/annotation/Mus_musculus.GRCm38.94.tx2gene.tsv\"\n"
     ]
    },
    {
     "name": "stderr",
     "output_type": "stream",
     "text": [
      "Note: importing `abundance.h5` is typically faster than `abundance.tsv`\n",
      "reading in files with read_tsv\n",
      "1 2 3 4 5 6 7 8 9 10 11 12 13 14 15 16 17 \n",
      "transcripts missing from tx2gene: 1589\n",
      "summarizing abundance\n",
      "summarizing counts\n",
      "summarizing length\n"
     ]
    },
    {
     "name": "stdout",
     "output_type": "stream",
     "text": [
      "[1] \"/home/cmb-panasas2/skchoudh/genomes/monodelphis_domestica/annotation/Monodelphis_domestica.monDom5.94.tx2gene.tsv\"\n"
     ]
    },
    {
     "name": "stderr",
     "output_type": "stream",
     "text": [
      "Note: importing `abundance.h5` is typically faster than `abundance.tsv`\n",
      "reading in files with read_tsv\n",
      "1 2 3 4 5 6 7 8 9 10 11 12 \n",
      "summarizing abundance\n",
      "summarizing counts\n",
      "summarizing length\n"
     ]
    }
   ],
   "source": [
    "samples <- read.table('../cross-species-data/SRP007412_sample_info.tsv', header = TRUE)\n",
    "\n",
    "for (species in unique(samples$species)){\n",
    "    collapse_to_gene(species, 'SRP007412', samples[samples$species==species,])\n",
    "}"
   ]
  },
  {
   "cell_type": "code",
   "execution_count": null,
   "metadata": {},
   "outputs": [],
   "source": []
  }
 ],
 "metadata": {
  "kernelspec": {
   "display_name": "R [conda env:scanpy_r]",
   "language": "R",
   "name": "conda-env-scanpy_r-r"
  },
  "language_info": {
   "codemirror_mode": "r",
   "file_extension": ".r",
   "mimetype": "text/x-r-source",
   "name": "R",
   "pygments_lexer": "r",
   "version": "3.5.1"
  }
 },
 "nbformat": 4,
 "nbformat_minor": 2
}
