{
 "cells": [
  {
   "cell_type": "code",
   "execution_count": 2,
   "metadata": {},
   "outputs": [
    {
     "name": "stdout",
     "output_type": "stream",
     "text": [
      "Populating the interactive namespace from numpy and matplotlib\n"
     ]
    }
   ],
   "source": [
    "%pylab inline\n",
    "import pandas as pd\n",
    "from numpy.linalg import matrix_rank\n",
    "from numpy.linalg import pinv as moore_penrose_inverse\n",
    "from numpy.linalg import svd"
   ]
  },
  {
   "cell_type": "code",
   "execution_count": 217,
   "metadata": {},
   "outputs": [],
   "source": [
    "def GSVD(A, B):\n",
    "    \"\"\" Implements GSVD from Paige and Saunders (1981)\n",
    "    \n",
    "    Parameters\n",
    "    ----------\n",
    "    A, B: array_like\n",
    "          Input Matrix\n",
    "          \n",
    "    Returns\n",
    "    -------\n",
    "    \n",
    "    U: array_like\n",
    "       \n",
    "    V: array_like\n",
    "    \n",
    "\n",
    "       \n",
    "    \"\"\"\n",
    "    assert A.shape[1] == B.shape[1], 'A, B need same number of columns'\n",
    "    m, n = A.shape\n",
    "    p, n = B.shape\n",
    "    \n",
    "    # C.T = (A.T, B.T)\n",
    "    C = np.vstack([A, B])\n",
    "    \n",
    "    # Step 1\n",
    "    # P.T C Q = (R 0; 0 0)\n",
    "    P, R, QT = svd(C)\n",
    "    \n",
    "    nonzero_sigma = R[R>1e-12]\n",
    "    # r = matrix_rank(C)\n",
    "    r = len(nonzero_sigma)\n",
    "    l = matrix_rank(B)\n",
    "\n",
    "    P11 = P[:m, :r]\n",
    "    P21 = P[m:m+p, :r]\n",
    "\n",
    "    U, Sigma_A, W1 = svd(P11, full_matrices=True)    \n",
    "    V, Sigma_B, W2 = svd(P21, full_matrices=True)    \n",
    "\n",
    "    kr = min([p, r])\n",
    "    k = r - l\n",
    "    S_B = np.zeros((p, r))\n",
    "    \n",
    "    indices1 = np.arange(p-1,  p-kr-1, -1)\n",
    "    indices2 = np.arange(r-1, r-kr-1, -1)\n",
    "    values = Sigma_B[np.arange(0, kr)]\n",
    "    S_B[indices1, indices2] = list(values)\n",
    "    \n",
    "    V = np.dot(np.dot(P21, W1), moore_penrose_inverse(S_B))\n",
    "    Sigma_A = np.diag(Sigma_A)\n",
    "    alpha = np.sqrt(np.diag(np.dot(Sigma_A.T, Sigma_A)))\n",
    "    beta = np.sqrt(np.diag(np.dot(S_B.T, S_B)))\n",
    "    return U, V, alpha, beta\n"
   ]
  },
  {
   "cell_type": "code",
   "execution_count": 218,
   "metadata": {},
   "outputs": [],
   "source": [
    "A = np.array([[1, 2, 3, 1, 5],\n",
    "              [0, 3, 2, 0, 2],\n",
    "              [1, 0, 2, 1, 0],\n",
    "              [0, 2, 3, 0, -1],\n",
    "              [1, 0, 2, 1, 1],\n",
    "              [0, 2, 1, 0, 1]])\n",
    "\n",
    "\n",
    "B = np.array([[1, -2, 2, 1, 1],\n",
    "              [0, 3, 0, 0, 0],\n",
    "              [1, -2, 2, 1, 1],\n",
    "              [0, 2, 0, 0, 0],\n",
    "              [2, -4, 4, 2, 2],\n",
    "              [1, 3, 2, 1, 1]])"
   ]
  },
  {
   "cell_type": "code",
   "execution_count": 219,
   "metadata": {},
   "outputs": [
    {
     "data": {
      "text/plain": [
       "(6, 5)"
      ]
     },
     "execution_count": 219,
     "metadata": {},
     "output_type": "execute_result"
    }
   ],
   "source": [
    "A.shape"
   ]
  },
  {
   "cell_type": "code",
   "execution_count": 220,
   "metadata": {},
   "outputs": [
    {
     "data": {
      "text/plain": [
       "(6, 5)"
      ]
     },
     "execution_count": 220,
     "metadata": {},
     "output_type": "execute_result"
    }
   ],
   "source": [
    "B.shape"
   ]
  },
  {
   "cell_type": "code",
   "execution_count": 221,
   "metadata": {},
   "outputs": [],
   "source": [
    "U, V, alpha, beta = GSVD(A, B)"
   ]
  },
  {
   "cell_type": "code",
   "execution_count": null,
   "metadata": {},
   "outputs": [],
   "source": [
    "alpha"
   ]
  },
  {
   "cell_type": "code",
   "execution_count": 222,
   "metadata": {},
   "outputs": [
    {
     "data": {
      "text/plain": [
       "array([1.        , 1.        , 0.57884631, 0.15378845])"
      ]
     },
     "execution_count": 222,
     "metadata": {},
     "output_type": "execute_result"
    }
   ],
   "source": [
    "alpha"
   ]
  },
  {
   "cell_type": "code",
   "execution_count": 223,
   "metadata": {},
   "outputs": [
    {
     "data": {
      "text/plain": [
       "array([4.77173113e-17, 8.78515759e-17, 8.15436659e-01, 9.88103797e-01])"
      ]
     },
     "execution_count": 223,
     "metadata": {},
     "output_type": "execute_result"
    }
   ],
   "source": [
    "beta"
   ]
  },
  {
   "cell_type": "code",
   "execution_count": 180,
   "metadata": {},
   "outputs": [
    {
     "data": {
      "text/plain": [
       "array([1.12168955e-16, 8.28008025e-01, 9.88149658e-01, 2.41098029e-17,\n",
       "       7.33392243e-17])"
      ]
     },
     "execution_count": 180,
     "metadata": {},
     "output_type": "execute_result"
    }
   ],
   "source": [
    "np.sqrt(np.diag(Sigma_B))"
   ]
  },
  {
   "cell_type": "code",
   "execution_count": 195,
   "metadata": {},
   "outputs": [
    {
     "data": {
      "text/plain": [
       "array([1.        , 1.        , 1.        , 0.56071625, 0.1534935 ])"
      ]
     },
     "execution_count": 195,
     "metadata": {},
     "output_type": "execute_result"
    }
   ],
   "source": [
    "np.sqrt(np.diag(Sigma_A))"
   ]
  },
  {
   "cell_type": "code",
   "execution_count": 196,
   "metadata": {},
   "outputs": [
    {
     "data": {
      "text/plain": [
       "array([2.41098029e-17, 7.33392243e-17, 1.12168955e-16, 8.28008025e-01,\n",
       "       9.88149658e-01])"
      ]
     },
     "execution_count": 196,
     "metadata": {},
     "output_type": "execute_result"
    }
   ],
   "source": [
    "np.sqrt(np.diag(Sigma_B))"
   ]
  },
  {
   "cell_type": "code",
   "execution_count": 198,
   "metadata": {},
   "outputs": [
    {
     "data": {
      "text/plain": [
       "(6, 6)"
      ]
     },
     "execution_count": 198,
     "metadata": {},
     "output_type": "execute_result"
    }
   ],
   "source": [
    "U.shape"
   ]
  },
  {
   "cell_type": "code",
   "execution_count": 199,
   "metadata": {},
   "outputs": [
    {
     "data": {
      "text/plain": [
       "(6, 6)"
      ]
     },
     "execution_count": 199,
     "metadata": {},
     "output_type": "execute_result"
    }
   ],
   "source": [
    "V.shape"
   ]
  },
  {
   "cell_type": "code",
   "execution_count": null,
   "metadata": {},
   "outputs": [],
   "source": []
  }
 ],
 "metadata": {
  "kernelspec": {
   "display_name": "Python [conda env:riboraptor]",
   "language": "python",
   "name": "conda-env-riboraptor-py"
  },
  "language_info": {
   "codemirror_mode": {
    "name": "ipython",
    "version": 3
   },
   "file_extension": ".py",
   "mimetype": "text/x-python",
   "name": "python",
   "nbconvert_exporter": "python",
   "pygments_lexer": "ipython3",
   "version": "3.6.5"
  }
 },
 "nbformat": 4,
 "nbformat_minor": 2
}
