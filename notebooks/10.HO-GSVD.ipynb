{
 "cells": [
  {
   "cell_type": "code",
   "execution_count": 2,
   "metadata": {},
   "outputs": [
    {
     "name": "stdout",
     "output_type": "stream",
     "text": [
      "Populating the interactive namespace from numpy and matplotlib\n"
     ]
    }
   ],
   "source": [
    "%pylab inline\n",
    "import glob\n",
    "import spams\n",
    "import pandas as pd\n",
    "from numpy.linalg import pinv as moore_penrose_inv\n",
    "from numpy.linalg import svd, eig\n",
    "from tqdm import tqdm"
   ]
  },
  {
   "cell_type": "code",
   "execution_count": 8,
   "metadata": {},
   "outputs": [
    {
     "name": "stdout",
     "output_type": "stream",
     "text": [
      "SRP007412-gallus_gallus.tsv : Array colsize: 12 | rank: 12\n",
      "SRP007412-gorilla_gorilla.tsv : Array colsize: 11 | rank: 11\n",
      "SRP007412-homo_sapiens.tsv : Array colsize: 18 | rank: 18\n",
      "SRP007412-macaca_mulatta.tsv : Array colsize: 13 | rank: 13\n",
      "SRP007412-monodelphis_domestica.tsv : Array colsize: 12 | rank: 12\n",
      "SRP007412-mus_musculus.tsv : Array colsize: 17 | rank: 17\n",
      "SRP007412-ornithorhynchus_anatinus.tsv : Array colsize: 12 | rank: 12\n",
      "SRP007412-pan_paniscus.tsv : Array colsize: 12 | rank: 12\n",
      "SRP007412-pan_troglodytes.tsv : Array colsize: 15 | rank: 15\n",
      "SRP007412-pongo_abelii.tsv : Array colsize: 9 | rank: 9\n",
      "SRP016501-bos_taurus.tsv : Array colsize: 27 | rank: 27\n",
      "SRP016501-gallus_gallus.tsv : Array colsize: 27 | rank: 27\n",
      "SRP016501-macaca_mulatta.tsv : Array colsize: 27 | rank: 27\n",
      "SRP016501-mus_musculus.tsv : Array colsize: 26 | rank: 26\n",
      "SRP016501-rattus_norvegicus.tsv : Array colsize: 27 | rank: 27\n"
     ]
    }
   ],
   "source": [
    "prefix = '/home/cmb-panasas2/skchoudh/github_projects/EE-546-project/cross-species-data/'\n",
    "for f in sorted(glob.glob('{}/*.tsv'.format(prefix))):\n",
    "    df = pd.read_table(f)\n",
    "    df = df.drop(columns=['target_id'])\n",
    "    matrix = df.values\n",
    "    colsize = matrix.shape[1]\n",
    "    rank = matrix_rank(matrix)\n",
    "    print('{} : Array colsize: {} | rank: {}'.format(f.split('/')[-1], colsize, rank))"
   ]
  },
  {
   "cell_type": "code",
   "execution_count": 41,
   "metadata": {},
   "outputs": [],
   "source": [
    "def einsum_row_norm(a):\n",
    "    return np.sqrt(np.einsum('ij,ij->i', a, a))\n",
    "\n",
    "def einsum_col_norm(a):\n",
    "    return np.sqrt(np.einsum('ij,ij->j', a, a))\n",
    "\n",
    "\n",
    "def ho_SVD(list_of_X):\n",
    "    \"\"\" Perform higher order SVD\n",
    "    \n",
    "    list_of_X: list\n",
    "               [X_1, X_2, X_3, ..., X_n] size (n x m)\n",
    "    \n",
    "    \"\"\"\n",
    "    # Step 1\n",
    "    # A_i = X_i^T X_i\n",
    "    # A_inv = moore_penrose_inv(A_i)\n",
    "    A = []\n",
    "    N = len(list_of_X)\n",
    "    A_inv = []\n",
    "    for X in list_of_X:\n",
    "        A_i = np.dot(X.T, X)\n",
    "        A.append(A_i)\n",
    "        A_inv.append(moore_penrose_inv(A_i))\n",
    "    # Step 2\n",
    "    # W = 1/N(N-1) * sum_{i=1}^jn sum_{j>i}^N A_i moore_penrose_inv(A_j) + A_j moore_penrose_inv(A_i)\n",
    "    W = 0\n",
    "    \n",
    "    for i in range(N):\n",
    "        for j in range(i+1, N):\n",
    "            W = W + (np.dot(A[i], A_inv[j]) + np.dot(A[j], A_inv[i]))\n",
    "    W =  W/(N*(N-1))\n",
    "    \n",
    "    # Step 3\n",
    "    # Eigen decomposition of W?\n",
    "    # WV = V\\Lambda\n",
    "    # V= (v_1, v_2, ..., v_n)\n",
    "    # ||v||_k =1, but V is not necesarrily orthonormal\n",
    "    # But we don't\n",
    "    \n",
    "    eigen_values, V = eig(W)\n",
    "\n",
    "    idx = eigen_values.argsort()[::-1]   \n",
    "    eigen_values = eigen_values[idx]\n",
    "    V = V[:,idx]\n",
    "    \n",
    "    \n",
    "    # Step 4\n",
    "    # solve for  VB_i = X_i^T\n",
    "  \n",
    "    B = []\n",
    "    U = []\n",
    "    sigmas = []\n",
    "    for X in list_of_X:\n",
    "        B_i = spams.omp( np.asfortranarray(X.T), V, lambda1=0, numThreads = 24)\n",
    "        B.append(B_i)\n",
    "        sigma_i  = np.linalg.norm(B_i, axis=0) #einsum_col_norm(B)\n",
    "        U_i = B_i/sigma_i \n",
    "        sigmas.append(sigma_i)\n",
    "\n",
    "    \n",
    "    "
   ]
  },
  {
   "cell_type": "code",
   "execution_count": 42,
   "metadata": {},
   "outputs": [],
   "source": [
    "df = pd.read_table('/home/cmb-panasas2/skchoudh/github_projects/EE-546-project/cross-species-data/SRP016501-rattus_norvegicus.tsv')\n",
    "df = df.drop(columns=['target_id'])\n",
    "matrix1 =  np.asfortranarray(df.values)\n",
    "\n",
    "df = pd.read_table('/home/cmb-panasas2/skchoudh/github_projects/EE-546-project/cross-species-data/SRP016501-gallus_gallus.tsv')\n",
    "df = df.drop(columns=['target_id'])\n",
    "matrix2 =  np.asfortranarray(df.values)\n"
   ]
  },
  {
   "cell_type": "code",
   "execution_count": null,
   "metadata": {},
   "outputs": [],
   "source": [
    "ho_SVD([matrix1, matrix2])"
   ]
  },
  {
   "cell_type": "code",
   "execution_count": null,
   "metadata": {},
   "outputs": [],
   "source": []
  }
 ],
 "metadata": {
  "kernelspec": {
   "display_name": "Python [conda env:scanpy]",
   "language": "python",
   "name": "conda-env-scanpy-py"
  },
  "language_info": {
   "codemirror_mode": {
    "name": "ipython",
    "version": 3
   },
   "file_extension": ".py",
   "mimetype": "text/x-python",
   "name": "python",
   "nbconvert_exporter": "python",
   "pygments_lexer": "ipython3",
   "version": "3.6.6"
  }
 },
 "nbformat": 4,
 "nbformat_minor": 2
}
