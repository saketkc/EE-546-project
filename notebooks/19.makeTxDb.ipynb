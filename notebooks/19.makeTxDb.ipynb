{
 "cells": [
  {
   "cell_type": "code",
   "execution_count": 2,
   "metadata": {},
   "outputs": [],
   "source": [
    "suppressMessages(library(GenomicFeatures))\n",
    "suppressMessages(library(dplyr))"
   ]
  },
  {
   "cell_type": "code",
   "execution_count": 16,
   "metadata": {},
   "outputs": [],
   "source": [
    "create_tx2gene <- function (encode_gtf){\n",
    "    TxDb <- makeTxDbFromGFF(encode_gtf)\n",
    "    transcripts.data <- transcripts(TxDb, columns=c(\"tx_name\", \"gene_id\"))\n",
    "    anyDuplicated(elementMetadata(transcripts.data)$tx_name)\n",
    "\n",
    "    tx2gene <- unlist(elementMetadata(transcripts.data)$gene_id)\n",
    "    names(tx2gene) <- elementMetadata(transcripts.data)$tx_name    \n",
    "    filename = gsub(pattern = \"\\\\.gtf$\", \".tx2gene.tsv\", encode_gtf)\n",
    "\n",
    "    tx2gene.df <- as.data.frame(tx2gene)\n",
    "    rownames(tx2gene.df) <- gsub('\\\\.[0-9]+', '', rownames(tx2gene.df))\n",
    "    tx2gene.df$tx <- rownames(tx2gene.df)\n",
    "    names(tx2gene.df) <- sub(\"tx2gene\", \"gene\", names(tx2gene.df))\n",
    "    tx2gene.df$gene <- gsub('\\\\.[0-9]+', '', tx2gene.df$gene)\n",
    "    tx2gene.df <- tx2gene.df[c('tx', 'gene')]\n",
    "    write.table(tx2gene.df, file=filename, quote=F, sep='\\t', row.names=F, col.names=F)\n",
    "\n",
    "}\n"
   ]
  },
  {
   "cell_type": "code",
   "execution_count": 17,
   "metadata": {},
   "outputs": [
    {
     "name": "stderr",
     "output_type": "stream",
     "text": [
      "Import genomic features from the file as a GRanges object ... OK\n",
      "Prepare the 'metadata' data frame ... OK\n",
      "Make the TxDb object ... Warning message in .get_cds_IDX(type, phase):\n",
      "“The \"phase\" metadata column contains non-NA values for features of type\n",
      "  stop_codon. This information was ignored.”OK\n"
     ]
    }
   ],
   "source": [
    "create_tx2gene('/home//cmb-panasas2/skchoudh/genomes/bos_taurus/annotation/Bos_taurus.UMD3.1.94.gtf')"
   ]
  },
  {
   "cell_type": "code",
   "execution_count": 18,
   "metadata": {},
   "outputs": [
    {
     "name": "stderr",
     "output_type": "stream",
     "text": [
      "Import genomic features from the file as a GRanges object ... OK\n",
      "Prepare the 'metadata' data frame ... OK\n",
      "Make the TxDb object ... Warning message in .get_cds_IDX(type, phase):\n",
      "“The \"phase\" metadata column contains non-NA values for features of type\n",
      "  stop_codon. This information was ignored.”OK\n"
     ]
    }
   ],
   "source": [
    "create_tx2gene('/home/cmb-panasas2/skchoudh/genomes/rattus_norvegicus/annotation/Rattus_norvegicus.Rnor_6.0.94.gtf')"
   ]
  },
  {
   "cell_type": "code",
   "execution_count": 19,
   "metadata": {},
   "outputs": [
    {
     "name": "stderr",
     "output_type": "stream",
     "text": [
      "Import genomic features from the file as a GRanges object ... OK\n",
      "Prepare the 'metadata' data frame ... OK\n",
      "Make the TxDb object ... Warning message in .get_cds_IDX(type, phase):\n",
      "“The \"phase\" metadata column contains non-NA values for features of type\n",
      "  stop_codon. This information was ignored.”OK\n"
     ]
    }
   ],
   "source": [
    "create_tx2gene('/home/cmb-panasas2/skchoudh/genomes/pongo_abelii/annotation/Pongo_abelii.PPYG2.94.gtf')"
   ]
  },
  {
   "cell_type": "code",
   "execution_count": 20,
   "metadata": {},
   "outputs": [
    {
     "name": "stderr",
     "output_type": "stream",
     "text": [
      "Import genomic features from the file as a GRanges object ... OK\n",
      "Prepare the 'metadata' data frame ... OK\n",
      "Make the TxDb object ... Warning message in .get_cds_IDX(type, phase):\n",
      "“The \"phase\" metadata column contains non-NA values for features of type\n",
      "  stop_codon. This information was ignored.”OK\n"
     ]
    }
   ],
   "source": [
    "create_tx2gene('/home/cmb-panasas2/skchoudh/genomes/monodelphis_domestica/annotation/Monodelphis_domestica.monDom5.94.gtf')"
   ]
  },
  {
   "cell_type": "code",
   "execution_count": 21,
   "metadata": {},
   "outputs": [
    {
     "name": "stderr",
     "output_type": "stream",
     "text": [
      "Import genomic features from the file as a GRanges object ... OK\n",
      "Prepare the 'metadata' data frame ... OK\n",
      "Make the TxDb object ... Warning message in .get_cds_IDX(type, phase):\n",
      "“The \"phase\" metadata column contains non-NA values for features of type\n",
      "  stop_codon. This information was ignored.”OK\n"
     ]
    }
   ],
   "source": [
    "create_tx2gene('/home/cmb-panasas2/skchoudh/genomes/macaca_mulatta/annotation/Macaca_mulatta.Mmul_8.0.1.94.gtf')"
   ]
  },
  {
   "cell_type": "code",
   "execution_count": 22,
   "metadata": {},
   "outputs": [
    {
     "name": "stderr",
     "output_type": "stream",
     "text": [
      "Import genomic features from the file as a GRanges object ... OK\n",
      "Prepare the 'metadata' data frame ... OK\n",
      "Make the TxDb object ... Warning message in .get_cds_IDX(type, phase):\n",
      "“The \"phase\" metadata column contains non-NA values for features of type\n",
      "  stop_codon. This information was ignored.”OK\n"
     ]
    }
   ],
   "source": [
    "create_tx2gene('/home/cmb-panasas2/skchoudh/genomes/pan_troglodytes/annotation/Pan_troglodytes.Pan_tro_3.0.94.gtf')"
   ]
  },
  {
   "cell_type": "code",
   "execution_count": 23,
   "metadata": {},
   "outputs": [
    {
     "name": "stderr",
     "output_type": "stream",
     "text": [
      "Import genomic features from the file as a GRanges object ... OK\n",
      "Prepare the 'metadata' data frame ... OK\n",
      "Make the TxDb object ... Warning message in .get_cds_IDX(type, phase):\n",
      "“The \"phase\" metadata column contains non-NA values for features of type\n",
      "  stop_codon. This information was ignored.”OK\n"
     ]
    }
   ],
   "source": [
    "create_tx2gene('/home/cmb-panasas2/skchoudh/genomes/mus_musculus/annotation/Mus_musculus.GRCm38.94.gtf')"
   ]
  },
  {
   "cell_type": "code",
   "execution_count": 24,
   "metadata": {},
   "outputs": [
    {
     "name": "stderr",
     "output_type": "stream",
     "text": [
      "Import genomic features from the file as a GRanges object ... OK\n",
      "Prepare the 'metadata' data frame ... OK\n",
      "Make the TxDb object ... Warning message in .get_cds_IDX(type, phase):\n",
      "“The \"phase\" metadata column contains non-NA values for features of type\n",
      "  stop_codon. This information was ignored.”OK\n"
     ]
    }
   ],
   "source": [
    "create_tx2gene('/home/cmb-panasas2/skchoudh/genomes/homo_sapiens/annotation/Homo_sapiens.GRCh38.94.gtf')"
   ]
  },
  {
   "cell_type": "code",
   "execution_count": 25,
   "metadata": {},
   "outputs": [
    {
     "name": "stderr",
     "output_type": "stream",
     "text": [
      "Import genomic features from the file as a GRanges object ... OK\n",
      "Prepare the 'metadata' data frame ... OK\n",
      "Make the TxDb object ... Warning message in .get_cds_IDX(type, phase):\n",
      "“The \"phase\" metadata column contains non-NA values for features of type\n",
      "  stop_codon. This information was ignored.”OK\n"
     ]
    }
   ],
   "source": [
    "create_tx2gene('/home/cmb-panasas2/skchoudh/genomes/gallus_gallus//annotation//Gallus_gallus.Gallus_gallus-5.0.94.gtf')"
   ]
  },
  {
   "cell_type": "code",
   "execution_count": 26,
   "metadata": {},
   "outputs": [
    {
     "name": "stderr",
     "output_type": "stream",
     "text": [
      "Import genomic features from the file as a GRanges object ... OK\n",
      "Prepare the 'metadata' data frame ... OK\n",
      "Make the TxDb object ... Warning message in .get_cds_IDX(type, phase):\n",
      "“The \"phase\" metadata column contains non-NA values for features of type\n",
      "  stop_codon. This information was ignored.”OK\n"
     ]
    }
   ],
   "source": [
    "create_tx2gene(\"/home/cmb-panasas2/skchoudh/genomes/ornithorhynchus_anatinus/annotation/Ornithorhynchus_anatinus.OANA5.94.gtf\")"
   ]
  },
  {
   "cell_type": "code",
   "execution_count": 27,
   "metadata": {},
   "outputs": [
    {
     "name": "stderr",
     "output_type": "stream",
     "text": [
      "Import genomic features from the file as a GRanges object ... OK\n",
      "Prepare the 'metadata' data frame ... OK\n",
      "Make the TxDb object ... Warning message in .get_cds_IDX(type, phase):\n",
      "“The \"phase\" metadata column contains non-NA values for features of type\n",
      "  stop_codon. This information was ignored.”OK\n"
     ]
    }
   ],
   "source": [
    "create_tx2gene(\"/home/cmb-panasas2/skchoudh/genomes/gorilla_gorilla/annotation/Gorilla_gorilla.gorGor4.94.gtf\")"
   ]
  },
  {
   "cell_type": "code",
   "execution_count": 28,
   "metadata": {},
   "outputs": [
    {
     "name": "stderr",
     "output_type": "stream",
     "text": [
      "Import genomic features from the file as a GRanges object ... OK\n",
      "Prepare the 'metadata' data frame ... OK\n",
      "Make the TxDb object ... Warning message in .get_cds_IDX(type, phase):\n",
      "“The \"phase\" metadata column contains non-NA values for features of type\n",
      "  stop_codon. This information was ignored.”OK\n"
     ]
    }
   ],
   "source": [
    "create_tx2gene(\"/home/cmb-panasas2/skchoudh/genomes/pan_paniscus/annotation//Pan_paniscus.panpan1.1.94.gtf\")"
   ]
  },
  {
   "cell_type": "code",
   "execution_count": null,
   "metadata": {},
   "outputs": [],
   "source": []
  }
 ],
 "metadata": {
  "kernelspec": {
   "display_name": "R [conda env:scanpy_r]",
   "language": "R",
   "name": "conda-env-scanpy_r-r"
  },
  "language_info": {
   "codemirror_mode": "r",
   "file_extension": ".r",
   "mimetype": "text/x-r-source",
   "name": "R",
   "pygments_lexer": "r",
   "version": "3.5.1"
  }
 },
 "nbformat": 4,
 "nbformat_minor": 2
}
