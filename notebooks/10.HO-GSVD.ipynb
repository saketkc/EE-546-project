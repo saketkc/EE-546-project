{
 "cells": [
  {
   "cell_type": "code",
   "execution_count": 5,
   "metadata": {},
   "outputs": [
    {
     "name": "stdout",
     "output_type": "stream",
     "text": [
      "Populating the interactive namespace from numpy and matplotlib\n"
     ]
    }
   ],
   "source": [
    "%pylab inline\n",
    "import glob\n",
    "import spams\n",
    "import pandas as pd\n",
    "from numpy.linalg import pinv as moore_penrose_inv\n",
    "from numpy.linalg import svd, eig\n",
    "from tqdm import tqdm"
   ]
  },
  {
   "cell_type": "code",
   "execution_count": 6,
   "metadata": {},
   "outputs": [
    {
     "name": "stdout",
     "output_type": "stream",
     "text": [
      "SRP007412-gallus_gallus.tsv : Array colsize: 12 | rank: 12\n",
      "SRP007412-gorilla_gorilla.tsv : Array colsize: 11 | rank: 11\n",
      "SRP007412-homo_sapiens.tsv : Array colsize: 18 | rank: 18\n",
      "SRP007412-macaca_mulatta.tsv : Array colsize: 13 | rank: 13\n",
      "SRP007412-monodelphis_domestica.tsv : Array colsize: 12 | rank: 12\n",
      "SRP007412-mus_musculus.tsv : Array colsize: 17 | rank: 17\n",
      "SRP007412-ornithorhynchus_anatinus.tsv : Array colsize: 12 | rank: 12\n",
      "SRP007412-pan_paniscus.tsv : Array colsize: 12 | rank: 12\n",
      "SRP007412-pan_troglodytes.tsv : Array colsize: 15 | rank: 15\n",
      "SRP007412-pongo_abelii.tsv : Array colsize: 9 | rank: 9\n",
      "SRP016501-bos_taurus.tsv : Array colsize: 27 | rank: 27\n",
      "SRP016501-gallus_gallus.tsv : Array colsize: 27 | rank: 27\n",
      "SRP016501-macaca_mulatta.tsv : Array colsize: 27 | rank: 27\n",
      "SRP016501-mus_musculus.tsv : Array colsize: 26 | rank: 26\n",
      "SRP016501-rattus_norvegicus.tsv : Array colsize: 27 | rank: 27\n"
     ]
    }
   ],
   "source": [
    "prefix = '/home/cmb-panasas2/skchoudh/github_projects/EE-546-project/cross-species-data/'\n",
    "for f in sorted(glob.glob('{}/*.tsv'.format(prefix))):\n",
    "    df = pd.read_table(f)\n",
    "    df = df.drop(columns=['target_id'])\n",
    "    matrix = df.values\n",
    "    colsize = matrix.shape[1]\n",
    "    rank = matrix_rank(matrix)\n",
    "    print('{} : Array colsize: {} | rank: {}'.format(f.split('/')[-1], colsize, rank))"
   ]
  },
  {
   "cell_type": "code",
   "execution_count": 31,
   "metadata": {},
   "outputs": [],
   "source": [
    "def einsum_row_norm(a):\n",
    "    return np.sqrt(np.einsum('ij,ij->i', a, a))\n",
    "\n",
    "def einsum_col_norm(a):\n",
    "    return np.sqrt(np.einsum('ij,ij->j', a, a))\n",
    "\n",
    "\n",
    "def ho_SVD(list_of_X):\n",
    "    \"\"\" Perform higher order SVD\n",
    "    \n",
    "    list_of_X: list\n",
    "               [X_1, X_2, X_3, ..., X_n] size (n x m)\n",
    "    \n",
    "    \"\"\"\n",
    "    # Step 1\n",
    "    # A_i = X_i^T X_i\n",
    "    # A_inv = moore_penrose_inv(A_i)\n",
    "    A = []\n",
    "    N = len(list_of_X)\n",
    "    A_inv = []\n",
    "    for X in list_of_X:\n",
    "        A_i = np.dot(X.T, X)\n",
    "        A.append(A_i)\n",
    "        A_inv.append(np.linalg.inv((A_i)))\n",
    "    # Step 2\n",
    "    # W = 1/N(N-1) * sum_{i=1}^jn sum_{j>i}^N A_i moore_penrose_inv(A_j) + A_j moore_penrose_inv(A_i)\n",
    "    W = 0\n",
    "    \n",
    "    for i in range(N):\n",
    "        for j in range(i+1, N):\n",
    "            W = W + (np.dot(A[i], A_inv[j]) + np.dot(A[j], A_inv[i]))\n",
    "    W =  W/(N*(N-1))\n",
    "    \n",
    "    # Step 3\n",
    "    # Eigen decomposition of W?\n",
    "    # WV = V\\Lambda\n",
    "    # V= (v_1, v_2, ..., v_n)\n",
    "    # ||v||_k =1, but V is not necesarrily orthonormal\n",
    "    # But we don't\n",
    "    \n",
    "    eigen_values, V = eig(W)\n",
    "\n",
    "    idx = eigen_values.argsort()[::-1]   \n",
    "    eigen_values = eigen_values[idx]\n",
    "    V = V[:,idx]\n",
    "    \n",
    "    \n",
    "    # Step 4\n",
    "    # solve for  VB_i = X_i^T\n",
    "     #Calculate the Bi matrices\n",
    "   \n",
    "    B = []\n",
    "    U = []\n",
    "    sigmas = []\n",
    "    for X in list_of_X:\n",
    "        #B_i = spams.omp( np.asfortranarray(X.T), V, lambda1=0, numThreads = 24)]\n",
    "        # VB.T = X.T\n",
    "        B_i = np.dot(np.linalg.inv(V), X.T).T\n",
    "        B.append(B_i)\n",
    "        sigma_i  = np.linalg.norm(B_i, axis=0) #einsum_col_norm(B)\n",
    "        U_i = B_i/sigma_i \n",
    "        sigmas.append(sigma_i))\n",
    "        U.append(U_i)\n",
    "    angles = np.array()\n",
    "    return U, sigmas, V\n",
    "    "
   ]
  },
  {
   "cell_type": "code",
   "execution_count": 59,
   "metadata": {},
   "outputs": [],
   "source": [
    "df = pd.read_table('/home/cmb-panasas2/skchoudh/github_projects/EE-546-project/cross-species-data/SRP016501-rattus_norvegicus.tsv')\n",
    "df = df.drop(columns=['target_id'])\n",
    "matrix1 =  np.asfortranarray(df.values)\n",
    "\n",
    "df = pd.read_table('/home/cmb-panasas2/skchoudh/github_projects/EE-546-project/cross-species-data/SRP016501-gallus_gallus.tsv')\n",
    "df = df.drop(columns=['target_id'])\n",
    "matrix2 =  np.asfortranarray(df.values)\n",
    "\n",
    "df = pd.read_table('/home/cmb-panasas2/skchoudh/github_projects/EE-546-project/cross-species-data/SRP016501-bos_taurus.tsv')\n",
    "df = df.drop(columns=['target_id'])\n",
    "matrix3 =  np.asfortranarray(df.values)\n",
    "\n",
    "df = pd.read_table('/home/cmb-panasas2/skchoudh/github_projects/EE-546-project/cross-species-data/SRP016501-macaca_mulatta.tsv')\n",
    "df = df.drop(columns=['target_id'])\n",
    "matrix4 =  np.asfortranarray(df.values)\n",
    "\n"
   ]
  },
  {
   "cell_type": "code",
   "execution_count": 60,
   "metadata": {},
   "outputs": [],
   "source": [
    "U, sigmas, V = ho_SVD([matrix1, matrix2, matrix3, matrix4])\n",
    "sigmas_matrix = [np.diag(sigma) for sigma in sigmas]\n"
   ]
  },
  {
   "cell_type": "code",
   "execution_count": null,
   "metadata": {},
   "outputs": [],
   "source": []
  },
  {
   "cell_type": "code",
   "execution_count": 65,
   "metadata": {},
   "outputs": [
    {
     "data": {
      "text/html": [
       "<div>\n",
       "<style scoped>\n",
       "    .dataframe tbody tr th:only-of-type {\n",
       "        vertical-align: middle;\n",
       "    }\n",
       "\n",
       "    .dataframe tbody tr th {\n",
       "        vertical-align: top;\n",
       "    }\n",
       "\n",
       "    .dataframe thead th {\n",
       "        text-align: right;\n",
       "    }\n",
       "</style>\n",
       "<table border=\"1\" class=\"dataframe\">\n",
       "  <thead>\n",
       "    <tr style=\"text-align: right;\">\n",
       "      <th></th>\n",
       "      <th>2_hr</th>\n",
       "      <th>4_hr</th>\n",
       "      <th>6_hr</th>\n",
       "      <th>8_hr</th>\n",
       "      <th>10_hr</th>\n",
       "      <th>12_hr</th>\n",
       "      <th>14_hr</th>\n",
       "      <th>16_hr</th>\n",
       "      <th>18_hr</th>\n",
       "      <th>20_hr</th>\n",
       "      <th>22_hr</th>\n",
       "      <th>24_hr</th>\n",
       "      <th>26_hr</th>\n",
       "      <th>28_hr</th>\n",
       "      <th>30_hr</th>\n",
       "      <th>32_hr</th>\n",
       "      <th>34_hr</th>\n",
       "      <th>36_hr</th>\n",
       "    </tr>\n",
       "  </thead>\n",
       "  <tbody>\n",
       "    <tr>\n",
       "      <th>0</th>\n",
       "      <td>1.279</td>\n",
       "      <td>0.962</td>\n",
       "      <td>1.4</td>\n",
       "      <td>1.346</td>\n",
       "      <td>1.18</td>\n",
       "      <td>1.366</td>\n",
       "      <td>1.308</td>\n",
       "      <td>1.498</td>\n",
       "      <td>1.448</td>\n",
       "      <td>1.242</td>\n",
       "      <td>1.547</td>\n",
       "      <td>1.372</td>\n",
       "      <td>0.935</td>\n",
       "      <td>1.479</td>\n",
       "      <td>1.526</td>\n",
       "      <td>Null</td>\n",
       "      <td>1.398</td>\n",
       "      <td>1.533</td>\n",
       "    </tr>\n",
       "    <tr>\n",
       "      <th>1</th>\n",
       "      <td>0.912</td>\n",
       "      <td>0.855</td>\n",
       "      <td>1.169</td>\n",
       "      <td>0.939</td>\n",
       "      <td>1.17</td>\n",
       "      <td>1.112</td>\n",
       "      <td>1.195</td>\n",
       "      <td>1.31</td>\n",
       "      <td>1.279</td>\n",
       "      <td>1.165</td>\n",
       "      <td>1.194</td>\n",
       "      <td>1.076</td>\n",
       "      <td>1.142</td>\n",
       "      <td>1.58</td>\n",
       "      <td>1.354</td>\n",
       "      <td>Null</td>\n",
       "      <td>Null</td>\n",
       "      <td>1.222</td>\n",
       "    </tr>\n",
       "    <tr>\n",
       "      <th>2</th>\n",
       "      <td>3.737</td>\n",
       "      <td>2.737</td>\n",
       "      <td>3.221</td>\n",
       "      <td>3.187</td>\n",
       "      <td>3.269</td>\n",
       "      <td>2.465</td>\n",
       "      <td>2.13</td>\n",
       "      <td>1.964</td>\n",
       "      <td>1.577</td>\n",
       "      <td>1.522</td>\n",
       "      <td>1.587</td>\n",
       "      <td>1.661</td>\n",
       "      <td>1.405</td>\n",
       "      <td>1.925</td>\n",
       "      <td>1.457</td>\n",
       "      <td>Null</td>\n",
       "      <td>1.563</td>\n",
       "      <td>1.66</td>\n",
       "    </tr>\n",
       "    <tr>\n",
       "      <th>3</th>\n",
       "      <td>1.075</td>\n",
       "      <td>1.051</td>\n",
       "      <td>1.255</td>\n",
       "      <td>1.364</td>\n",
       "      <td>1.469</td>\n",
       "      <td>1.305</td>\n",
       "      <td>1.451</td>\n",
       "      <td>1.6</td>\n",
       "      <td>1.385</td>\n",
       "      <td>1.155</td>\n",
       "      <td>1.234</td>\n",
       "      <td>1.239</td>\n",
       "      <td>0.948</td>\n",
       "      <td>1.415</td>\n",
       "      <td>1.43</td>\n",
       "      <td>1.184</td>\n",
       "      <td>1.292</td>\n",
       "      <td>1.384</td>\n",
       "    </tr>\n",
       "    <tr>\n",
       "      <th>4</th>\n",
       "      <td>1.595</td>\n",
       "      <td>1.198</td>\n",
       "      <td>1.223</td>\n",
       "      <td>1.359</td>\n",
       "      <td>1.285</td>\n",
       "      <td>1.288</td>\n",
       "      <td>1.201</td>\n",
       "      <td>1.276</td>\n",
       "      <td>1.101</td>\n",
       "      <td>1.143</td>\n",
       "      <td>1.452</td>\n",
       "      <td>Null</td>\n",
       "      <td>1.272</td>\n",
       "      <td>1.51</td>\n",
       "      <td>1.431</td>\n",
       "      <td>Null</td>\n",
       "      <td>Null</td>\n",
       "      <td>1.527</td>\n",
       "    </tr>\n",
       "  </tbody>\n",
       "</table>\n",
       "</div>"
      ],
      "text/plain": [
       "    2_hr   4_hr   6_hr   8_hr  10_hr  12_hr  14_hr  16_hr  18_hr  20_hr  \\\n",
       "0  1.279  0.962    1.4  1.346   1.18  1.366  1.308  1.498  1.448  1.242   \n",
       "1  0.912  0.855  1.169  0.939   1.17  1.112  1.195   1.31  1.279  1.165   \n",
       "2  3.737  2.737  3.221  3.187  3.269  2.465   2.13  1.964  1.577  1.522   \n",
       "3  1.075  1.051  1.255  1.364  1.469  1.305  1.451    1.6  1.385  1.155   \n",
       "4  1.595  1.198  1.223  1.359  1.285  1.288  1.201  1.276  1.101  1.143   \n",
       "\n",
       "   22_hr  24_hr  26_hr  28_hr  30_hr  32_hr  34_hr  36_hr  \n",
       "0  1.547  1.372  0.935  1.479  1.526   Null  1.398  1.533  \n",
       "1  1.194  1.076  1.142   1.58  1.354   Null   Null  1.222  \n",
       "2  1.587  1.661  1.405  1.925  1.457   Null  1.563   1.66  \n",
       "3  1.234  1.239  0.948  1.415   1.43  1.184  1.292  1.384  \n",
       "4  1.452   Null  1.272   1.51  1.431   Null   Null  1.527  "
      ]
     },
     "execution_count": 65,
     "metadata": {},
     "output_type": "execute_result"
    }
   ],
   "source": [
    "df_human = pd.read_table('../PNAS_2000_datasets/Human.txt', header=1)\n",
    "df_human.loc[:, '2_hr':].head()"
   ]
  },
  {
   "cell_type": "code",
   "execution_count": 66,
   "metadata": {},
   "outputs": [
    {
     "data": {
      "text/plain": [
       "(12056, 18)"
      ]
     },
     "execution_count": 66,
     "metadata": {},
     "output_type": "execute_result"
    }
   ],
   "source": [
    "df_human.loc[:, '2_hr':].shape"
   ]
  },
  {
   "cell_type": "code",
   "execution_count": 63,
   "metadata": {},
   "outputs": [
    {
     "data": {
      "text/html": [
       "<div>\n",
       "<style scoped>\n",
       "    .dataframe tbody tr th:only-of-type {\n",
       "        vertical-align: middle;\n",
       "    }\n",
       "\n",
       "    .dataframe tbody tr th {\n",
       "        vertical-align: top;\n",
       "    }\n",
       "\n",
       "    .dataframe thead th {\n",
       "        text-align: right;\n",
       "    }\n",
       "</style>\n",
       "<table border=\"1\" class=\"dataframe\">\n",
       "  <thead>\n",
       "    <tr style=\"text-align: right;\">\n",
       "      <th></th>\n",
       "      <th>0_min</th>\n",
       "      <th>7_min</th>\n",
       "      <th>14_min</th>\n",
       "      <th>21_min</th>\n",
       "      <th>28_min</th>\n",
       "      <th>35_min</th>\n",
       "      <th>42_min</th>\n",
       "      <th>49_min</th>\n",
       "      <th>56_min</th>\n",
       "      <th>63_min</th>\n",
       "      <th>70_min</th>\n",
       "      <th>77_min</th>\n",
       "      <th>84_min</th>\n",
       "      <th>91_min</th>\n",
       "      <th>98_min</th>\n",
       "      <th>105_min</th>\n",
       "      <th>112_min</th>\n",
       "      <th>119_min</th>\n",
       "    </tr>\n",
       "  </thead>\n",
       "  <tbody>\n",
       "    <tr>\n",
       "      <th>0</th>\n",
       "      <td>0.705</td>\n",
       "      <td>0.511</td>\n",
       "      <td>0.482</td>\n",
       "      <td>0.562</td>\n",
       "      <td>0.654</td>\n",
       "      <td>0.656</td>\n",
       "      <td>0.657</td>\n",
       "      <td>0.798</td>\n",
       "      <td>0.485</td>\n",
       "      <td>0.729</td>\n",
       "      <td>0.679</td>\n",
       "      <td>1.006</td>\n",
       "      <td>0.546</td>\n",
       "      <td>1.008</td>\n",
       "      <td>0.83</td>\n",
       "      <td>0.947</td>\n",
       "      <td>0.684</td>\n",
       "      <td>Null</td>\n",
       "    </tr>\n",
       "    <tr>\n",
       "      <th>1</th>\n",
       "      <td>0.868</td>\n",
       "      <td>0.49</td>\n",
       "      <td>0.791</td>\n",
       "      <td>0.71</td>\n",
       "      <td>0.67</td>\n",
       "      <td>0.631</td>\n",
       "      <td>0.904</td>\n",
       "      <td>1.024</td>\n",
       "      <td>0.799</td>\n",
       "      <td>1.7</td>\n",
       "      <td>0.726</td>\n",
       "      <td>1.384</td>\n",
       "      <td>0.9</td>\n",
       "      <td>1.555</td>\n",
       "      <td>1.077</td>\n",
       "      <td>1.154</td>\n",
       "      <td>1.049</td>\n",
       "      <td>1.096</td>\n",
       "    </tr>\n",
       "    <tr>\n",
       "      <th>2</th>\n",
       "      <td>1.063</td>\n",
       "      <td>0.593</td>\n",
       "      <td>0.757</td>\n",
       "      <td>1.002</td>\n",
       "      <td>0.934</td>\n",
       "      <td>1.149</td>\n",
       "      <td>1.022</td>\n",
       "      <td>1.62</td>\n",
       "      <td>0.861</td>\n",
       "      <td>1.247</td>\n",
       "      <td>0.83</td>\n",
       "      <td>1.082</td>\n",
       "      <td>0.702</td>\n",
       "      <td>1.508</td>\n",
       "      <td>1.043</td>\n",
       "      <td>1.004</td>\n",
       "      <td>0.895</td>\n",
       "      <td>0.964</td>\n",
       "    </tr>\n",
       "    <tr>\n",
       "      <th>3</th>\n",
       "      <td>0.926</td>\n",
       "      <td>0.574</td>\n",
       "      <td>0.533</td>\n",
       "      <td>0.848</td>\n",
       "      <td>0.933</td>\n",
       "      <td>0.89</td>\n",
       "      <td>1.049</td>\n",
       "      <td>Null</td>\n",
       "      <td>0.799</td>\n",
       "      <td>1.583</td>\n",
       "      <td>0.607</td>\n",
       "      <td>1.357</td>\n",
       "      <td>0.702</td>\n",
       "      <td>1.327</td>\n",
       "      <td>0.82</td>\n",
       "      <td>1.243</td>\n",
       "      <td>0.989</td>\n",
       "      <td>1.002</td>\n",
       "    </tr>\n",
       "    <tr>\n",
       "      <th>4</th>\n",
       "      <td>0.667</td>\n",
       "      <td>0.538</td>\n",
       "      <td>0.695</td>\n",
       "      <td>1.111</td>\n",
       "      <td>0.889</td>\n",
       "      <td>1.355</td>\n",
       "      <td>0.99</td>\n",
       "      <td>1.234</td>\n",
       "      <td>0.655</td>\n",
       "      <td>0.868</td>\n",
       "      <td>0.682</td>\n",
       "      <td>1.348</td>\n",
       "      <td>0.929</td>\n",
       "      <td>1.691</td>\n",
       "      <td>1.192</td>\n",
       "      <td>0.937</td>\n",
       "      <td>1.097</td>\n",
       "      <td>0.812</td>\n",
       "    </tr>\n",
       "  </tbody>\n",
       "</table>\n",
       "</div>"
      ],
      "text/plain": [
       "   0_min  7_min 14_min 21_min 28_min 35_min 42_min 49_min 56_min 63_min  \\\n",
       "0  0.705  0.511  0.482  0.562  0.654  0.656  0.657  0.798  0.485  0.729   \n",
       "1  0.868   0.49  0.791   0.71   0.67  0.631  0.904  1.024  0.799    1.7   \n",
       "2  1.063  0.593  0.757  1.002  0.934  1.149  1.022   1.62  0.861  1.247   \n",
       "3  0.926  0.574  0.533  0.848  0.933   0.89  1.049   Null  0.799  1.583   \n",
       "4  0.667  0.538  0.695  1.111  0.889  1.355   0.99  1.234  0.655  0.868   \n",
       "\n",
       "  70_min 77_min 84_min 91_min 98_min 105_min 112_min 119_min  \n",
       "0  0.679  1.006  0.546  1.008   0.83   0.947   0.684    Null  \n",
       "1  0.726  1.384    0.9  1.555  1.077   1.154   1.049   1.096  \n",
       "2   0.83  1.082  0.702  1.508  1.043   1.004   0.895   0.964  \n",
       "3  0.607  1.357  0.702  1.327   0.82   1.243   0.989   1.002  \n",
       "4  0.682  1.348  0.929  1.691  1.192   0.937   1.097   0.812  "
      ]
     },
     "execution_count": 63,
     "metadata": {},
     "output_type": "execute_result"
    }
   ],
   "source": [
    "df_yeast = pd.read_table('../PNAS_2000_datasets/Yeast.txt', header=1)\n",
    "df_yeast.loc[:, '0_min':].head()"
   ]
  },
  {
   "cell_type": "code",
   "execution_count": 64,
   "metadata": {},
   "outputs": [
    {
     "data": {
      "text/plain": [
       "(4523, 18)"
      ]
     },
     "execution_count": 64,
     "metadata": {},
     "output_type": "execute_result"
    }
   ],
   "source": [
    "df_yeast.loc[:, '0_min':].shape"
   ]
  },
  {
   "cell_type": "code",
   "execution_count": 46,
   "metadata": {},
   "outputs": [
    {
     "name": "stdout",
     "output_type": "stream",
     "text": [
      "Index(['YORF', 'NAME', 'PROCESS', 'FUNCTION', 'MICROARRAY_CLASSIFICATION',\n",
      "       'TRADITIONAL_CLASSIFICATION', '0_min', '7_min', '14_min', '21_min',\n",
      "       '28_min', '35_min', '42_min', '49_min', '56_min', '63_min', '70_min',\n",
      "       '77_min', '84_min', '91_min', '98_min', '105_min', '112_min',\n",
      "       '119_min'],\n",
      "      dtype='object')\n"
     ]
    }
   ],
   "source": [
    "print(df_yeast.columns)"
   ]
  },
  {
   "cell_type": "code",
   "execution_count": 45,
   "metadata": {},
   "outputs": [
    {
     "data": {
      "text/plain": [
       "(12056, 23)"
      ]
     },
     "execution_count": 45,
     "metadata": {},
     "output_type": "execute_result"
    }
   ],
   "source": [
    "df_human.shape"
   ]
  },
  {
   "cell_type": "code",
   "execution_count": 47,
   "metadata": {},
   "outputs": [
    {
     "name": "stdout",
     "output_type": "stream",
     "text": [
      "Index(['CLID', 'SYMBOL', 'NAME', 'MICROARRAY_CLASSIFICATION',\n",
      "       'TRADITIONAL_CLASSIFICATION', '2_hr', '4_hr', '6_hr', '8_hr', '10_hr',\n",
      "       '12_hr', '14_hr', '16_hr', '18_hr', '20_hr', '22_hr', '24_hr', '26_hr',\n",
      "       '28_hr', '30_hr', '32_hr', '34_hr', '36_hr'],\n",
      "      dtype='object')\n"
     ]
    }
   ],
   "source": [
    "print(df_human.columns)"
   ]
  },
  {
   "cell_type": "code",
   "execution_count": 55,
   "metadata": {},
   "outputs": [],
   "source": [
    "matrix1 = np.loadtxt('../hogsvd-python/A.txt')\n",
    "\n",
    "params = {\n",
    "    'K': matrix1.shape[1],\n",
    "    'lambda1': 0.01,\n",
    "    'mode': 2,\n",
    "    'modeD': 0,   \n",
    "    'posD': True,\n",
    "    'posAlpha': True,\n",
    "    'verbose': False\n",
    "}\n",
    "\n",
    "\"\"\"\n",
    " param = {\n",
    "            'K': 2,\n",
    "            'lambda1': self.lambda1,\n",
    "            'mode': 2,\n",
    "            'modeD': 0,\n",
    "            'posD': True,\n",
    "            'posAlpha': True,\n",
    "            'verbose': False\n",
    "        }\n",
    "        stain_matrix = spams.trainDL(OD.T, **param).T\n",
    "def get_concentrations(self, image, stain_matrix):\n",
    "        OD = RGB2OD(image).reshape((-1, 3))\n",
    "        if self.maskout_white:\n",
    "            nonwhite_mask = get_nonwhite_mask(\n",
    "                image, self.nonwhite_threshold).reshape((-1, ))\n",
    "            OD = OD[nonwhite_mask]\n",
    "        coefs = spams.lasso(\n",
    "            OD.T, D=stain_matrix.T, mode=2, lambda1=self.lambda1,\n",
    "            pos=True).toarray().T\n",
    "        return coefs\n",
    "\"\"\"        \n",
    "        \n",
    "matrix1_W = spams.trainDL(np.asfortranarray(matrix1), **params)\n",
    "matrix1_H = spams.lasso(np.asfortranarray(matrix1), D=matrix1_W,\n",
    "                        mode=2, lambda1=0.01,\n",
    "                        pos=True).toarray()\n",
    "\n"
   ]
  },
  {
   "cell_type": "code",
   "execution_count": 56,
   "metadata": {},
   "outputs": [
    {
     "data": {
      "text/plain": [
       "(5, 5)"
      ]
     },
     "execution_count": 56,
     "metadata": {},
     "output_type": "execute_result"
    }
   ],
   "source": [
    "matrix1_W.shape"
   ]
  },
  {
   "cell_type": "code",
   "execution_count": 57,
   "metadata": {},
   "outputs": [
    {
     "data": {
      "text/plain": [
       "(5, 5)"
      ]
     },
     "execution_count": 57,
     "metadata": {},
     "output_type": "execute_result"
    }
   ],
   "source": [
    "matrix1_H.shape"
   ]
  },
  {
   "cell_type": "code",
   "execution_count": 58,
   "metadata": {},
   "outputs": [
    {
     "data": {
      "text/plain": [
       "array([[0.        , 0.        , 0.        , 1.72398019, 0.        ],\n",
       "       [0.        , 1.5440279 , 0.        , 0.        , 0.        ],\n",
       "       [0.        , 0.        , 0.        , 0.        , 0.50001829],\n",
       "       [1.48127535, 0.        , 0.        , 0.        , 0.        ],\n",
       "       [0.        , 0.        , 1.6297156 , 0.        , 0.        ]])"
      ]
     },
     "execution_count": 58,
     "metadata": {},
     "output_type": "execute_result"
    }
   ],
   "source": [
    "matrix1_H"
   ]
  },
  {
   "cell_type": "code",
   "execution_count": 33,
   "metadata": {},
   "outputs": [],
   "source": [
    "matrix1 = np.loadtxt('../hogsvd-python/A.txt')\n",
    "matrix2 = np.loadtxt('../hogsvd-python/B.txt')\n",
    "matrix3 = np.loadtxt('../hogsvd-python/C.txt')\n"
   ]
  },
  {
   "cell_type": "code",
   "execution_count": 34,
   "metadata": {},
   "outputs": [
    {
     "data": {
      "text/plain": [
       "[array([[3.09280748, 0.        , 0.        , 0.        , 0.        ],\n",
       "        [0.        , 0.37274234, 0.        , 0.        , 0.        ],\n",
       "        [0.        , 0.        , 0.64861517, 0.        , 0.        ],\n",
       "        [0.        , 0.        , 0.        , 0.99819793, 0.        ],\n",
       "        [0.        , 0.        , 0.        , 0.        , 0.46047133]]),\n",
       " array([[0.0496686 , 0.        , 0.        , 0.        , 0.        ],\n",
       "        [0.        , 2.54977057, 0.        , 0.        , 0.        ],\n",
       "        [0.        , 0.        , 0.5225826 , 0.        , 0.        ],\n",
       "        [0.        , 0.        , 0.        , 0.51731124, 0.        ],\n",
       "        [0.        , 0.        , 0.        , 0.        , 0.83993335]]),\n",
       " array([[1.91481127, 0.        , 0.        , 0.        , 0.        ],\n",
       "        [0.        , 2.10438386, 0.        , 0.        , 0.        ],\n",
       "        [0.        , 0.        , 0.33562861, 0.        , 0.        ],\n",
       "        [0.        , 0.        , 0.        , 0.65995043, 0.        ],\n",
       "        [0.        , 0.        , 0.        , 0.        , 0.7093041 ]])]"
      ]
     },
     "execution_count": 34,
     "metadata": {},
     "output_type": "execute_result"
    }
   ],
   "source": [
    "U, sigmas, V = ho_SVD([matrix1, matrix2, matrix3])\n",
    "sigmas"
   ]
  },
  {
   "cell_type": "code",
   "execution_count": 28,
   "metadata": {},
   "outputs": [
    {
     "data": {
      "text/plain": [
       "[array([[1.88529753, 0.        , 0.        , 0.        , 0.        ],\n",
       "        [0.        , 1.40617122, 0.        , 0.        , 0.        ],\n",
       "        [0.        , 0.        , 1.1980833 , 0.        , 0.        ],\n",
       "        [0.        , 0.        , 0.        , 1.41909373, 0.        ],\n",
       "        [0.        , 0.        , 0.        , 0.        , 1.53383005]]),\n",
       " array([[1.59284129, 0.        , 0.        , 0.        , 0.        ],\n",
       "        [0.        , 0.85229232, 0.        , 0.        , 0.        ],\n",
       "        [0.        , 0.        , 1.42873097, 0.        , 0.        ],\n",
       "        [0.        , 0.        , 0.        , 1.27658053, 0.        ],\n",
       "        [0.        , 0.        , 0.        , 0.        , 0.9030575 ]]),\n",
       " array([[0.7691295 , 0.        , 0.        , 0.        , 0.        ],\n",
       "        [0.        , 1.38869249, 0.        , 0.        , 0.        ],\n",
       "        [0.        , 0.        , 0.88894246, 0.        , 0.        ],\n",
       "        [0.        , 0.        , 0.        , 1.50545459, 0.        ],\n",
       "        [0.        , 0.        , 0.        , 0.        , 1.88933529]])]"
      ]
     },
     "execution_count": 28,
     "metadata": {},
     "output_type": "execute_result"
    }
   ],
   "source": [
    "sigmas"
   ]
  },
  {
   "cell_type": "code",
   "execution_count": 17,
   "metadata": {},
   "outputs": [],
   "source": [
    "def calcHOGSVD(matList):\n",
    "    #assert len(matList)==3\n",
    "    #Step 1: calculate Di^T*Di\n",
    "    aMat = list()\n",
    "    sMat = list()\n",
    "    N = len(matList)\n",
    "    for mat in matList:\n",
    "        D = mat\n",
    "        aMatTemp = np.dot(D.T, D)\n",
    "        aMat.append(aMatTemp)\n",
    "\n",
    "    #calculate pairwise Sij sums\n",
    "    for i in range(len(aMat)):\n",
    "        for j in range(i + 1, len(aMat)):\n",
    "            print(i, j)\n",
    "            sMatTemp = 0.5 * (np.dot(aMat[i], np.linalg.inv(aMat[j])) + np.dot(\n",
    "                aMat[j], np.linalg.inv(aMat[i])))\n",
    "            sMat.append(sMatTemp)\n",
    "\n",
    "    S = np.zeros(sMat[0].shape)\n",
    "\n",
    "    #sum all Si,j matrices to get S\n",
    "    for s in sMat:\n",
    "        S = S + s\n",
    "\n",
    "    #normalize S\n",
    "    S = (2.0 / (N * (N - 1))) * S\n",
    "\n",
    "    #Do the eigen-decomposition on S\n",
    "    L, V = np.linalg.eig(S)\n",
    "\n",
    "    #Calculate the Bi matrices\n",
    "    bMatList = list()\n",
    "    for mat in matList:\n",
    "        D = mat\n",
    "        BT = np.dot(np.linalg.inv(V), D.T)\n",
    "        bMatList.append(BT.T)\n",
    "\n",
    "    #from Bi matrices calculate U and Sigma matrices\n",
    "    sigList = list()\n",
    "    uMatList = list()\n",
    "\n",
    "    for B in bMatList:\n",
    "        sig = np.sqrt(np.sum(B * B, axis=0))\n",
    "        U = B / sig\n",
    "        SIG = np.diag(sig)\n",
    "        sigList.append(SIG)\n",
    "        uMatList.append(U)\n",
    "\n",
    "    return (uMatList, sigList, V)"
   ]
  },
  {
   "cell_type": "code",
   "execution_count": 19,
   "metadata": {},
   "outputs": [
    {
     "name": "stdout",
     "output_type": "stream",
     "text": [
      "0 1\n",
      "0 2\n",
      "1 2\n"
     ]
    },
    {
     "data": {
      "text/plain": [
       "[array([[3.09280748, 0.        , 0.        , 0.        , 0.        ],\n",
       "        [0.        , 0.37274234, 0.        , 0.        , 0.        ],\n",
       "        [0.        , 0.        , 0.64861517, 0.        , 0.        ],\n",
       "        [0.        , 0.        , 0.        , 0.46047133, 0.        ],\n",
       "        [0.        , 0.        , 0.        , 0.        , 0.99819793]]),\n",
       " array([[0.0496686 , 0.        , 0.        , 0.        , 0.        ],\n",
       "        [0.        , 2.54977057, 0.        , 0.        , 0.        ],\n",
       "        [0.        , 0.        , 0.5225826 , 0.        , 0.        ],\n",
       "        [0.        , 0.        , 0.        , 0.83993335, 0.        ],\n",
       "        [0.        , 0.        , 0.        , 0.        , 0.51731124]]),\n",
       " array([[1.91481127, 0.        , 0.        , 0.        , 0.        ],\n",
       "        [0.        , 2.10438386, 0.        , 0.        , 0.        ],\n",
       "        [0.        , 0.        , 0.33562861, 0.        , 0.        ],\n",
       "        [0.        , 0.        , 0.        , 0.7093041 , 0.        ],\n",
       "        [0.        , 0.        , 0.        , 0.        , 0.65995043]])]"
      ]
     },
     "execution_count": 19,
     "metadata": {},
     "output_type": "execute_result"
    }
   ],
   "source": [
    "U, sigmas, V =  calcHOGSVD([matrix1, matrix2, matrix3])\n",
    "sigmas"
   ]
  },
  {
   "cell_type": "code",
   "execution_count": null,
   "metadata": {},
   "outputs": [],
   "source": []
  }
 ],
 "metadata": {
  "kernelspec": {
   "display_name": "Python [conda env:scanpy]",
   "language": "python",
   "name": "conda-env-scanpy-py"
  },
  "language_info": {
   "codemirror_mode": {
    "name": "ipython",
    "version": 3
   },
   "file_extension": ".py",
   "mimetype": "text/x-python",
   "name": "python",
   "nbconvert_exporter": "python",
   "pygments_lexer": "ipython3",
   "version": "3.6.6"
  }
 },
 "nbformat": 4,
 "nbformat_minor": 2
}
